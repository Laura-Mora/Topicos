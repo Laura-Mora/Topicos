{
 "cells": [
  {
   "cell_type": "code",
   "execution_count": 1,
   "metadata": {},
   "outputs": [],
   "source": [
    "import numpy as np\n",
    "from tensorflow.keras.models import Sequential\n",
    "from tensorflow.keras.layers import Dense\n",
    "from tensorflow.keras.layers import LSTM\n",
    "from tensorflow.keras.layers import Embedding\n",
    "from tensorflow.keras.preprocessing.text import Tokenizer\n",
    "from tensorflow.keras.preprocessing.text import text_to_word_sequence\n",
    "import tensorflow as tf\n",
    "import logging\n",
    "tf.get_logger().setLevel(logging.ERROR)"
   ]
  },
  {
   "cell_type": "code",
   "execution_count": 2,
   "metadata": {},
   "outputs": [],
   "source": [
    "EPOCHS = 32\n",
    "BATCH_SIZE = 256\n",
    "INPUT_FILE_NAME = 'C:/Users/pipel/Documents/Javeriana Topicos/Sesion 3/Version 2/Frankenstein.txt'\n",
    "WINDOW_LENGTH = 40\n",
    "WINDOW_STEP = 3\n",
    "PREDICT_LENGTH = 3\n",
    "MAX_WORDS = 10000\n",
    "EMBEDING_WIDTH = 100"
   ]
  },
  {
   "cell_type": "code",
   "execution_count": 3,
   "metadata": {},
   "outputs": [],
   "source": [
    "# Abrir el archivo\n",
    "file = open(INPUT_FILE_NAME, 'r', encoding='utf-8')\n",
    "text = file.read()\n",
    "file.close()\n",
    "\n",
    "# Separar el texto en palabras\n",
    "text = text_to_word_sequence(text)\n",
    "\n",
    "#crear data de entrenamiento\n",
    "fragments =[]\n",
    "targets=[]\n",
    "\n",
    "for i in range(0, len(text) - WINDOW_LENGTH, WINDOW_STEP):\n",
    "    fragments.append(text[i: i+WINDOW_LENGTH])\n",
    "    targets.append(text[i+WINDOW_LENGTH])"
   ]
  },
  {
   "cell_type": "code",
   "execution_count": 4,
   "metadata": {},
   "outputs": [],
   "source": [
    "# Convertir a indices\n",
    "tokenizer = Tokenizer(num_words=MAX_WORDS, oov_token='UNK')\n",
    "tokenizer.fit_on_texts(text)\n",
    "fragments_indexed = tokenizer.texts_to_sequences(fragments)\n",
    "targets_indexed = tokenizer.texts_to_sequences(targets)\n",
    "\n",
    "# Transformar a formatos adecuados\n",
    "X = np.array(fragments_indexed, dtype=np.int)\n",
    "y = np.zeros((len(targets_indexed),MAX_WORDS))\n",
    "for i, target_index in enumerate(targets_indexed):\n",
    "    y[i, target_index]=1"
   ]
  },
  {
   "cell_type": "code",
   "execution_count": 5,
   "metadata": {},
   "outputs": [
    {
     "name": "stdout",
     "output_type": "stream",
     "text": [
      "Model: \"sequential\"\n",
      "_________________________________________________________________\n",
      "Layer (type)                 Output Shape              Param #   \n",
      "=================================================================\n",
      "embedding (Embedding)        (None, None, 100)         1000000   \n",
      "_________________________________________________________________\n",
      "lstm (LSTM)                  (None, None, 128)         117248    \n",
      "_________________________________________________________________\n",
      "lstm_1 (LSTM)                (None, 128)               131584    \n",
      "_________________________________________________________________\n",
      "dense (Dense)                (None, 128)               16512     \n",
      "_________________________________________________________________\n",
      "dense_1 (Dense)              (None, 10000)             1290000   \n",
      "=================================================================\n",
      "Total params: 2,555,344\n",
      "Trainable params: 2,555,344\n",
      "Non-trainable params: 0\n",
      "_________________________________________________________________\n"
     ]
    }
   ],
   "source": [
    "# construir el modelo\n",
    "training_model = Sequential()\n",
    "training_model.add (Embedding(\n",
    "                                output_dim=EMBEDING_WIDTH, input_dim=MAX_WORDS,\n",
    "                                mask_zero=True, input_length=None))\n",
    "training_model.add(LSTM(128, return_sequences= True,\n",
    "                       dropout=0.2,recurrent_dropout=0.2))\n",
    "training_model.add(LSTM(128,\n",
    "                       dropout=0.2,recurrent_dropout=0.2))\n",
    "training_model.add(Dense(128, activation='relu'))\n",
    "training_model.add(Dense(MAX_WORDS, activation='softmax'))\n",
    "\n",
    "training_model.compile(loss='categorical_crossentropy', optimizer='adam')\n",
    "training_model.summary()"
   ]
  },
  {
   "cell_type": "code",
   "execution_count": 36,
   "metadata": {
    "scrolled": true
   },
   "outputs": [
    {
     "name": "stdout",
     "output_type": "stream",
     "text": [
      "Train on 24179 samples, validate on 1273 samples\n",
      "Epoch 1/32\n",
      "24179/24179 - 45s - loss: 4.2620 - val_loss: 12.3880\n",
      "Epoch 2/32\n",
      "24179/24179 - 43s - loss: 4.2108 - val_loss: 12.6769\n",
      "Epoch 3/32\n",
      "24179/24179 - 43s - loss: 4.2084 - val_loss: 12.1934\n",
      "Epoch 4/32\n",
      "24179/24179 - 43s - loss: 4.2148 - val_loss: 12.1311\n",
      "Epoch 5/32\n",
      "24179/24179 - 43s - loss: 4.3169 - val_loss: 12.8531\n",
      "Epoch 6/32\n",
      "24179/24179 - 43s - loss: 4.1419 - val_loss: 13.4457\n",
      "Epoch 7/32\n",
      "24179/24179 - 44s - loss: 4.0140 - val_loss: 13.5498\n",
      "Epoch 8/32\n",
      "24179/24179 - 46s - loss: 3.9556 - val_loss: 13.8036\n",
      "Epoch 9/32\n",
      "24179/24179 - 48s - loss: 3.9006 - val_loss: 13.9680\n",
      "Epoch 10/32\n",
      "24179/24179 - 47s - loss: 3.8613 - val_loss: 14.1043\n",
      "Epoch 11/32\n",
      "24179/24179 - 52s - loss: 3.8141 - val_loss: 14.2515\n",
      "Epoch 12/32\n",
      "24179/24179 - 49s - loss: 3.7673 - val_loss: 14.3641\n",
      "Epoch 13/32\n",
      "24179/24179 - 50s - loss: 3.7219 - val_loss: 14.4267\n",
      "Epoch 14/32\n",
      "24179/24179 - 50s - loss: 3.6776 - val_loss: 14.6533\n",
      "Epoch 15/32\n",
      "24179/24179 - 50s - loss: 3.6337 - val_loss: 14.6770\n",
      "Epoch 16/32\n",
      "24179/24179 - 52s - loss: 3.5878 - val_loss: 14.8010\n",
      "Epoch 17/32\n",
      "24179/24179 - 51s - loss: 3.5515 - val_loss: 14.8395\n",
      "Epoch 18/32\n",
      "24179/24179 - 52s - loss: 3.5254 - val_loss: 14.8853\n",
      "Epoch 19/32\n",
      "24179/24179 - 53s - loss: 3.4827 - val_loss: 15.0567\n",
      "Epoch 20/32\n",
      "24179/24179 - 54s - loss: 3.4441 - val_loss: 15.4084\n",
      "Epoch 21/32\n",
      "24179/24179 - 53s - loss: 3.4011 - val_loss: 15.3043\n",
      "Epoch 22/32\n",
      "24179/24179 - 56s - loss: 3.3571 - val_loss: 15.5048\n",
      "Epoch 23/32\n",
      "24179/24179 - 56s - loss: 3.3247 - val_loss: 15.6066\n",
      "Epoch 24/32\n",
      "24179/24179 - 56s - loss: 3.2722 - val_loss: 15.7770\n",
      "Epoch 25/32\n",
      "24179/24179 - 57s - loss: 3.2269 - val_loss: 15.9878\n",
      "Epoch 26/32\n",
      "24179/24179 - 56s - loss: 3.2230 - val_loss: 15.5871\n",
      "Epoch 27/32\n",
      "24179/24179 - 58s - loss: 3.2696 - val_loss: 15.7862\n",
      "Epoch 28/32\n",
      "24179/24179 - 59s - loss: 3.1539 - val_loss: 16.1303\n",
      "Epoch 29/32\n",
      "24179/24179 - 60s - loss: 3.1127 - val_loss: 16.2127\n",
      "Epoch 30/32\n",
      "24179/24179 - 60s - loss: 3.0784 - val_loss: 16.2567\n",
      "Epoch 31/32\n",
      "24179/24179 - 61s - loss: 3.0345 - val_loss: 16.5233\n",
      "Epoch 32/32\n",
      "24179/24179 - 63s - loss: 2.9941 - val_loss: 16.6824\n"
     ]
    }
   ],
   "source": [
    "#Entrenamiento\n",
    "history = training_model.fit(X,y, validation_split=0.05,\n",
    "                            batch_size=BATCH_SIZE,\n",
    "                            epochs=EPOCHS, verbose=2,\n",
    "                            shuffle=True)"
   ]
  },
  {
   "cell_type": "code",
   "execution_count": 37,
   "metadata": {},
   "outputs": [],
   "source": [
    "#construir modelo para predecir\n",
    "\n",
    "inference_model = Sequential()\n",
    "inference_model.add (Embedding(\n",
    "                                output_dim=EMBEDING_WIDTH, input_dim=MAX_WORDS,\n",
    "                                mask_zero=True, input_length=None))\n",
    "inference_model.add(LSTM(128, return_sequences= True,\n",
    "                       dropout=0.2,recurrent_dropout=0.2))\n",
    "inference_model.add(LSTM(128,\n",
    "                       dropout=0.2,recurrent_dropout=0.2))\n",
    "inference_model.add(Dense(128, activation='relu'))\n",
    "inference_model.add(Dense(MAX_WORDS, activation='softmax'))\n",
    "\n",
    "weights = training_model.get_weights()\n",
    "inference_model.set_weights(weights)"
   ]
  },
  {
   "cell_type": "code",
   "execution_count": 38,
   "metadata": {},
   "outputs": [
    {
     "name": "stdout",
     "output_type": "stream",
     "text": [
      "i saw to to to \n"
     ]
    }
   ],
   "source": [
    "#inicializar una frase\n",
    "\n",
    "first_words = ['i','saw']\n",
    "first_words_indexed = tokenizer.texts_to_sequences(first_words)\n",
    "inference_model.reset_states\n",
    "predicted_string = ''\n",
    "\n",
    "# greedy prediction\n",
    "#inyectar palabras iniciales al modelo\n",
    "for i, word_index in enumerate(first_words_indexed):\n",
    "    x=np.zeros((1,1), dtype=np.int)\n",
    "    x[0][0]=word_index[0]\n",
    "    predicted_string += first_words[i]\n",
    "    predicted_string += ' '\n",
    "    y_predict = inference_model.predict(x, verbose=0)[0]\n",
    "    \n",
    "# Predecir las siguientes PEDICT_LENGTH palabras\n",
    "for i in range (PREDICT_LENGTH):\n",
    "    new_word_index = np.argmax(y_predict)\n",
    "    word = tokenizer.sequences_to_texts(\n",
    "        [[new_word_index]])\n",
    "    x[0][0]=new_word_index\n",
    "    predicted_string += word[0]\n",
    "    predicted_string += ' '\n",
    "    y_predict = inference_model.predict(x, verbose=0)[0]\n",
    "    \n",
    "print(predicted_string)"
   ]
  }
 ],
 "metadata": {
  "kernelspec": {
   "display_name": "Python 3",
   "language": "python",
   "name": "python3"
  },
  "language_info": {
   "codemirror_mode": {
    "name": "ipython",
    "version": 3
   },
   "file_extension": ".py",
   "mimetype": "text/x-python",
   "name": "python",
   "nbconvert_exporter": "python",
   "pygments_lexer": "ipython3",
   "version": "3.7.4"
  }
 },
 "nbformat": 4,
 "nbformat_minor": 2
}
