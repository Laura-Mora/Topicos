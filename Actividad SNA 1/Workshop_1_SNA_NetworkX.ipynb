{
  "nbformat": 4,
  "nbformat_minor": 0,
  "metadata": {
    "kernelspec": {
      "name": "python3",
      "display_name": "Python 3"
    },
    "colab": {
      "provenance": []
    }
  },
  "cells": [
    {
      "cell_type": "markdown",
      "metadata": {
        "id": "InvJHbqcQdVu"
      },
      "source": [
        "# Workshop 1 NetworkX\n",
        "\n",
        "Social Network Science Workshop - SNA, with python NetworkX and Pandas\n",
        "\n",
        "*Luis Gabriel Moreno Sandoval - morenoluis@javeriana.edu.co*\n"
      ]
    },
    {
      "cell_type": "markdown",
      "metadata": {
        "id": "XLU4yYIpQdVw"
      },
      "source": [
        "## Section 1:\n",
        "\n",
        "This part is an exploratory analysis of the advantages of managing SNA social networks with the Python NetworkX library and the ease of integration with our Data science projects.\n",
        "\n",
        "Library documentation: <a>https://networkx.github.io/</a>\n"
      ]
    },
    {
      "cell_type": "code",
      "metadata": {
        "id": "4ZrJpHVWQdVw"
      },
      "source": [
        "import networkx as nx\n",
        "G = nx.Graph()"
      ],
      "execution_count": 1,
      "outputs": []
    },
    {
      "cell_type": "code",
      "metadata": {
        "id": "wzPmX-KTQdV1"
      },
      "source": [
        "# basic add nodes\n",
        "G.add_node(1)\n",
        "G.add_nodes_from([2, 3])"
      ],
      "execution_count": 2,
      "outputs": []
    },
    {
      "cell_type": "code",
      "metadata": {
        "id": "jcV8QxBqWnv4",
        "colab": {
          "base_uri": "https://localhost:8080/"
        },
        "outputId": "00b4e017-20f3-4b4f-8ec0-a4a81fa92b5c"
      },
      "source": [
        "print('Nodes :', G.nodes)"
      ],
      "execution_count": 3,
      "outputs": [
        {
          "output_type": "stream",
          "name": "stdout",
          "text": [
            "Nodes : [1, 2, 3]\n"
          ]
        }
      ]
    },
    {
      "cell_type": "code",
      "metadata": {
        "id": "Sz0yIylVQdV4"
      },
      "source": [
        "# add a group of nodes at once\n",
        "H = nx.path_graph(10)\n",
        "G.add_nodes_from(H)"
      ],
      "execution_count": 4,
      "outputs": []
    },
    {
      "cell_type": "code",
      "metadata": {
        "id": "_88Y96-aW4Tf",
        "colab": {
          "base_uri": "https://localhost:8080/"
        },
        "outputId": "b7df90fb-6a37-46b2-8e38-330ef85f2915"
      },
      "source": [
        "print('H Nodes :', H.nodes)\n",
        "print('G Nodes :', G.nodes)"
      ],
      "execution_count": 5,
      "outputs": [
        {
          "output_type": "stream",
          "name": "stdout",
          "text": [
            "H Nodes : [0, 1, 2, 3, 4, 5, 6, 7, 8, 9]\n",
            "G Nodes : [1, 2, 3, 0, 4, 5, 6, 7, 8, 9]\n"
          ]
        }
      ]
    },
    {
      "cell_type": "code",
      "metadata": {
        "id": "Nti5vsfSQdV_"
      },
      "source": [
        "# add another graph itself as a node\n",
        "G.add_node(H)"
      ],
      "execution_count": 6,
      "outputs": []
    },
    {
      "cell_type": "code",
      "metadata": {
        "id": "w92cCZa6GnNh"
      },
      "source": [
        "G.add_node('gabriel')"
      ],
      "execution_count": 7,
      "outputs": []
    },
    {
      "cell_type": "code",
      "metadata": {
        "id": "l68viaw1W3gP",
        "colab": {
          "base_uri": "https://localhost:8080/"
        },
        "outputId": "0917d15b-bc09-432b-db30-61d07f919ac2"
      },
      "source": [
        "print('G Nodes :', G.nodes)"
      ],
      "execution_count": 8,
      "outputs": [
        {
          "output_type": "stream",
          "name": "stdout",
          "text": [
            "G Nodes : [1, 2, 3, 0, 4, 5, 6, 7, 8, 9, <networkx.classes.graph.Graph object at 0x7fa6e8264810>, 'gabriel']\n"
          ]
        }
      ]
    },
    {
      "cell_type": "code",
      "metadata": {
        "id": "zRupokhIsKNS"
      },
      "source": [
        "# obj_1 = {'name':'Gabriel', 'age':37}\n",
        "# G.add_node(obj_1)"
      ],
      "execution_count": null,
      "outputs": []
    },
    {
      "cell_type": "code",
      "metadata": {
        "id": "2KLBEjOIrtQV",
        "colab": {
          "base_uri": "https://localhost:8080/"
        },
        "outputId": "754e9276-7f7b-43fd-f361-14f4de668290"
      },
      "source": [
        "G.clear_edges()\n",
        "G.edges"
      ],
      "execution_count": 9,
      "outputs": [
        {
          "output_type": "execute_result",
          "data": {
            "text/plain": [
              "EdgeView([])"
            ]
          },
          "metadata": {},
          "execution_count": 9
        }
      ]
    },
    {
      "cell_type": "code",
      "metadata": {
        "id": "AO1IIElZQdWH",
        "colab": {
          "base_uri": "https://localhost:8080/"
        },
        "outputId": "fcc1dcb3-ffbe-4de8-a05f-5233bb560e75"
      },
      "source": [
        "# add edges using similar methods\n",
        "G.add_edge(1, 2)\n",
        "print('Edges #1:', G.edges)\n",
        "e = (2, 3)\n",
        "e_2 = [2, 3]\n",
        "print('e', e)\n",
        "print('e_2', e_2)\n",
        "G.add_edge(*e)\n",
        "print('Edges #2.1:', G.edges)\n",
        "G.add_edges_from([(1, 2), (1, 3)])\n",
        "print('Edges #3:', G.edges)\n",
        "G.add_edges_from(H.edges())\n",
        "print('Edges #4:', G.edges)"
      ],
      "execution_count": 10,
      "outputs": [
        {
          "output_type": "stream",
          "name": "stdout",
          "text": [
            "Edges #1: [(1, 2)]\n",
            "e (2, 3)\n",
            "e_2 [2, 3]\n",
            "Edges #2.1: [(1, 2), (2, 3)]\n",
            "Edges #3: [(1, 2), (1, 3), (2, 3)]\n",
            "Edges #4: [(1, 2), (1, 3), (1, 0), (2, 3), (3, 4), (4, 5), (5, 6), (6, 7), (7, 8), (8, 9)]\n"
          ]
        }
      ]
    },
    {
      "cell_type": "code",
      "metadata": {
        "colab": {
          "base_uri": "https://localhost:8080/"
        },
        "id": "QTE9EAgtHvrY",
        "outputId": "46b6a4ef-1a21-40c6-a212-4052a2f98c50"
      },
      "source": [
        "G.add_edge(1, 'gabriel')\n",
        "print('Edges #5:', G.edges)"
      ],
      "execution_count": 11,
      "outputs": [
        {
          "output_type": "stream",
          "name": "stdout",
          "text": [
            "Edges #5: [(1, 2), (1, 3), (1, 0), (1, 'gabriel'), (2, 3), (3, 4), (4, 5), (5, 6), (6, 7), (7, 8), (8, 9)]\n"
          ]
        }
      ]
    },
    {
      "cell_type": "code",
      "source": [
        "nx.draw(G)"
      ],
      "metadata": {
        "colab": {
          "base_uri": "https://localhost:8080/",
          "height": 319
        },
        "id": "XB73q6M1F1jI",
        "outputId": "b4a6280c-98c5-4fbd-c84a-ca4274c494dd"
      },
      "execution_count": 12,
      "outputs": [
        {
          "output_type": "display_data",
          "data": {
            "text/plain": [
              "<Figure size 432x288 with 1 Axes>"
            ],
            "image/png": "[encoded data removed]"
          },
          "metadata": {}
        }
      ]
    },
    {
      "cell_type": "code",
      "metadata": {
        "id": "QXhNxcc0W6te",
        "colab": {
          "base_uri": "https://localhost:8080/"
        },
        "outputId": "743a1fb0-45da-4a83-8f76-8de42c0eefa9"
      },
      "source": [
        "print('G Edges :', G.edges)"
      ],
      "execution_count": 13,
      "outputs": [
        {
          "output_type": "stream",
          "name": "stdout",
          "text": [
            "G Edges : [(1, 2), (1, 3), (1, 0), (1, 'gabriel'), (2, 3), (3, 4), (4, 5), (5, 6), (6, 7), (7, 8), (8, 9)]\n"
          ]
        }
      ]
    },
    {
      "cell_type": "code",
      "metadata": {
        "id": "o3n4k16bQdWK",
        "colab": {
          "base_uri": "https://localhost:8080/"
        },
        "outputId": "f0b1dffe-0953-4835-ee8a-c3eb954737d9"
      },
      "source": [
        "# can also remove or clear\n",
        "G.remove_node(H)\n",
        "print('Nodes :', G.nodes)"
      ],
      "execution_count": 14,
      "outputs": [
        {
          "output_type": "stream",
          "name": "stdout",
          "text": [
            "Nodes : [1, 2, 3, 0, 4, 5, 6, 7, 8, 9, 'gabriel']\n"
          ]
        }
      ]
    },
    {
      "cell_type": "code",
      "metadata": {
        "id": "G5PzpB6Tbodf",
        "colab": {
          "base_uri": "https://localhost:8080/"
        },
        "outputId": "50089117-e3a0-40fa-e064-b38a3fbf4c02"
      },
      "source": [
        "G.clear()\n",
        "print('Nodes :', G.nodes)\n",
        "print('Edges :', G.edges)"
      ],
      "execution_count": 15,
      "outputs": [
        {
          "output_type": "stream",
          "name": "stdout",
          "text": [
            "Nodes : []\n",
            "Edges : []\n"
          ]
        }
      ]
    },
    {
      "cell_type": "code",
      "metadata": {
        "id": "LXRTbJnTQdWN",
        "colab": {
          "base_uri": "https://localhost:8080/"
        },
        "outputId": "f2934ae5-4811-4831-8376-be6ac7d76c75"
      },
      "source": [
        "# repeats are ignored\n",
        "G.add_edges_from([(1,2),(1,3)])\n",
        "print('Nodes #1:', G.nodes)\n",
        "G.add_node(1)\n",
        "print('Nodes #2:', G.nodes)\n",
        "G.add_edge(1,2)\n",
        "print('Nodes #3:', G.nodes)\n",
        "G.add_node('spam')       # adds node \"spam\"\n",
        "print('Nodes #4:', G.nodes)\n",
        "G.add_nodes_from('spam') # adds 4 nodes: 's', 'p', 'a', 'm'\n",
        "G.add_nodes_from('1234') \n",
        "print('Nodes #5:', G.nodes)"
      ],
      "execution_count": 16,
      "outputs": [
        {
          "output_type": "stream",
          "name": "stdout",
          "text": [
            "Nodes #1: [1, 2, 3]\n",
            "Nodes #2: [1, 2, 3]\n",
            "Nodes #3: [1, 2, 3]\n",
            "Nodes #4: [1, 2, 3, 'spam']\n",
            "Nodes #5: [1, 2, 3, 'spam', 's', 'p', 'a', 'm', '1', '2', '3', '4']\n"
          ]
        }
      ]
    },
    {
      "cell_type": "code",
      "metadata": {
        "colab": {
          "base_uri": "https://localhost:8080/"
        },
        "id": "ViR_zlPKJFTO",
        "outputId": "66db2e03-cd90-428f-b240-a31db2305d31"
      },
      "source": [
        "G.add_nodes_from('spam.,!')\n",
        "print('Nodes #6:', G.nodes)"
      ],
      "execution_count": 17,
      "outputs": [
        {
          "output_type": "stream",
          "name": "stdout",
          "text": [
            "Nodes #6: [1, 2, 3, 'spam', 's', 'p', 'a', 'm', '1', '2', '3', '4', '.', ',', '!']\n"
          ]
        }
      ]
    },
    {
      "cell_type": "code",
      "metadata": {
        "id": "oc55Eys1bzys",
        "colab": {
          "base_uri": "https://localhost:8080/"
        },
        "outputId": "a3863afb-d0cf-4993-9dff-80a957e61809"
      },
      "source": [
        "print('Nodes :', G.nodes)\n",
        "print('Edges :', G.edges)"
      ],
      "execution_count": 18,
      "outputs": [
        {
          "output_type": "stream",
          "name": "stdout",
          "text": [
            "Nodes : [1, 2, 3, 'spam', 's', 'p', 'a', 'm', '1', '2', '3', '4', '.', ',', '!']\n",
            "Edges : [(1, 2), (1, 3)]\n"
          ]
        }
      ]
    },
    {
      "cell_type": "code",
      "metadata": {
        "id": "LrDJknr8QdWS",
        "colab": {
          "base_uri": "https://localhost:8080/"
        },
        "outputId": "170d349b-9c77-404e-eddc-93823d956b42"
      },
      "source": [
        "# get the number of nodes and edges\n",
        "G.number_of_nodes(), G.number_of_edges()"
      ],
      "execution_count": 19,
      "outputs": [
        {
          "output_type": "execute_result",
          "data": {
            "text/plain": [
              "(15, 2)"
            ]
          },
          "metadata": {},
          "execution_count": 19
        }
      ]
    },
    {
      "cell_type": "code",
      "metadata": {
        "id": "F25qQuQcQdWb"
      },
      "source": [
        "# set an attribute of an edge\n",
        "# G.add_edge(1,3)\n",
        "G[1][3]['color'] = 'blue'"
      ],
      "execution_count": 20,
      "outputs": []
    },
    {
      "cell_type": "code",
      "metadata": {
        "colab": {
          "base_uri": "https://localhost:8080/"
        },
        "id": "8LEUqi0MJpUe",
        "outputId": "2e3ef3d5-b0bc-4a7f-e6aa-aafbec1dbf72"
      },
      "source": [
        "print(G[1][3]['color'])"
      ],
      "execution_count": 21,
      "outputs": [
        {
          "output_type": "stream",
          "name": "stdout",
          "text": [
            "blue\n"
          ]
        }
      ]
    },
    {
      "cell_type": "code",
      "metadata": {
        "id": "aJOCPvOeQdWe",
        "colab": {
          "base_uri": "https://localhost:8080/"
        },
        "outputId": "20f43a9d-f784-4f18-8a12-b53800bc8f24"
      },
      "source": [
        "FG = nx.Graph()\n",
        "FG.add_weighted_edges_from([(1, 2, 0.125), (1, 3, 0.75), (2, 4, 1.2), (3, 4, 0.375)])\n",
        "\n",
        "for n, nbrs in FG.adjacency():\n",
        "    #print(n, nbrs)\n",
        "    for nbr, eattr in nbrs.items():\n",
        "        data = eattr['weight']\n",
        "        if data < 0.5: print('(%d, %d, %.3f)' % (n, nbr, data))"
      ],
      "execution_count": 22,
      "outputs": [
        {
          "output_type": "stream",
          "name": "stdout",
          "text": [
            "(1, 2, 0.125)\n",
            "(2, 1, 0.125)\n",
            "(3, 4, 0.375)\n",
            "(4, 3, 0.375)\n"
          ]
        }
      ]
    },
    {
      "cell_type": "code",
      "metadata": {
        "colab": {
          "base_uri": "https://localhost:8080/"
        },
        "id": "QsTf629fwUik",
        "outputId": "6fb52476-04ef-4356-f2b8-d076fec16912"
      },
      "source": [
        "FG.adjacency()"
      ],
      "execution_count": 23,
      "outputs": [
        {
          "output_type": "execute_result",
          "data": {
            "text/plain": [
              "<dict_itemiterator at 0x7fa6e61afef0>"
            ]
          },
          "metadata": {},
          "execution_count": 23
        }
      ]
    },
    {
      "cell_type": "code",
      "metadata": {
        "id": "yPuNsRspX-iY",
        "colab": {
          "base_uri": "https://localhost:8080/",
          "height": 319
        },
        "outputId": "0ec38d50-8cf2-4466-dd83-32976db9a51e"
      },
      "source": [
        "nx.draw(FG, node_color='green')"
      ],
      "execution_count": 24,
      "outputs": [
        {
          "output_type": "display_data",
          "data": {
            "text/plain": [
              "<Figure size 432x288 with 1 Axes>"
            ],
            "image/png": "[encoded data removed]"
          },
          "metadata": {}
        }
      ]
    },
    {
      "cell_type": "code",
      "metadata": {
        "id": "TIFHp0fOQdWh",
        "colab": {
          "base_uri": "https://localhost:8080/"
        },
        "outputId": "186251ab-40d4-419e-9d8b-c27753b76b35"
      },
      "source": [
        "# graph attribte\n",
        "G = nx.Graph(day='Friday')\n",
        "G.graph"
      ],
      "execution_count": 25,
      "outputs": [
        {
          "output_type": "execute_result",
          "data": {
            "text/plain": [
              "{'day': 'Friday'}"
            ]
          },
          "metadata": {},
          "execution_count": 25
        }
      ]
    },
    {
      "cell_type": "code",
      "metadata": {
        "id": "W7gWE19hQdWk",
        "colab": {
          "base_uri": "https://localhost:8080/"
        },
        "outputId": "5463ba48-707a-4343-a4a9-dd2e7e127d32"
      },
      "source": [
        "# modifying an attribute\n",
        "G.graph['day'] = 'Monday'\n",
        "G.graph"
      ],
      "execution_count": 26,
      "outputs": [
        {
          "output_type": "execute_result",
          "data": {
            "text/plain": [
              "{'day': 'Monday'}"
            ]
          },
          "metadata": {},
          "execution_count": 26
        }
      ]
    },
    {
      "cell_type": "code",
      "metadata": {
        "colab": {
          "base_uri": "https://localhost:8080/"
        },
        "id": "GDjyuc2IK-Qa",
        "outputId": "86618109-78a4-47b4-ef13-9fa1c7465f4f"
      },
      "source": [
        "G.nodes, G.edges"
      ],
      "execution_count": null,
      "outputs": [
        {
          "output_type": "execute_result",
          "data": {
            "text/plain": [
              "(NodeView(()), EdgeView([]))"
            ]
          },
          "metadata": {},
          "execution_count": 35
        }
      ]
    },
    {
      "cell_type": "code",
      "metadata": {
        "id": "dSUcJIlhQdWm",
        "colab": {
          "base_uri": "https://localhost:8080/"
        },
        "outputId": "1fcfd10d-2a2c-4d53-ba83-4ae68fb837f7"
      },
      "source": [
        "# node attributes\n",
        "G.add_node(5)\n",
        "G.add_node(1, time='5pm')\n",
        "G.add_node(7, day='Monday', time='12pm')\n",
        "print('Nodes 1:', G.nodes)\n",
        "G.add_nodes_from([3, 4], time='2pm')\n",
        "print('Nodes 2:', G.nodes)\n",
        "print(G.nodes(data=True))\n",
        "print('Nodes 3:', G.nodes)"
      ],
      "execution_count": 27,
      "outputs": [
        {
          "output_type": "stream",
          "name": "stdout",
          "text": [
            "Nodes 1: [5, 1, 7]\n",
            "Nodes 2: [5, 1, 7, 3, 4]\n",
            "[(5, {}), (1, {'time': '5pm'}), (7, {'day': 'Monday', 'time': '12pm'}), (3, {'time': '2pm'}), (4, {'time': '2pm'})]\n",
            "Nodes 3: [5, 1, 7, 3, 4]\n"
          ]
        }
      ]
    },
    {
      "cell_type": "code",
      "source": [
        "nx.draw(G, node_color='green')"
      ],
      "metadata": {
        "colab": {
          "base_uri": "https://localhost:8080/",
          "height": 319
        },
        "id": "_X90AMfqlZzd",
        "outputId": "ae3f50cb-59ca-4be4-b02e-b52ebf5b78c0"
      },
      "execution_count": null,
      "outputs": [
        {
          "output_type": "display_data",
          "data": {
            "text/plain": [
              "<Figure size 432x288 with 1 Axes>"
            ],
            "image/png": "[encoded data removed]"
          },
          "metadata": {}
        }
      ]
    },
    {
      "cell_type": "code",
      "metadata": {
        "id": "7WoMeazdyOTQ"
      },
      "source": [
        "G.clear_edges()"
      ],
      "execution_count": 28,
      "outputs": []
    },
    {
      "cell_type": "code",
      "source": [],
      "metadata": {
        "id": "BfHdibIWlUBl"
      },
      "execution_count": null,
      "outputs": []
    },
    {
      "cell_type": "code",
      "metadata": {
        "id": "TECm2ioYQdWo",
        "colab": {
          "base_uri": "https://localhost:8080/"
        },
        "outputId": "e71b0ed2-8ffe-456e-b4f1-3dffefe90d5e"
      },
      "source": [
        "# edge attributes (weight is a special numeric attribute)\n",
        "G.add_edge(1, 2, weight=4.7)\n",
        "print(G.edges(data=True))\n",
        "G.add_edges_from([(3, 4), (4, 5)], color='red')\n",
        "G.add_edges_from([(1, 2 ,{'color': 'blue'}), (2, 3, {'weight' :8})])\n",
        "G[1][2]['weight'] = 4.8\n",
        "print(G.edges(data=True))"
      ],
      "execution_count": 29,
      "outputs": [
        {
          "output_type": "stream",
          "name": "stdout",
          "text": [
            "[(1, 2, {'weight': 4.7})]\n",
            "[(5, 4, {'color': 'red'}), (1, 2, {'weight': 4.8, 'color': 'blue'}), (3, 4, {'color': 'red'}), (3, 2, {'weight': 8})]\n"
          ]
        }
      ]
    },
    {
      "cell_type": "code",
      "metadata": {
        "id": "KKWcVWgNiobq",
        "colab": {
          "base_uri": "https://localhost:8080/"
        },
        "outputId": "18f91c5b-2cf0-4de8-ce83-d05d076d622a"
      },
      "source": [
        "print('Nodos Data : ', G.nodes(data=True))\n",
        "print('Edges Data :', G.edges(data=True))"
      ],
      "execution_count": 30,
      "outputs": [
        {
          "output_type": "stream",
          "name": "stdout",
          "text": [
            "Nodos Data :  [(5, {}), (1, {'time': '5pm'}), (7, {'day': 'Monday', 'time': '12pm'}), (3, {'time': '2pm'}), (4, {'time': '2pm'}), (2, {})]\n",
            "Edges Data : [(5, 4, {'color': 'red'}), (1, 2, {'weight': 4.8, 'color': 'blue'}), (3, 4, {'color': 'red'}), (3, 2, {'weight': 8})]\n"
          ]
        }
      ]
    },
    {
      "cell_type": "code",
      "metadata": {
        "id": "mg_fXUu9kg5M",
        "colab": {
          "base_uri": "https://localhost:8080/"
        },
        "outputId": "f62eeb1b-6574-43f6-dc71-a4305e68353f"
      },
      "source": [
        "print('Nodes :', G.nodes)\n",
        "print('Edges :', G.edges)"
      ],
      "execution_count": 31,
      "outputs": [
        {
          "output_type": "stream",
          "name": "stdout",
          "text": [
            "Nodes : [5, 1, 7, 3, 4, 2]\n",
            "Edges : [(5, 4), (1, 2), (3, 4), (3, 2)]\n"
          ]
        }
      ]
    },
    {
      "cell_type": "code",
      "metadata": {
        "id": "83fLlszMy1K9",
        "colab": {
          "base_uri": "https://localhost:8080/"
        },
        "outputId": "fb6b881b-238a-424f-c770-e52f20ee1985"
      },
      "source": [
        "# directed graph\n",
        "DG = nx.DiGraph()\n",
        "DG.add_weighted_edges_from([(1, 2 ,0.6), (3, 1, 0.85), (3, 4, 1.4), (5, 3, 1.2)])\n",
        "print('all_degree 1:', DG.degree(1, weight='weight'))\n",
        "print('all_degree 3:', DG.degree(3, weight='weight'))\n",
        "print('out_degree 1:', DG.out_degree(1, weight='weight'))\n",
        "print('in_degree 1:', DG.in_degree(1, weight='weight'))\n",
        "print('out_degree 3:', DG.out_degree(3, weight='weight'))\n",
        "print('in_degree 3:', DG.in_degree(3, weight='weight'))"
      ],
      "execution_count": 32,
      "outputs": [
        {
          "output_type": "stream",
          "name": "stdout",
          "text": [
            "all_degree 1: 1.45\n",
            "all_degree 3: 3.45\n",
            "out_degree 1: 0.6\n",
            "in_degree 1: 0.85\n",
            "out_degree 3: 2.25\n",
            "in_degree 3: 1.2\n"
          ]
        }
      ]
    },
    {
      "cell_type": "code",
      "source": [
        "DC(1) = 2, 1\n",
        "DC(2) = 0\n",
        "DC(3) = 2\n",
        "out_dg(1) = 1\n",
        "\n"
      ],
      "metadata": {
        "id": "hsx8-j_Sm0Tp",
        "colab": {
          "base_uri": "https://localhost:8080/",
          "height": 133
        },
        "outputId": "38d14563-8468-4937-e136-a1fd597e7e2e"
      },
      "execution_count": null,
      "outputs": [
        {
          "output_type": "error",
          "ename": "SyntaxError",
          "evalue": "ignored",
          "traceback": [
            "\u001b[0;36m  File \u001b[0;32m\"<ipython-input-46-9708aaa70436>\"\u001b[0;36m, line \u001b[0;32m1\u001b[0m\n\u001b[0;31m    DC(1) = 2, 1\u001b[0m\n\u001b[0m                ^\u001b[0m\n\u001b[0;31mSyntaxError\u001b[0m\u001b[0;31m:\u001b[0m can't assign to function call\n"
          ]
        }
      ]
    },
    {
      "cell_type": "code",
      "metadata": {
        "colab": {
          "base_uri": "https://localhost:8080/"
        },
        "id": "13rL2Js1PWSp",
        "outputId": "9b6ad1c7-891d-43dd-89a1-9d414d736bd8"
      },
      "source": [
        "for item_n in DG.nodes:\n",
        "  print(item_n, '-' * 100)\n",
        "  print('all_degree', DG.degree(item_n, weight='weight'))\n",
        "  print('out_degree', DG.out_degree(item_n, weight='weight'))\n",
        "  print('in_degree', DG.in_degree(item_n, weight='weight'))"
      ],
      "execution_count": 33,
      "outputs": [
        {
          "output_type": "stream",
          "name": "stdout",
          "text": [
            "1 ----------------------------------------------------------------------------------------------------\n",
            "all_degree 1.45\n",
            "out_degree 0.6\n",
            "in_degree 0.85\n",
            "2 ----------------------------------------------------------------------------------------------------\n",
            "all_degree 0.6\n",
            "out_degree 0\n",
            "in_degree 0.6\n",
            "3 ----------------------------------------------------------------------------------------------------\n",
            "all_degree 3.45\n",
            "out_degree 2.25\n",
            "in_degree 1.2\n",
            "4 ----------------------------------------------------------------------------------------------------\n",
            "all_degree 1.4\n",
            "out_degree 0\n",
            "in_degree 1.4\n",
            "5 ----------------------------------------------------------------------------------------------------\n",
            "all_degree 1.2\n",
            "out_degree 1.2\n",
            "in_degree 0\n"
          ]
        }
      ]
    },
    {
      "cell_type": "code",
      "metadata": {
        "id": "vg-_sONXQdWt",
        "colab": {
          "base_uri": "https://localhost:8080/"
        },
        "outputId": "f9fdf7d2-b095-45d6-91f6-2a3ba95b2a93"
      },
      "source": [
        "print('all_degree', DG.degree(1, weight='weight'))"
      ],
      "execution_count": 34,
      "outputs": [
        {
          "output_type": "stream",
          "name": "stdout",
          "text": [
            "all_degree 1.45\n"
          ]
        }
      ]
    },
    {
      "cell_type": "code",
      "metadata": {
        "id": "4Us44l38QdWw",
        "colab": {
          "base_uri": "https://localhost:8080/"
        },
        "outputId": "a22bd27e-0416-4592-c3cd-1bc7f5c468ff"
      },
      "source": [
        "for item in DG.successors(3):\n",
        "  print(item)"
      ],
      "execution_count": 35,
      "outputs": [
        {
          "output_type": "stream",
          "name": "stdout",
          "text": [
            "1\n",
            "4\n"
          ]
        }
      ]
    },
    {
      "cell_type": "code",
      "metadata": {
        "id": "ez4fdKBsQdWy",
        "colab": {
          "base_uri": "https://localhost:8080/"
        },
        "outputId": "f5b3d58e-a959-4532-dbc0-33e0c3ab6148"
      },
      "source": [
        "for item in DG.predecessors(3):\n",
        "    print(item)"
      ],
      "execution_count": 36,
      "outputs": [
        {
          "output_type": "stream",
          "name": "stdout",
          "text": [
            "5\n"
          ]
        }
      ]
    },
    {
      "cell_type": "code",
      "metadata": {
        "id": "WXUZVrE_QdW0"
      },
      "source": [
        "# convert to undirected graph\n",
        "H = nx.Graph(G)"
      ],
      "execution_count": 37,
      "outputs": []
    },
    {
      "cell_type": "code",
      "metadata": {
        "id": "epcmEXSqQdW2",
        "colab": {
          "base_uri": "https://localhost:8080/",
          "height": 319
        },
        "outputId": "0198717f-c606-4734-d2e5-371295e70be7"
      },
      "source": [
        "# basic graph drawing capability\n",
        "# %matplotlib inline\n",
        "# import matplotlib.pyplot as plt\n",
        "nx.draw(G, node_color='blue')"
      ],
      "execution_count": 38,
      "outputs": [
        {
          "output_type": "display_data",
          "data": {
            "text/plain": [
              "<Figure size 432x288 with 1 Axes>"
            ],
            "image/png": "[encoded data removed]"
          },
          "metadata": {}
        }
      ]
    },
    {
      "cell_type": "code",
      "metadata": {
        "id": "gstMHW_amaXd",
        "colab": {
          "base_uri": "https://localhost:8080/",
          "height": 319
        },
        "outputId": "e4a06ffb-94e7-4002-962b-c3569ad77df2"
      },
      "source": [
        "nx.draw(DG, node_color='green')"
      ],
      "execution_count": 39,
      "outputs": [
        {
          "output_type": "display_data",
          "data": {
            "text/plain": [
              "<Figure size 432x288 with 1 Axes>"
            ],
            "image/png": "[encoded data removed]"
          },
          "metadata": {}
        }
      ]
    },
    {
      "cell_type": "markdown",
      "metadata": {
        "id": "WxM6aCk-mwQv"
      },
      "source": []
    },
    {
      "cell_type": "markdown",
      "metadata": {
        "id": "7qgAtMqOm1XQ"
      },
      "source": [
        "## Section 2:\n",
        "\n",
        "How to weave a network with data obtained from external sources with Pandas.\n"
      ]
    },
    {
      "cell_type": "code",
      "metadata": {
        "id": "_905v67bnGOW"
      },
      "source": [
        "%matplotlib inline\n",
        "\n",
        "import pandas as pd\n",
        "import networkx as nx\n",
        "\n",
        "import matplotlib.pyplot as plt\n",
        "# Ignore matplotlib warnings\n",
        "import warnings\n",
        "# warnings.filterwarnings(\"ignore\")"
      ],
      "execution_count": 40,
      "outputs": []
    },
    {
      "cell_type": "code",
      "metadata": {
        "id": "wypPxFofRhO2",
        "colab": {
          "base_uri": "https://localhost:8080/"
        },
        "outputId": "1570cc28-ef23-488e-bf6c-79ef5493e7fe"
      },
      "source": [
        "df = pd.read_excel(\"Cuentas de Twitter.xlsx\")\n",
        "df.head"
      ],
      "execution_count": 41,
      "outputs": [
        {
          "output_type": "execute_result",
          "data": {
            "text/plain": [
              "<bound method NDFrame.head of               NodeA              NodeB  TypeA  TypeB  W\n",
              "0   gabrielmoreno10    liliana_pantoja      1      0  3\n",
              "1   gabrielmoreno10       VickyDavilaH      1      0  1\n",
              "2   gabrielmoreno10       MAndreaNieto      1      0  2\n",
              "3   gabrielmoreno10    fabianpallaresj      1      1  2\n",
              "4            sperez             daniel      0      1  5\n",
              "..              ...                ...    ...    ... ..\n",
              "62  fabianpallaresj    beatriz_apinzon      1      0  4\n",
              "63  fabianpallaresj       nicolas_mora      1      1  3\n",
              "64   diegoRamirez36            messi10      1      1  1\n",
              "65   diegoRamirez36  cristiano_ronaldo      1      1  1\n",
              "66    gardeazabal48         camigomez_      1      0  5\n",
              "\n",
              "[67 rows x 5 columns]>"
            ]
          },
          "metadata": {},
          "execution_count": 41
        }
      ]
    },
    {
      "cell_type": "code",
      "metadata": {
        "id": "VsiaOR-JnLYY"
      },
      "source": [
        "# df = pd.read_csv(\"CuentasTwitter_V3.csv\", sep=\";\")\n",
        "# df.head"
      ],
      "execution_count": null,
      "outputs": []
    },
    {
      "cell_type": "code",
      "metadata": {
        "id": "SxHhdfognwxc",
        "colab": {
          "base_uri": "https://localhost:8080/",
          "height": 319
        },
        "outputId": "d585f5a9-3b8c-41ea-acac-34d644361771"
      },
      "source": [
        "g = nx.from_pandas_edgelist(df, source='NodeA', target='NodeB') \n",
        "nx.draw(g, node_color='purple')"
      ],
      "execution_count": 44,
      "outputs": [
        {
          "output_type": "display_data",
          "data": {
            "text/plain": [
              "<Figure size 432x288 with 1 Axes>"
            ],
            "image/png": "[encoded data removed]"
          },
          "metadata": {}
        }
      ]
    },
    {
      "cell_type": "code",
      "metadata": {
        "colab": {
          "base_uri": "https://localhost:8080/"
        },
        "id": "Ul6M7fWIpdwC",
        "outputId": "a214a3b4-7986-4f35-f741-f2a4808cd393"
      },
      "source": [
        "!pip install pyvis"
      ],
      "execution_count": 45,
      "outputs": [
        {
          "output_type": "stream",
          "name": "stdout",
          "text": [
            "Looking in indexes: https://pypi.org/simple, https://us-python.pkg.dev/colab-wheels/public/simple/\n",
            "Collecting pyvis\n",
            "  Downloading pyvis-0.3.0.tar.gz (592 kB)\n",
            "\u001b[K     |████████████████████████████████| 592 kB 2.0 MB/s \n",
            "\u001b[?25hRequirement already satisfied: jinja2>=2.9.6 in /usr/local/lib/python3.7/dist-packages (from pyvis) (2.11.3)\n",
            "Requirement already satisfied: networkx>=1.11 in /usr/local/lib/python3.7/dist-packages (from pyvis) (2.6.3)\n",
            "Requirement already satisfied: ipython>=5.3.0 in /usr/local/lib/python3.7/dist-packages (from pyvis) (7.9.0)\n",
            "Collecting jsonpickle>=1.4.1\n",
            "  Downloading jsonpickle-2.2.0-py2.py3-none-any.whl (39 kB)\n",
            "Requirement already satisfied: backcall in /usr/local/lib/python3.7/dist-packages (from ipython>=5.3.0->pyvis) (0.2.0)\n",
            "Collecting jedi>=0.10\n",
            "  Downloading jedi-0.18.1-py2.py3-none-any.whl (1.6 MB)\n",
            "\u001b[K     |████████████████████████████████| 1.6 MB 58.6 MB/s \n",
            "\u001b[?25hRequirement already satisfied: prompt-toolkit<2.1.0,>=2.0.0 in /usr/local/lib/python3.7/dist-packages (from ipython>=5.3.0->pyvis) (2.0.10)\n",
            "Requirement already satisfied: pygments in /usr/local/lib/python3.7/dist-packages (from ipython>=5.3.0->pyvis) (2.6.1)\n",
            "Requirement already satisfied: traitlets>=4.2 in /usr/local/lib/python3.7/dist-packages (from ipython>=5.3.0->pyvis) (5.1.1)\n",
            "Requirement already satisfied: pexpect in /usr/local/lib/python3.7/dist-packages (from ipython>=5.3.0->pyvis) (4.8.0)\n",
            "Requirement already satisfied: setuptools>=18.5 in /usr/local/lib/python3.7/dist-packages (from ipython>=5.3.0->pyvis) (57.4.0)\n",
            "Requirement already satisfied: decorator in /usr/local/lib/python3.7/dist-packages (from ipython>=5.3.0->pyvis) (4.4.2)\n",
            "Requirement already satisfied: pickleshare in /usr/local/lib/python3.7/dist-packages (from ipython>=5.3.0->pyvis) (0.7.5)\n",
            "Requirement already satisfied: parso<0.9.0,>=0.8.0 in /usr/local/lib/python3.7/dist-packages (from jedi>=0.10->ipython>=5.3.0->pyvis) (0.8.3)\n",
            "Requirement already satisfied: MarkupSafe>=0.23 in /usr/local/lib/python3.7/dist-packages (from jinja2>=2.9.6->pyvis) (2.0.1)\n",
            "Requirement already satisfied: importlib-metadata in /usr/local/lib/python3.7/dist-packages (from jsonpickle>=1.4.1->pyvis) (4.12.0)\n",
            "Requirement already satisfied: wcwidth in /usr/local/lib/python3.7/dist-packages (from prompt-toolkit<2.1.0,>=2.0.0->ipython>=5.3.0->pyvis) (0.2.5)\n",
            "Requirement already satisfied: six>=1.9.0 in /usr/local/lib/python3.7/dist-packages (from prompt-toolkit<2.1.0,>=2.0.0->ipython>=5.3.0->pyvis) (1.15.0)\n",
            "Requirement already satisfied: zipp>=0.5 in /usr/local/lib/python3.7/dist-packages (from importlib-metadata->jsonpickle>=1.4.1->pyvis) (3.8.1)\n",
            "Requirement already satisfied: typing-extensions>=3.6.4 in /usr/local/lib/python3.7/dist-packages (from importlib-metadata->jsonpickle>=1.4.1->pyvis) (4.1.1)\n",
            "Requirement already satisfied: ptyprocess>=0.5 in /usr/local/lib/python3.7/dist-packages (from pexpect->ipython>=5.3.0->pyvis) (0.7.0)\n",
            "Building wheels for collected packages: pyvis\n",
            "  Building wheel for pyvis (setup.py) ... \u001b[?25l\u001b[?25hdone\n",
            "  Created wheel for pyvis: filename=pyvis-0.3.0-py3-none-any.whl size=600250 sha256=c2c78bbe197a0b890b4fd9e97a443f4c34cad1c31edb8924576f1fc38ab5c4e1\n",
            "  Stored in directory: /root/.cache/pip/wheels/57/74/32/e404e0d76fbb2dc4e3791b821cfae6a69c1a6677ded99dc8b7\n",
            "Successfully built pyvis\n",
            "Installing collected packages: jedi, jsonpickle, pyvis\n",
            "Successfully installed jedi-0.18.1 jsonpickle-2.2.0 pyvis-0.3.0\n"
          ]
        }
      ]
    },
    {
      "cell_type": "code",
      "metadata": {
        "colab": {
          "base_uri": "https://localhost:8080/",
          "height": 719,
          "resources": {
            "http://localhost:8080/lib/bindings/utils.js": {
              "data": "CjwhRE9DVFlQRSBodG1sPgo8aHRtbCBsYW5nPWVuPgogIDxtZXRhIGNoYXJzZXQ9dXRmLTg+CiAgPG1ldGEgbmFtZT12aWV3cG9ydCBjb250ZW50PSJpbml0aWFsLXNjYWxlPTEsIG1pbmltdW0tc2NhbGU9MSwgd2lkdGg9ZGV2aWNlLXdpZHRoIj4KICA8dGl0bGU+RXJyb3IgNDA0IChOb3QgRm91bmQpISExPC90aXRsZT4KICA8c3R5bGU+CiAgICAqe21hcmdpbjowO3BhZGRpbmc6MH1odG1sLGNvZGV7Zm9udDoxNXB4LzIycHggYXJpYWwsc2Fucy1zZXJpZn1odG1se2JhY2tncm91bmQ6I2ZmZjtjb2xvcjojMjIyO3BhZGRpbmc6MTVweH1ib2R5e21hcmdpbjo3JSBhdXRvIDA7bWF4LXdpZHRoOjM5MHB4O21pbi1oZWlnaHQ6MTgwcHg7cGFkZGluZzozMHB4IDAgMTVweH0qID4gYm9keXtiYWNrZ3JvdW5kOnVybCgvL3d3dy5nb29nbGUuY29tL2ltYWdlcy9lcnJvcnMvcm9ib3QucG5nKSAxMDAlIDVweCBuby1yZXBlYXQ7cGFkZGluZy1yaWdodDoyMDVweH1we21hcmdpbjoxMXB4IDAgMjJweDtvdmVyZmxvdzpoaWRkZW59aW5ze2NvbG9yOiM3Nzc7dGV4dC1kZWNvcmF0aW9uOm5vbmV9YSBpbWd7Ym9yZGVyOjB9QG1lZGlhIHNjcmVlbiBhbmQgKG1heC13aWR0aDo3NzJweCl7Ym9keXtiYWNrZ3JvdW5kOm5vbmU7bWFyZ2luLXRvcDowO21heC13aWR0aDpub25lO3BhZGRpbmctcmlnaHQ6MH19I2xvZ297YmFja2dyb3VuZDp1cmwoLy93d3cuZ29vZ2xlLmNvbS9pbWFnZXMvbG9nb3MvZXJyb3JwYWdlL2Vycm9yX2xvZ28tMTUweDU0LnBuZykgbm8tcmVwZWF0O21hcmdpbi1sZWZ0Oi01cHh9QG1lZGlhIG9ubHkgc2NyZWVuIGFuZCAobWluLXJlc29sdXRpb246MTkyZHBpKXsjbG9nb3tiYWNrZ3JvdW5kOnVybCgvL3d3dy5nb29nbGUuY29tL2ltYWdlcy9sb2dvcy9lcnJvcnBhZ2UvZXJyb3JfbG9nby0xNTB4NTQtMngucG5nKSBuby1yZXBlYXQgMCUgMCUvMTAwJSAxMDAlOy1tb3otYm9yZGVyLWltYWdlOnVybCgvL3d3dy5nb29nbGUuY29tL2ltYWdlcy9sb2dvcy9lcnJvcnBhZ2UvZXJyb3JfbG9nby0xNTB4NTQtMngucG5nKSAwfX1AbWVkaWEgb25seSBzY3JlZW4gYW5kICgtd2Via2l0LW1pbi1kZXZpY2UtcGl4ZWwtcmF0aW86Mil7I2xvZ297YmFja2dyb3VuZDp1cmwoLy93d3cuZ29vZ2xlLmNvbS9pbWFnZXMvbG9nb3MvZXJyb3JwYWdlL2Vycm9yX2xvZ28tMTUweDU0LTJ4LnBuZykgbm8tcmVwZWF0Oy13ZWJraXQtYmFja2dyb3VuZC1zaXplOjEwMCUgMTAwJX19I2xvZ297ZGlzcGxheTppbmxpbmUtYmxvY2s7aGVpZ2h0OjU0cHg7d2lkdGg6MTUwcHh9CiAgPC9zdHlsZT4KICA8YSBocmVmPS8vd3d3Lmdvb2dsZS5jb20vPjxzcGFuIGlkPWxvZ28gYXJpYS1sYWJlbD1Hb29nbGU+PC9zcGFuPjwvYT4KICA8cD48Yj40MDQuPC9iPiA8aW5zPlRoYXTigJlzIGFuIGVycm9yLjwvaW5zPgogIDxwPiAgPGlucz5UaGF04oCZcyBhbGwgd2Uga25vdy48L2lucz4K",
              "ok": false,
              "headers": [
                [
                  "content-length",
                  "1449"
                ],
                [
                  "content-type",
                  "text/html; charset=utf-8"
                ]
              ],
              "status": 404,
              "status_text": ""
            }
          }
        },
        "id": "3yMU7v4EZusu",
        "outputId": "f56261c5-1a1e-458d-b223-49ed409b92cf"
      },
      "source": [
        "from pyvis import network as net\n",
        "from IPython.core.display import display, HTML\n",
        "g_vis=net.Network(height='600px', width='100%',heading='Twitter accounts SNA 2022-10-01')\n",
        "g_vis.from_nx(g)\n",
        "g_vis.show('Twitter_Accounts.html')\n",
        "display(HTML('Twitter_Accounts.html'))"
      ],
      "execution_count": 46,
      "outputs": [
        {
          "output_type": "display_data",
          "data": {
            "text/plain": [
              "<IPython.core.display.HTML object>"
            ],
            "text/html": [
              "<html>\n",
              "    <head>\n",
              "        <meta charset=\"utf-8\">\n",
              "        \n",
              "            <script src=\"lib/bindings/utils.js\"></script>\n",
              "            <link rel=\"stylesheet\" href=\"https://cdnjs.cloudflare.com/ajax/libs/vis-network/9.1.2/dist/dist/vis-network.min.css\" integrity=\"sha512-WgxfT5LWjfszlPHXRmBWHkV2eceiWTOBvrKCNbdgDYTHrT2AeLCGbF4sZlZw3UMN3WtL0tGUoIAKsu8mllg/XA==\" crossorigin=\"anonymous\" referrerpolicy=\"no-referrer\" />\n",
              "            <script src=\"https://cdnjs.cloudflare.com/ajax/libs/vis-network/9.1.2/dist/vis-network.min.js\" integrity=\"sha512-LnvoEWDFrqGHlHmDD2101OrLcbsfkrzoSpvtSQtxK3RMnRV0eOkhhBN2dXHKRrUU8p2DGRTk35n4O8nWSVe1mQ==\" crossorigin=\"anonymous\" referrerpolicy=\"no-referrer\"></script>\n",
              "            \n",
              "        \n",
              "<center>\n",
              "<h1>Twitter accounts SNA 2022-10-01</h1>\n",
              "</center>\n",
              "\n",
              "<!-- <link rel=\"stylesheet\" href=\"../node_modules/vis/dist/vis.min.css\" type=\"text/css\" />\n",
              "<script type=\"text/javascript\" src=\"../node_modules/vis/dist/vis.js\"> </script>-->\n",
              "        <link\n",
              "          href=\"https://cdn.jsdelivr.net/npm/bootstrap@5.0.0-beta3/dist/css/bootstrap.min.css\"\n",
              "          rel=\"stylesheet\"\n",
              "          integrity=\"sha384-eOJMYsd53ii+scO/bJGFsiCZc+5NDVN2yr8+0RDqr0Ql0h+rP48ckxlpbzKgwra6\"\n",
              "          crossorigin=\"anonymous\"\n",
              "        />\n",
              "        <script\n",
              "          src=\"https://cdn.jsdelivr.net/npm/bootstrap@5.0.0-beta3/dist/js/bootstrap.bundle.min.js\"\n",
              "          integrity=\"sha384-JEW9xMcG8R+pH31jmWH6WWP0WintQrMb4s7ZOdauHnUtxwoG2vI5DkLtS3qm9Ekf\"\n",
              "          crossorigin=\"anonymous\"\n",
              "        ></script>\n",
              "\n",
              "\n",
              "        <center>\n",
              "          <h1>Twitter accounts SNA 2022-10-01</h1>\n",
              "        </center>\n",
              "        <style type=\"text/css\">\n",
              "\n",
              "             #mynetwork {\n",
              "                 width: 100%;\n",
              "                 height: 600px;\n",
              "                 background-color: #ffffff;\n",
              "                 border: 1px solid lightgray;\n",
              "                 position: relative;\n",
              "                 float: left;\n",
              "             }\n",
              "\n",
              "             \n",
              "\n",
              "             \n",
              "\n",
              "             \n",
              "        </style>\n",
              "    </head>\n",
              "\n",
              "\n",
              "    <body>\n",
              "        <div class=\"card\" style=\"width: 100%\">\n",
              "            \n",
              "            \n",
              "            <div id=\"mynetwork\" class=\"card-body\"></div>\n",
              "        </div>\n",
              "\n",
              "        \n",
              "        \n",
              "\n",
              "        <script type=\"text/javascript\">\n",
              "\n",
              "              // initialize global variables.\n",
              "              var edges;\n",
              "              var nodes;\n",
              "              var allNodes;\n",
              "              var allEdges;\n",
              "              var nodeColors;\n",
              "              var originalNodes;\n",
              "              var network;\n",
              "              var container;\n",
              "              var options, data;\n",
              "              var filter = {\n",
              "                  item : '',\n",
              "                  property : '',\n",
              "                  value : []\n",
              "              };\n",
              "\n",
              "              \n",
              "\n",
              "              \n",
              "\n",
              "              // This method is responsible for drawing the graph, returns the drawn network\n",
              "              function drawGraph() {\n",
              "                  var container = document.getElementById('mynetwork');\n",
              "\n",
              "                  \n",
              "\n",
              "                  // parsing and collecting nodes and edges from the python\n",
              "                  nodes = new vis.DataSet([{\"color\": \"#97c2fc\", \"id\": \"gabrielmoreno10\", \"label\": \"gabrielmoreno10\", \"shape\": \"dot\", \"size\": 10}, {\"color\": \"#97c2fc\", \"id\": \"liliana_pantoja\", \"label\": \"liliana_pantoja\", \"shape\": \"dot\", \"size\": 10}, {\"color\": \"#97c2fc\", \"id\": \"VickyDavilaH\", \"label\": \"VickyDavilaH\", \"shape\": \"dot\", \"size\": 10}, {\"color\": \"#97c2fc\", \"id\": \"MAndreaNieto\", \"label\": \"MAndreaNieto\", \"shape\": \"dot\", \"size\": 10}, {\"color\": \"#97c2fc\", \"id\": \"fabianpallaresj\", \"label\": \"fabianpallaresj\", \"shape\": \"dot\", \"size\": 10}, {\"color\": \"#97c2fc\", \"id\": \"RosanaFerrero\", \"label\": \"RosanaFerrero\", \"shape\": \"dot\", \"size\": 10}, {\"color\": \"#97c2fc\", \"id\": \"Ale_Mendoza_DC\", \"label\": \"Ale_Mendoza_DC\", \"shape\": \"dot\", \"size\": 10}, {\"color\": \"#97c2fc\", \"id\": \"DollyMontoyaUN\", \"label\": \"DollyMontoyaUN\", \"shape\": \"dot\", \"size\": 10}, {\"color\": \"#97c2fc\", \"id\": \"mwassermannl\", \"label\": \"mwassermannl\", \"shape\": \"dot\", \"size\": 10}, {\"color\": \"#97c2fc\", \"id\": \"julianacarmonag\", \"label\": \"julianacarmonag\", \"shape\": \"dot\", \"size\": 10}, {\"color\": \"#97c2fc\", \"id\": \"bernardo_pinzon\", \"label\": \"bernardo_pinzon\", \"shape\": \"dot\", \"size\": 10}, {\"color\": \"#97c2fc\", \"id\": \"mora_laura\", \"label\": \"mora_laura\", \"shape\": \"dot\", \"size\": 10}, {\"color\": \"#97c2fc\", \"id\": \"daniel.mejia\", \"label\": \"daniel.mejia\", \"shape\": \"dot\", \"size\": 10}, {\"color\": \"#97c2fc\", \"id\": \"petrogustavo\", \"label\": \"petrogustavo\", \"shape\": \"dot\", \"size\": 10}, {\"color\": \"#97c2fc\", \"id\": \"beatriz_apinzon\", \"label\": \"beatriz_apinzon\", \"shape\": \"dot\", \"size\": 10}, {\"color\": \"#97c2fc\", \"id\": \"nicolas_mora\", \"label\": \"nicolas_mora\", \"shape\": \"dot\", \"size\": 10}, {\"color\": \"#97c2fc\", \"id\": \"sperez\", \"label\": \"sperez\", \"shape\": \"dot\", \"size\": 10}, {\"color\": \"#97c2fc\", \"id\": \"daniel\", \"label\": \"daniel\", \"shape\": \"dot\", \"size\": 10}, {\"color\": \"#97c2fc\", \"id\": \"sreina\", \"label\": \"sreina\", \"shape\": \"dot\", \"size\": 10}, {\"color\": \"#97c2fc\", \"id\": \"diegobarreto\", \"label\": \"diegobarreto\", \"shape\": \"dot\", \"size\": 10}, {\"color\": \"#97c2fc\", \"id\": \"petrosky\", \"label\": \"petrosky\", \"shape\": \"dot\", \"size\": 10}, {\"color\": \"#97c2fc\", \"id\": \"julian_rodriguez\", \"label\": \"julian_rodriguez\", \"shape\": \"dot\", \"size\": 10}, {\"color\": \"#97c2fc\", \"id\": \"gustavopetro\", \"label\": \"gustavopetro\", \"shape\": \"dot\", \"size\": 10}, {\"color\": \"#97c2fc\", \"id\": \"diegoRamirez36\", \"label\": \"diegoRamirez36\", \"shape\": \"dot\", \"size\": 10}, {\"color\": \"#97c2fc\", \"id\": \"alejandram_\", \"label\": \"alejandram_\", \"shape\": \"dot\", \"size\": 10}, {\"color\": \"#97c2fc\", \"id\": \"FelipeG1609\", \"label\": \"FelipeG1609\", \"shape\": \"dot\", \"size\": 10}, {\"color\": \"#97c2fc\", \"id\": \"marimedx\", \"label\": \"marimedx\", \"shape\": \"dot\", \"size\": 10}, {\"color\": \"#97c2fc\", \"id\": \"messi10\", \"label\": \"messi10\", \"shape\": \"dot\", \"size\": 10}, {\"color\": \"#97c2fc\", \"id\": \"cristiano_ronaldo\", \"label\": \"cristiano_ronaldo\", \"shape\": \"dot\", \"size\": 10}, {\"color\": \"#97c2fc\", \"id\": \"soler_camargo\", \"label\": \"soler_camargo\", \"shape\": \"dot\", \"size\": 10}, {\"color\": \"#97c2fc\", \"id\": \"camigomez_\", \"label\": \"camigomez_\", \"shape\": \"dot\", \"size\": 10}, {\"color\": \"#97c2fc\", \"id\": \"LorenaGonlez\", \"label\": \"LorenaGonlez\", \"shape\": \"dot\", \"size\": 10}, {\"color\": \"#97c2fc\", \"id\": \"gardeazabal48\", \"label\": \"gardeazabal48\", \"shape\": \"dot\", \"size\": 10}, {\"color\": \"#97c2fc\", \"id\": \"af_rodriguez\", \"label\": \"af_rodriguez\", \"shape\": \"dot\", \"size\": 10}, {\"color\": \"#97c2fc\", \"id\": \"nico_colmenares\", \"label\": \"nico_colmenares\", \"shape\": \"dot\", \"size\": 10}, {\"color\": \"#97c2fc\", \"id\": \"camilobottia\", \"label\": \"camilobottia\", \"shape\": \"dot\", \"size\": 10}, {\"color\": \"#97c2fc\", \"id\": \"carlos_ramirez\", \"label\": \"carlos_ramirez\", \"shape\": \"dot\", \"size\": 10}, {\"color\": \"#97c2fc\", \"id\": \"laura_ruedam\", \"label\": \"laura_ruedam\", \"shape\": \"dot\", \"size\": 10}, {\"color\": \"#97c2fc\", \"id\": \"danielarubio123\", \"label\": \"danielarubio123\", \"shape\": \"dot\", \"size\": 10}, {\"color\": \"#97c2fc\", \"id\": \"DavidH83\", \"label\": \"DavidH83\", \"shape\": \"dot\", \"size\": 10}, {\"color\": \"#97c2fc\", \"id\": \"kmo0626\", \"label\": \"kmo0626\", \"shape\": \"dot\", \"size\": 10}, {\"color\": \"#97c2fc\", \"id\": \"ARMANDINHO\", \"label\": \"ARMANDINHO\", \"shape\": \"dot\", \"size\": 10}, {\"color\": \"#97c2fc\", \"id\": \"sergiopedreros\", \"label\": \"sergiopedreros\", \"shape\": \"dot\", \"size\": 10}]);\n",
              "                  edges = new vis.DataSet([{\"from\": \"gabrielmoreno10\", \"to\": \"liliana_pantoja\", \"width\": 1}, {\"from\": \"gabrielmoreno10\", \"to\": \"VickyDavilaH\", \"width\": 1}, {\"from\": \"gabrielmoreno10\", \"to\": \"MAndreaNieto\", \"width\": 1}, {\"from\": \"gabrielmoreno10\", \"to\": \"fabianpallaresj\", \"width\": 1}, {\"from\": \"liliana_pantoja\", \"to\": \"RosanaFerrero\", \"width\": 1}, {\"from\": \"liliana_pantoja\", \"to\": \"Ale_Mendoza_DC\", \"width\": 1}, {\"from\": \"liliana_pantoja\", \"to\": \"DollyMontoyaUN\", \"width\": 1}, {\"from\": \"liliana_pantoja\", \"to\": \"mwassermannl\", \"width\": 1}, {\"from\": \"liliana_pantoja\", \"to\": \"julianacarmonag\", \"width\": 1}, {\"from\": \"fabianpallaresj\", \"to\": \"bernardo_pinzon\", \"width\": 1}, {\"from\": \"fabianpallaresj\", \"to\": \"mora_laura\", \"width\": 1}, {\"from\": \"fabianpallaresj\", \"to\": \"daniel.mejia\", \"width\": 1}, {\"from\": \"fabianpallaresj\", \"to\": \"petrogustavo\", \"width\": 1}, {\"from\": \"fabianpallaresj\", \"to\": \"beatriz_apinzon\", \"width\": 1}, {\"from\": \"fabianpallaresj\", \"to\": \"nicolas_mora\", \"width\": 1}, {\"from\": \"sperez\", \"to\": \"daniel\", \"width\": 1}, {\"from\": \"sperez\", \"to\": \"sreina\", \"width\": 1}, {\"from\": \"sperez\", \"to\": \"diegobarreto\", \"width\": 1}, {\"from\": \"sperez\", \"to\": \"petrosky\", \"width\": 1}, {\"from\": \"sperez\", \"to\": \"julian_rodriguez\", \"width\": 1}, {\"from\": \"daniel\", \"to\": \"gustavopetro\", \"width\": 1}, {\"from\": \"diegoRamirez36\", \"to\": \"alejandram_\", \"width\": 1}, {\"from\": \"diegoRamirez36\", \"to\": \"FelipeG1609\", \"width\": 1}, {\"from\": \"diegoRamirez36\", \"to\": \"marimedx\", \"width\": 1}, {\"from\": \"diegoRamirez36\", \"to\": \"petrogustavo\", \"width\": 1}, {\"from\": \"diegoRamirez36\", \"to\": \"messi10\", \"width\": 1}, {\"from\": \"diegoRamirez36\", \"to\": \"cristiano_ronaldo\", \"width\": 1}, {\"from\": \"FelipeG1609\", \"to\": \"marimedx\", \"width\": 1}, {\"from\": \"soler_camargo\", \"to\": \"camigomez_\", \"width\": 1}, {\"from\": \"soler_camargo\", \"to\": \"LorenaGonlez\", \"width\": 1}, {\"from\": \"soler_camargo\", \"to\": \"gardeazabal48\", \"width\": 1}, {\"from\": \"camigomez_\", \"to\": \"marimedx\", \"width\": 1}, {\"from\": \"camigomez_\", \"to\": \"af_rodriguez\", \"width\": 1}, {\"from\": \"camigomez_\", \"to\": \"nico_colmenares\", \"width\": 1}, {\"from\": \"camigomez_\", \"to\": \"gardeazabal48\", \"width\": 1}, {\"from\": \"camigomez_\", \"to\": \"camilobottia\", \"width\": 1}, {\"from\": \"camigomez_\", \"to\": \"sreina\", \"width\": 1}, {\"from\": \"bernardo_pinzon\", \"to\": \"carlos_ramirez\", \"width\": 1}, {\"from\": \"bernardo_pinzon\", \"to\": \"mora_laura\", \"width\": 1}, {\"from\": \"bernardo_pinzon\", \"to\": \"cristiano_ronaldo\", \"width\": 1}, {\"from\": \"carlos_ramirez\", \"to\": \"sreina\", \"width\": 1}, {\"from\": \"carlos_ramirez\", \"to\": \"mora_laura\", \"width\": 1}, {\"from\": \"carlos_ramirez\", \"to\": \"julian_rodriguez\", \"width\": 1}, {\"from\": \"mora_laura\", \"to\": \"daniel.mejia\", \"width\": 1}, {\"from\": \"mora_laura\", \"to\": \"laura_ruedam\", \"width\": 1}, {\"from\": \"julian_rodriguez\", \"to\": \"sreina\", \"width\": 1}, {\"from\": \"julian_rodriguez\", \"to\": \"diegobarreto\", \"width\": 1}, {\"from\": \"sreina\", \"to\": \"diegobarreto\", \"width\": 1}, {\"from\": \"danielarubio123\", \"to\": \"DavidH83\", \"width\": 1}, {\"from\": \"danielarubio123\", \"to\": \"kmo0626\", \"width\": 1}, {\"from\": \"DavidH83\", \"to\": \"kmo0626\", \"width\": 1}, {\"from\": \"DavidH83\", \"to\": \"ARMANDINHO\", \"width\": 1}, {\"from\": \"kmo0626\", \"to\": \"sergiopedreros\", \"width\": 1}]);\n",
              "\n",
              "                  nodeColors = {};\n",
              "                  allNodes = nodes.get({ returnType: \"Object\" });\n",
              "                  for (nodeId in allNodes) {\n",
              "                    nodeColors[nodeId] = allNodes[nodeId].color;\n",
              "                  }\n",
              "                  allEdges = edges.get({ returnType: \"Object\" });\n",
              "                  // adding nodes and edges to the graph\n",
              "                  data = {nodes: nodes, edges: edges};\n",
              "\n",
              "                  var options = {\n",
              "    \"configure\": {\n",
              "        \"enabled\": false\n",
              "    },\n",
              "    \"edges\": {\n",
              "        \"color\": {\n",
              "            \"inherit\": true\n",
              "        },\n",
              "        \"smooth\": {\n",
              "            \"enabled\": true,\n",
              "            \"type\": \"dynamic\"\n",
              "        }\n",
              "    },\n",
              "    \"interaction\": {\n",
              "        \"dragNodes\": true,\n",
              "        \"hideEdgesOnDrag\": false,\n",
              "        \"hideNodesOnDrag\": false\n",
              "    },\n",
              "    \"physics\": {\n",
              "        \"enabled\": true,\n",
              "        \"stabilization\": {\n",
              "            \"enabled\": true,\n",
              "            \"fit\": true,\n",
              "            \"iterations\": 1000,\n",
              "            \"onlyDynamicEdges\": false,\n",
              "            \"updateInterval\": 50\n",
              "        }\n",
              "    }\n",
              "};\n",
              "\n",
              "                  \n",
              "\n",
              "\n",
              "                  \n",
              "\n",
              "                  network = new vis.Network(container, data, options);\n",
              "\n",
              "                  \n",
              "\n",
              "                  \n",
              "\n",
              "                  \n",
              "\n",
              "\n",
              "                  \n",
              "\n",
              "                  return network;\n",
              "\n",
              "              }\n",
              "              drawGraph();\n",
              "        </script>\n",
              "    </body>\n",
              "</html>"
            ]
          },
          "metadata": {}
        }
      ]
    },
    {
      "cell_type": "markdown",
      "metadata": {
        "id": "LA16ucHeqia9"
      },
      "source": []
    },
    {
      "cell_type": "markdown",
      "metadata": {
        "id": "dbas-3t-NW4u"
      },
      "source": [
        "## Section 3:\n",
        "\n",
        "How can we graphically improve my graph?"
      ]
    },
    {
      "cell_type": "code",
      "metadata": {
        "id": "e4crdryBMuS6",
        "colab": {
          "base_uri": "https://localhost:8080/",
          "height": 53
        },
        "outputId": "62cc80e5-8a99-4dfc-9387-ceb78af0b378"
      },
      "source": [
        "import matplotlib.pyplot as plt\n",
        "from operator import itemgetter \n",
        "\n",
        "plt.figure(figsize=(12, 12))"
      ],
      "execution_count": 47,
      "outputs": [
        {
          "output_type": "execute_result",
          "data": {
            "text/plain": [
              "<Figure size 864x864 with 0 Axes>"
            ]
          },
          "metadata": {},
          "execution_count": 47
        },
        {
          "output_type": "display_data",
          "data": {
            "text/plain": [
              "<Figure size 864x864 with 0 Axes>"
            ]
          },
          "metadata": {}
        }
      ]
    },
    {
      "cell_type": "code",
      "metadata": {
        "id": "Vps87TUtMuRY"
      },
      "source": [
        "# 1. Create the graph\n",
        "g = nx.from_pandas_edgelist(df, source='NodeA', target='NodeB') "
      ],
      "execution_count": 49,
      "outputs": []
    },
    {
      "cell_type": "code",
      "metadata": {
        "id": "mcFA-slTMuN9"
      },
      "source": [
        "# 2. Create a layout for our nodes \n",
        "layout = nx.spring_layout(g,iterations=50)"
      ],
      "execution_count": 53,
      "outputs": []
    },
    {
      "cell_type": "code",
      "metadata": {
        "id": "kDITtlRFMuKR",
        "colab": {
          "base_uri": "https://localhost:8080/",
          "height": 266
        },
        "outputId": "e2e23a71-851c-4b6f-dcf2-842dfa501cb8"
      },
      "source": [
        "# 3. Draw the parts we want\n",
        "people_size = [g.degree(node) * 80 for node in g.nodes]\n",
        "nx.draw_networkx_nodes(g, \n",
        "                       layout, \n",
        "                       nodelist=g.nodes, \n",
        "                       node_size=people_size, # a LIST of sizes, based on g.degree\n",
        "                       node_color='orange')\n",
        "\n",
        "nx.draw_networkx_edges(g, layout, width=1, edge_color=\"#cccccc\")"
      ],
      "execution_count": 54,
      "outputs": [
        {
          "output_type": "execute_result",
          "data": {
            "text/plain": [
              "<matplotlib.collections.LineCollection at 0x7fa6dd4fd710>"
            ]
          },
          "metadata": {},
          "execution_count": 54
        },
        {
          "output_type": "display_data",
          "data": {
            "text/plain": [
              "<Figure size 432x288 with 1 Axes>"
            ],
            "image/png": "[encoded data removed]"
          },
          "metadata": {}
        }
      ]
    },
    {
      "cell_type": "code",
      "metadata": {
        "id": "mbp1TzSJMuGv",
        "colab": {
          "base_uri": "https://localhost:8080/",
          "height": 339
        },
        "outputId": "7e8257fa-c072-4392-b311-ea4eea781501"
      },
      "source": [
        "# 3.1 Draw POPULAR PEOPLE\n",
        "popular_people = [{'person':person, 'value':g.degree(person)} for person in g.nodes]\n",
        "print(popular_people)\n",
        "list_central = sorted(popular_people, key=itemgetter('value'), reverse=True)\n",
        "print(sorted(popular_people, key=itemgetter('value'), reverse=True))\n",
        "list_orange = [list_central[0]['person'],list_central[1]['person'],list_central[2]['person']]\n",
        "print(list_orange)\n",
        "nx.draw_networkx_nodes(g, layout, nodelist=list_orange, node_color='orange')"
      ],
      "execution_count": 55,
      "outputs": [
        {
          "output_type": "stream",
          "name": "stdout",
          "text": [
            "[{'person': 'gabrielmoreno10', 'value': 4}, {'person': 'liliana_pantoja', 'value': 6}, {'person': 'VickyDavilaH', 'value': 1}, {'person': 'MAndreaNieto', 'value': 1}, {'person': 'fabianpallaresj', 'value': 7}, {'person': 'sperez', 'value': 5}, {'person': 'daniel', 'value': 2}, {'person': 'diegoRamirez36', 'value': 6}, {'person': 'alejandram_', 'value': 1}, {'person': 'FelipeG1609', 'value': 2}, {'person': 'soler_camargo', 'value': 3}, {'person': 'camigomez_', 'value': 7}, {'person': 'bernardo_pinzon', 'value': 4}, {'person': 'carlos_ramirez', 'value': 4}, {'person': 'marimedx', 'value': 3}, {'person': 'mora_laura', 'value': 5}, {'person': 'julian_rodriguez', 'value': 4}, {'person': 'sreina', 'value': 5}, {'person': 'danielarubio123', 'value': 2}, {'person': 'DavidH83', 'value': 3}, {'person': 'daniel.mejia', 'value': 2}, {'person': 'diegobarreto', 'value': 3}, {'person': 'kmo0626', 'value': 3}, {'person': 'petrosky', 'value': 1}, {'person': 'RosanaFerrero', 'value': 1}, {'person': 'ARMANDINHO', 'value': 1}, {'person': 'Ale_Mendoza_DC', 'value': 1}, {'person': 'DollyMontoyaUN', 'value': 1}, {'person': 'mwassermannl', 'value': 1}, {'person': 'petrogustavo', 'value': 2}, {'person': 'af_rodriguez', 'value': 1}, {'person': 'gustavopetro', 'value': 1}, {'person': 'nico_colmenares', 'value': 1}, {'person': 'gardeazabal48', 'value': 2}, {'person': 'sergiopedreros', 'value': 1}, {'person': 'laura_ruedam', 'value': 1}, {'person': 'LorenaGonlez', 'value': 1}, {'person': 'camilobottia', 'value': 1}, {'person': 'julianacarmonag', 'value': 1}, {'person': 'cristiano_ronaldo', 'value': 2}, {'person': 'beatriz_apinzon', 'value': 1}, {'person': 'nicolas_mora', 'value': 1}, {'person': 'messi10', 'value': 1}]\n",
            "[{'person': 'fabianpallaresj', 'value': 7}, {'person': 'camigomez_', 'value': 7}, {'person': 'liliana_pantoja', 'value': 6}, {'person': 'diegoRamirez36', 'value': 6}, {'person': 'sperez', 'value': 5}, {'person': 'mora_laura', 'value': 5}, {'person': 'sreina', 'value': 5}, {'person': 'gabrielmoreno10', 'value': 4}, {'person': 'bernardo_pinzon', 'value': 4}, {'person': 'carlos_ramirez', 'value': 4}, {'person': 'julian_rodriguez', 'value': 4}, {'person': 'soler_camargo', 'value': 3}, {'person': 'marimedx', 'value': 3}, {'person': 'DavidH83', 'value': 3}, {'person': 'diegobarreto', 'value': 3}, {'person': 'kmo0626', 'value': 3}, {'person': 'daniel', 'value': 2}, {'person': 'FelipeG1609', 'value': 2}, {'person': 'danielarubio123', 'value': 2}, {'person': 'daniel.mejia', 'value': 2}, {'person': 'petrogustavo', 'value': 2}, {'person': 'gardeazabal48', 'value': 2}, {'person': 'cristiano_ronaldo', 'value': 2}, {'person': 'VickyDavilaH', 'value': 1}, {'person': 'MAndreaNieto', 'value': 1}, {'person': 'alejandram_', 'value': 1}, {'person': 'petrosky', 'value': 1}, {'person': 'RosanaFerrero', 'value': 1}, {'person': 'ARMANDINHO', 'value': 1}, {'person': 'Ale_Mendoza_DC', 'value': 1}, {'person': 'DollyMontoyaUN', 'value': 1}, {'person': 'mwassermannl', 'value': 1}, {'person': 'af_rodriguez', 'value': 1}, {'person': 'gustavopetro', 'value': 1}, {'person': 'nico_colmenares', 'value': 1}, {'person': 'sergiopedreros', 'value': 1}, {'person': 'laura_ruedam', 'value': 1}, {'person': 'LorenaGonlez', 'value': 1}, {'person': 'camilobottia', 'value': 1}, {'person': 'julianacarmonag', 'value': 1}, {'person': 'beatriz_apinzon', 'value': 1}, {'person': 'nicolas_mora', 'value': 1}, {'person': 'messi10', 'value': 1}]\n",
            "['fabianpallaresj', 'camigomez_', 'liliana_pantoja']\n"
          ]
        },
        {
          "output_type": "execute_result",
          "data": {
            "text/plain": [
              "<matplotlib.collections.PathCollection at 0x7fa6dd423910>"
            ]
          },
          "metadata": {},
          "execution_count": 55
        },
        {
          "output_type": "display_data",
          "data": {
            "text/plain": [
              "<Figure size 432x288 with 1 Axes>"
            ],
            "image/png": "[encoded data removed]"
          },
          "metadata": {}
        }
      ]
    },
    {
      "cell_type": "code",
      "metadata": {
        "id": "67ETTQa0Mt-F",
        "colab": {
          "base_uri": "https://localhost:8080/",
          "height": 641
        },
        "outputId": "ffe30eea-7632-42f1-d67d-f9bcf920f46e"
      },
      "source": [
        "# 3.2 Draw Labels\n",
        "people = list(df['NodeA'].unique())\n",
        "node_labels = dict(zip(people, people))\n",
        "nx.draw_networkx_labels(g, layout, labels=node_labels)"
      ],
      "execution_count": 56,
      "outputs": [
        {
          "output_type": "execute_result",
          "data": {
            "text/plain": [
              "{'gabrielmoreno10': Text(0.07621920732486577, 0.5004131054131894, 'gabrielmoreno10'),\n",
              " 'sperez': Text(0.10978186191042565, -0.059870087248259006, 'sperez'),\n",
              " 'diegoRamirez36': Text(0.19131387614029688, -0.12869242906044395, 'diegoRamirez36'),\n",
              " 'FelipeG1609': Text(0.12491157439236701, -0.2259849881138695, 'FelipeG1609'),\n",
              " 'soler_camargo': Text(-0.32669154797208455, -0.18235330308872455, 'soler_camargo'),\n",
              " 'bernardo_pinzon': Text(0.19528100772434184, 0.14455268540795657, 'bernardo_pinzon'),\n",
              " 'marimedx': Text(0.026255187704225875, -0.2019276419406822, 'marimedx'),\n",
              " 'fabianpallaresj': Text(0.20802305294719228, 0.2908743217321862, 'fabianpallaresj'),\n",
              " 'camigomez_': Text(-0.16100638816398657, -0.195356534155059, 'camigomez_'),\n",
              " 'carlos_ramirez': Text(0.09558874231905, 0.08203758358851049, 'carlos_ramirez'),\n",
              " 'julian_rodriguez': Text(0.05752215577327418, -0.013277677206587964, 'julian_rodriguez'),\n",
              " 'danielarubio123': Text(-0.29688590324485065, -0.9232124415749752, 'danielarubio123'),\n",
              " 'DavidH83': Text(-0.3330555604687623, -0.9860971248117989, 'DavidH83'),\n",
              " 'mora_laura': Text(0.1760185079689032, 0.2151165394445004, 'mora_laura'),\n",
              " 'sreina': Text(-0.011525162448300487, -0.06140662492363059, 'sreina'),\n",
              " 'daniel.mejia': Text(0.2662754652695358, 0.2643111983343963, 'daniel.mejia'),\n",
              " 'liliana_pantoja': Text(-0.10098848268273374, 0.6307114160332078, 'liliana_pantoja'),\n",
              " 'daniel': Text(0.27840304801164045, -0.10025619667471543, 'daniel'),\n",
              " 'kmo0626': Text(-0.24715994168590338, -0.968734045917482, 'kmo0626'),\n",
              " 'LorenaGonlez': Text(-0.4476396424662949, -0.1785587817679826, 'LorenaGonlez'),\n",
              " 'petrogustavo': Text(0.22397325502949814, 0.08036942750773601, 'petrogustavo'),\n",
              " 'gardeazabal48': Text(-0.26878684146032406, -0.17445753452718227, 'gardeazabal48')}"
            ]
          },
          "metadata": {},
          "execution_count": 56
        },
        {
          "output_type": "display_data",
          "data": {
            "text/plain": [
              "<Figure size 432x288 with 1 Axes>"
            ],
            "image/png": "[encoded data removed]"
          },
          "metadata": {}
        }
      ]
    },
    {
      "cell_type": "code",
      "metadata": {
        "id": "wyRF6QWGNK7j",
        "colab": {
          "base_uri": "https://localhost:8080/",
          "height": 282
        },
        "outputId": "a93755b3-4d82-436d-ed09-b52aadd9d6c2"
      },
      "source": [
        "# 4. Turn off the axis because I know you don't want it\n",
        "plt.axis('off')\n",
        "plt.title(\"Social Network Twitter Class\")"
      ],
      "execution_count": 57,
      "outputs": [
        {
          "output_type": "execute_result",
          "data": {
            "text/plain": [
              "Text(0.5, 1.0, 'Social Network Twitter Class')"
            ]
          },
          "metadata": {},
          "execution_count": 57
        },
        {
          "output_type": "display_data",
          "data": {
            "text/plain": [
              "<Figure size 432x288 with 1 Axes>"
            ],
            "image/png": "[encoded data removed]"
          },
          "metadata": {
            "needs_background": "light"
          }
        }
      ]
    },
    {
      "cell_type": "code",
      "source": [],
      "metadata": {
        "id": "QzBSoVnEN-R6"
      },
      "execution_count": null,
      "outputs": []
    },
    {
      "cell_type": "code",
      "metadata": {
        "id": "LXPGW5u4phC_"
      },
      "source": [
        "# 5. Tell matplotlib to show it\n",
        "plt.show()"
      ],
      "execution_count": 58,
      "outputs": []
    },
    {
      "cell_type": "code",
      "metadata": {
        "id": "Ykq1aIaotLcI",
        "colab": {
          "base_uri": "https://localhost:8080/",
          "height": 319
        },
        "outputId": "5486a635-a5df-4afd-d642-17c93517e4ab"
      },
      "source": [
        "nx.draw(g, layout)"
      ],
      "execution_count": 59,
      "outputs": [
        {
          "output_type": "display_data",
          "data": {
            "text/plain": [
              "<Figure size 432x288 with 1 Axes>"
            ],
            "image/png": "[encoded data removed]"
          },
          "metadata": {}
        }
      ]
    },
    {
      "cell_type": "code",
      "metadata": {
        "id": "O1q_o0pxZldY"
      },
      "source": [],
      "execution_count": null,
      "outputs": []
    }
  ]
}