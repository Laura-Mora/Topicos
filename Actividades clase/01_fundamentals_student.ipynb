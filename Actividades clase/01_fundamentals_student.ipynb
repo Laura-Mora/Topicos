{
  "nbformat": 4,
  "nbformat_minor": 0,
  "metadata": {
    "kernelspec": {
      "display_name": "Python 3",
      "language": "python",
      "name": "python3"
    },
    "language_info": {
      "codemirror_mode": {
        "name": "ipython",
        "version": 3
      },
      "file_extension": ".py",
      "mimetype": "text/x-python",
      "name": "python",
      "nbconvert_exporter": "python",
      "pygments_lexer": "ipython3",
      "version": "3.6.3"
    },
    "colab": {
      "name": "01_fundamentals student",
      "provenance": []
    }
  },
  "cells": [
    {
      "cell_type": "markdown",
      "metadata": {
        "id": "mit6n2xrBFUa"
      },
      "source": [
        "# Procesamiento de lenguaje natural con Python - Parte 1\n",
        "\n",
        "\n",
        "\n",
        "<img src=\"http://i.imgur.com/gdGPOFX.png\">\n",
        "\n",
        "por @gabrielmoreno10 :+1: Luis Gabriel Moreno Sandoval  "
      ]
    },
    {
      "cell_type": "markdown",
      "metadata": {
        "id": "_Y0aQrgKBFUe"
      },
      "source": [
        "\n",
        "## Indice\n",
        "\n",
        "   1. **Procesamiento de lenguaje y Python**\n",
        "   2. Acceder a textos y recursos léxicos\n",
        "   3. Procesamiento de texto sin formato\n",
        "   4. Escribir programas estructurados\n",
        "   5. Clasificar y etiquetar palabras\n",
        "   6. Aprendiendo a clasificar el texto\n",
        "   7. Extrayendo información del texto\n",
        "   8. Analizando la estructura de oraciones\n",
        "   9. Creación de gramáticas basadas en características\n",
        "   10. Analizando el significado de las oraciones\n",
        "   11. Gestión de datos lingüísticos\n",
        "   12. Epílogo: Frente al lenguaje"
      ]
    },
    {
      "cell_type": "markdown",
      "metadata": {
        "id": "6QyX2mlZBFUg"
      },
      "source": [
        "### 1. Procesamiento de lenguaje y Python\n",
        "\n",
        "Todos estamos muy familiarizados con el texto, ya que lo leemos y escribimos todos los días. Aquí trataremos el texto como datos en bruto para los programas que escribimos, programas que lo manipulan y lo analizan en una variedad de formas interesantes. Pero antes de que podamos hacer esto, tenemos que comenzar con el intérprete de Python."
      ]
    },
    {
      "cell_type": "markdown",
      "metadata": {
        "id": "JuNivqk26gR1"
      },
      "source": []
    },
    {
      "cell_type": "markdown",
      "metadata": {
        "id": "FtK-ujoSBFUh"
      },
      "source": [
        "#### 1.1   Comenzando con Python"
      ]
    },
    {
      "cell_type": "code",
      "metadata": {
        "id": "3-voEjVxBFUj",
        "colab": {
          "base_uri": "https://localhost:8080/"
        },
        "outputId": "8b917d95-cc47-4116-82d1-70e67969642d"
      },
      "source": [
        "1 + 5 * 2 - 3 "
      ],
      "execution_count": null,
      "outputs": [
        {
          "output_type": "execute_result",
          "data": {
            "text/plain": [
              "8"
            ]
          },
          "metadata": {},
          "execution_count": 1
        }
      ]
    },
    {
      "cell_type": "code",
      "source": [
        "4*4"
      ],
      "metadata": {
        "colab": {
          "base_uri": "https://localhost:8080/"
        },
        "id": "GtF1kQu-v0Ot",
        "outputId": "c75d9ca2-e169-40a9-fe47-207dbd75ece9"
      },
      "execution_count": null,
      "outputs": [
        {
          "output_type": "execute_result",
          "data": {
            "text/plain": [
              "16"
            ]
          },
          "metadata": {},
          "execution_count": 2
        }
      ]
    },
    {
      "cell_type": "code",
      "metadata": {
        "id": "T7Vt68aMBFUn",
        "colab": {
          "base_uri": "https://localhost:8080/",
          "height": 131
        },
        "outputId": "40c43961-ebfc-4ad5-c6ea-2cf6a00bceca"
      },
      "source": [
        "1 +"
      ],
      "execution_count": null,
      "outputs": [
        {
          "output_type": "error",
          "ename": "SyntaxError",
          "evalue": "ignored",
          "traceback": [
            "\u001b[0;36m  File \u001b[0;32m\"<ipython-input-3-953e01372b97>\"\u001b[0;36m, line \u001b[0;32m1\u001b[0m\n\u001b[0;31m    1 +\u001b[0m\n\u001b[0m       ^\u001b[0m\n\u001b[0;31mSyntaxError\u001b[0m\u001b[0;31m:\u001b[0m invalid syntax\n"
          ]
        }
      ]
    },
    {
      "cell_type": "markdown",
      "metadata": {
        "id": "NFxDs171BFUr"
      },
      "source": [
        "#### 1.2   Comenzando con NLTK"
      ]
    },
    {
      "cell_type": "markdown",
      "metadata": {
        "id": "xsrGrO22BFUs"
      },
      "source": [
        "`Usar all en el cuadro de descarga`"
      ]
    },
    {
      "cell_type": "code",
      "metadata": {
        "scrolled": true,
        "id": "iwvAIHH_BFUt",
        "colab": {
          "base_uri": "https://localhost:8080/"
        },
        "outputId": "5188e756-f5ec-4791-e234-849df7ab47c5"
      },
      "source": [
        "#Preliminar\n",
        "# pip install nltk\n",
        "import nltk\n",
        "nltk.download('all')"
      ],
      "execution_count": null,
      "outputs": [
        {
          "output_type": "stream",
          "name": "stderr",
          "text": [
            "[nltk_data] Downloading collection 'all'\n",
            "[nltk_data]    | \n",
            "[nltk_data]    | Downloading package abc to /root/nltk_data...\n",
            "[nltk_data]    |   Unzipping corpora/abc.zip.\n",
            "[nltk_data]    | Downloading package alpino to /root/nltk_data...\n",
            "[nltk_data]    |   Unzipping corpora/alpino.zip.\n",
            "[nltk_data]    | Downloading package averaged_perceptron_tagger to\n",
            "[nltk_data]    |     /root/nltk_data...\n",
            "[nltk_data]    |   Unzipping taggers/averaged_perceptron_tagger.zip.\n",
            "[nltk_data]    | Downloading package averaged_perceptron_tagger_ru to\n",
            "[nltk_data]    |     /root/nltk_data...\n",
            "[nltk_data]    |   Unzipping\n",
            "[nltk_data]    |       taggers/averaged_perceptron_tagger_ru.zip.\n",
            "[nltk_data]    | Downloading package basque_grammars to\n",
            "[nltk_data]    |     /root/nltk_data...\n",
            "[nltk_data]    |   Unzipping grammars/basque_grammars.zip.\n",
            "[nltk_data]    | Downloading package biocreative_ppi to\n",
            "[nltk_data]    |     /root/nltk_data...\n",
            "[nltk_data]    |   Unzipping corpora/biocreative_ppi.zip.\n",
            "[nltk_data]    | Downloading package bllip_wsj_no_aux to\n",
            "[nltk_data]    |     /root/nltk_data...\n",
            "[nltk_data]    |   Unzipping models/bllip_wsj_no_aux.zip.\n",
            "[nltk_data]    | Downloading package book_grammars to\n",
            "[nltk_data]    |     /root/nltk_data...\n",
            "[nltk_data]    |   Unzipping grammars/book_grammars.zip.\n",
            "[nltk_data]    | Downloading package brown to /root/nltk_data...\n",
            "[nltk_data]    |   Unzipping corpora/brown.zip.\n",
            "[nltk_data]    | Downloading package brown_tei to /root/nltk_data...\n",
            "[nltk_data]    |   Unzipping corpora/brown_tei.zip.\n",
            "[nltk_data]    | Downloading package cess_cat to /root/nltk_data...\n",
            "[nltk_data]    |   Unzipping corpora/cess_cat.zip.\n",
            "[nltk_data]    | Downloading package cess_esp to /root/nltk_data...\n",
            "[nltk_data]    |   Unzipping corpora/cess_esp.zip.\n",
            "[nltk_data]    | Downloading package chat80 to /root/nltk_data...\n",
            "[nltk_data]    |   Unzipping corpora/chat80.zip.\n",
            "[nltk_data]    | Downloading package city_database to\n",
            "[nltk_data]    |     /root/nltk_data...\n",
            "[nltk_data]    |   Unzipping corpora/city_database.zip.\n",
            "[nltk_data]    | Downloading package cmudict to /root/nltk_data...\n",
            "[nltk_data]    |   Unzipping corpora/cmudict.zip.\n",
            "[nltk_data]    | Downloading package comparative_sentences to\n",
            "[nltk_data]    |     /root/nltk_data...\n",
            "[nltk_data]    |   Unzipping corpora/comparative_sentences.zip.\n",
            "[nltk_data]    | Downloading package comtrans to /root/nltk_data...\n",
            "[nltk_data]    | Downloading package conll2000 to /root/nltk_data...\n",
            "[nltk_data]    |   Unzipping corpora/conll2000.zip.\n",
            "[nltk_data]    | Downloading package conll2002 to /root/nltk_data...\n",
            "[nltk_data]    |   Unzipping corpora/conll2002.zip.\n",
            "[nltk_data]    | Downloading package conll2007 to /root/nltk_data...\n",
            "[nltk_data]    | Downloading package crubadan to /root/nltk_data...\n",
            "[nltk_data]    |   Unzipping corpora/crubadan.zip.\n",
            "[nltk_data]    | Downloading package dependency_treebank to\n",
            "[nltk_data]    |     /root/nltk_data...\n",
            "[nltk_data]    |   Unzipping corpora/dependency_treebank.zip.\n",
            "[nltk_data]    | Downloading package dolch to /root/nltk_data...\n",
            "[nltk_data]    |   Unzipping corpora/dolch.zip.\n",
            "[nltk_data]    | Downloading package europarl_raw to\n",
            "[nltk_data]    |     /root/nltk_data...\n",
            "[nltk_data]    |   Unzipping corpora/europarl_raw.zip.\n",
            "[nltk_data]    | Downloading package extended_omw to\n",
            "[nltk_data]    |     /root/nltk_data...\n",
            "[nltk_data]    | Downloading package floresta to /root/nltk_data...\n",
            "[nltk_data]    |   Unzipping corpora/floresta.zip.\n",
            "[nltk_data]    | Downloading package framenet_v15 to\n",
            "[nltk_data]    |     /root/nltk_data...\n",
            "[nltk_data]    |   Unzipping corpora/framenet_v15.zip.\n",
            "[nltk_data]    | Downloading package framenet_v17 to\n",
            "[nltk_data]    |     /root/nltk_data...\n",
            "[nltk_data]    |   Unzipping corpora/framenet_v17.zip.\n",
            "[nltk_data]    | Downloading package gazetteers to /root/nltk_data...\n",
            "[nltk_data]    |   Unzipping corpora/gazetteers.zip.\n",
            "[nltk_data]    | Downloading package genesis to /root/nltk_data...\n",
            "[nltk_data]    |   Unzipping corpora/genesis.zip.\n",
            "[nltk_data]    | Downloading package gutenberg to /root/nltk_data...\n",
            "[nltk_data]    |   Unzipping corpora/gutenberg.zip.\n",
            "[nltk_data]    | Downloading package ieer to /root/nltk_data...\n",
            "[nltk_data]    |   Unzipping corpora/ieer.zip.\n",
            "[nltk_data]    | Downloading package inaugural to /root/nltk_data...\n",
            "[nltk_data]    |   Unzipping corpora/inaugural.zip.\n",
            "[nltk_data]    | Downloading package indian to /root/nltk_data...\n",
            "[nltk_data]    |   Unzipping corpora/indian.zip.\n",
            "[nltk_data]    | Downloading package jeita to /root/nltk_data...\n",
            "[nltk_data]    | Downloading package kimmo to /root/nltk_data...\n",
            "[nltk_data]    |   Unzipping corpora/kimmo.zip.\n",
            "[nltk_data]    | Downloading package knbc to /root/nltk_data...\n",
            "[nltk_data]    | Downloading package large_grammars to\n",
            "[nltk_data]    |     /root/nltk_data...\n",
            "[nltk_data]    |   Unzipping grammars/large_grammars.zip.\n",
            "[nltk_data]    | Downloading package lin_thesaurus to\n",
            "[nltk_data]    |     /root/nltk_data...\n",
            "[nltk_data]    |   Unzipping corpora/lin_thesaurus.zip.\n",
            "[nltk_data]    | Downloading package mac_morpho to /root/nltk_data...\n",
            "[nltk_data]    |   Unzipping corpora/mac_morpho.zip.\n",
            "[nltk_data]    | Downloading package machado to /root/nltk_data...\n",
            "[nltk_data]    | Downloading package masc_tagged to /root/nltk_data...\n",
            "[nltk_data]    | Downloading package maxent_ne_chunker to\n",
            "[nltk_data]    |     /root/nltk_data...\n",
            "[nltk_data]    |   Unzipping chunkers/maxent_ne_chunker.zip.\n",
            "[nltk_data]    | Downloading package maxent_treebank_pos_tagger to\n",
            "[nltk_data]    |     /root/nltk_data...\n",
            "[nltk_data]    |   Unzipping taggers/maxent_treebank_pos_tagger.zip.\n",
            "[nltk_data]    | Downloading package moses_sample to\n",
            "[nltk_data]    |     /root/nltk_data...\n",
            "[nltk_data]    |   Unzipping models/moses_sample.zip.\n",
            "[nltk_data]    | Downloading package movie_reviews to\n",
            "[nltk_data]    |     /root/nltk_data...\n",
            "[nltk_data]    |   Unzipping corpora/movie_reviews.zip.\n",
            "[nltk_data]    | Downloading package mte_teip5 to /root/nltk_data...\n",
            "[nltk_data]    |   Unzipping corpora/mte_teip5.zip.\n",
            "[nltk_data]    | Downloading package mwa_ppdb to /root/nltk_data...\n",
            "[nltk_data]    |   Unzipping misc/mwa_ppdb.zip.\n",
            "[nltk_data]    | Downloading package names to /root/nltk_data...\n",
            "[nltk_data]    |   Unzipping corpora/names.zip.\n",
            "[nltk_data]    | Downloading package nombank.1.0 to /root/nltk_data...\n",
            "[nltk_data]    | Downloading package nonbreaking_prefixes to\n",
            "[nltk_data]    |     /root/nltk_data...\n",
            "[nltk_data]    |   Unzipping corpora/nonbreaking_prefixes.zip.\n",
            "[nltk_data]    | Downloading package nps_chat to /root/nltk_data...\n",
            "[nltk_data]    |   Unzipping corpora/nps_chat.zip.\n",
            "[nltk_data]    | Downloading package omw to /root/nltk_data...\n",
            "[nltk_data]    | Downloading package omw-1.4 to /root/nltk_data...\n",
            "[nltk_data]    | Downloading package opinion_lexicon to\n",
            "[nltk_data]    |     /root/nltk_data...\n",
            "[nltk_data]    |   Unzipping corpora/opinion_lexicon.zip.\n",
            "[nltk_data]    | Downloading package panlex_swadesh to\n",
            "[nltk_data]    |     /root/nltk_data...\n",
            "[nltk_data]    | Downloading package paradigms to /root/nltk_data...\n",
            "[nltk_data]    |   Unzipping corpora/paradigms.zip.\n",
            "[nltk_data]    | Downloading package pe08 to /root/nltk_data...\n",
            "[nltk_data]    |   Unzipping corpora/pe08.zip.\n",
            "[nltk_data]    | Downloading package perluniprops to\n",
            "[nltk_data]    |     /root/nltk_data...\n",
            "[nltk_data]    |   Unzipping misc/perluniprops.zip.\n",
            "[nltk_data]    | Downloading package pil to /root/nltk_data...\n",
            "[nltk_data]    |   Unzipping corpora/pil.zip.\n",
            "[nltk_data]    | Downloading package pl196x to /root/nltk_data...\n",
            "[nltk_data]    |   Unzipping corpora/pl196x.zip.\n",
            "[nltk_data]    | Downloading package porter_test to /root/nltk_data...\n",
            "[nltk_data]    |   Unzipping stemmers/porter_test.zip.\n",
            "[nltk_data]    | Downloading package ppattach to /root/nltk_data...\n",
            "[nltk_data]    |   Unzipping corpora/ppattach.zip.\n",
            "[nltk_data]    | Downloading package problem_reports to\n",
            "[nltk_data]    |     /root/nltk_data...\n",
            "[nltk_data]    |   Unzipping corpora/problem_reports.zip.\n",
            "[nltk_data]    | Downloading package product_reviews_1 to\n",
            "[nltk_data]    |     /root/nltk_data...\n",
            "[nltk_data]    |   Unzipping corpora/product_reviews_1.zip.\n",
            "[nltk_data]    | Downloading package product_reviews_2 to\n",
            "[nltk_data]    |     /root/nltk_data...\n",
            "[nltk_data]    |   Unzipping corpora/product_reviews_2.zip.\n",
            "[nltk_data]    | Downloading package propbank to /root/nltk_data...\n",
            "[nltk_data]    | Downloading package pros_cons to /root/nltk_data...\n",
            "[nltk_data]    |   Unzipping corpora/pros_cons.zip.\n",
            "[nltk_data]    | Downloading package ptb to /root/nltk_data...\n",
            "[nltk_data]    |   Unzipping corpora/ptb.zip.\n",
            "[nltk_data]    | Downloading package punkt to /root/nltk_data...\n",
            "[nltk_data]    |   Unzipping tokenizers/punkt.zip.\n",
            "[nltk_data]    | Downloading package qc to /root/nltk_data...\n",
            "[nltk_data]    |   Unzipping corpora/qc.zip.\n",
            "[nltk_data]    | Downloading package reuters to /root/nltk_data...\n",
            "[nltk_data]    | Downloading package rslp to /root/nltk_data...\n",
            "[nltk_data]    |   Unzipping stemmers/rslp.zip.\n",
            "[nltk_data]    | Downloading package rte to /root/nltk_data...\n",
            "[nltk_data]    |   Unzipping corpora/rte.zip.\n",
            "[nltk_data]    | Downloading package sample_grammars to\n",
            "[nltk_data]    |     /root/nltk_data...\n",
            "[nltk_data]    |   Unzipping grammars/sample_grammars.zip.\n",
            "[nltk_data]    | Downloading package semcor to /root/nltk_data...\n",
            "[nltk_data]    | Downloading package senseval to /root/nltk_data...\n",
            "[nltk_data]    |   Unzipping corpora/senseval.zip.\n",
            "[nltk_data]    | Downloading package sentence_polarity to\n",
            "[nltk_data]    |     /root/nltk_data...\n",
            "[nltk_data]    |   Unzipping corpora/sentence_polarity.zip.\n",
            "[nltk_data]    | Downloading package sentiwordnet to\n",
            "[nltk_data]    |     /root/nltk_data...\n",
            "[nltk_data]    |   Unzipping corpora/sentiwordnet.zip.\n",
            "[nltk_data]    | Downloading package shakespeare to /root/nltk_data...\n",
            "[nltk_data]    |   Unzipping corpora/shakespeare.zip.\n",
            "[nltk_data]    | Downloading package sinica_treebank to\n",
            "[nltk_data]    |     /root/nltk_data...\n",
            "[nltk_data]    |   Unzipping corpora/sinica_treebank.zip.\n",
            "[nltk_data]    | Downloading package smultron to /root/nltk_data...\n",
            "[nltk_data]    |   Unzipping corpora/smultron.zip.\n",
            "[nltk_data]    | Downloading package snowball_data to\n",
            "[nltk_data]    |     /root/nltk_data...\n",
            "[nltk_data]    | Downloading package spanish_grammars to\n",
            "[nltk_data]    |     /root/nltk_data...\n",
            "[nltk_data]    |   Unzipping grammars/spanish_grammars.zip.\n",
            "[nltk_data]    | Downloading package state_union to /root/nltk_data...\n",
            "[nltk_data]    |   Unzipping corpora/state_union.zip.\n",
            "[nltk_data]    | Downloading package stopwords to /root/nltk_data...\n",
            "[nltk_data]    |   Unzipping corpora/stopwords.zip.\n",
            "[nltk_data]    | Downloading package subjectivity to\n",
            "[nltk_data]    |     /root/nltk_data...\n",
            "[nltk_data]    |   Unzipping corpora/subjectivity.zip.\n",
            "[nltk_data]    | Downloading package swadesh to /root/nltk_data...\n",
            "[nltk_data]    |   Unzipping corpora/swadesh.zip.\n",
            "[nltk_data]    | Downloading package switchboard to /root/nltk_data...\n",
            "[nltk_data]    |   Unzipping corpora/switchboard.zip.\n",
            "[nltk_data]    | Downloading package tagsets to /root/nltk_data...\n",
            "[nltk_data]    |   Unzipping help/tagsets.zip.\n",
            "[nltk_data]    | Downloading package timit to /root/nltk_data...\n",
            "[nltk_data]    |   Unzipping corpora/timit.zip.\n",
            "[nltk_data]    | Downloading package toolbox to /root/nltk_data...\n",
            "[nltk_data]    |   Unzipping corpora/toolbox.zip.\n",
            "[nltk_data]    | Downloading package treebank to /root/nltk_data...\n",
            "[nltk_data]    |   Unzipping corpora/treebank.zip.\n",
            "[nltk_data]    | Downloading package twitter_samples to\n",
            "[nltk_data]    |     /root/nltk_data...\n",
            "[nltk_data]    |   Unzipping corpora/twitter_samples.zip.\n",
            "[nltk_data]    | Downloading package udhr to /root/nltk_data...\n",
            "[nltk_data]    |   Unzipping corpora/udhr.zip.\n",
            "[nltk_data]    | Downloading package udhr2 to /root/nltk_data...\n",
            "[nltk_data]    |   Unzipping corpora/udhr2.zip.\n",
            "[nltk_data]    | Downloading package unicode_samples to\n",
            "[nltk_data]    |     /root/nltk_data...\n",
            "[nltk_data]    |   Unzipping corpora/unicode_samples.zip.\n",
            "[nltk_data]    | Downloading package universal_tagset to\n",
            "[nltk_data]    |     /root/nltk_data...\n",
            "[nltk_data]    |   Unzipping taggers/universal_tagset.zip.\n",
            "[nltk_data]    | Downloading package universal_treebanks_v20 to\n",
            "[nltk_data]    |     /root/nltk_data...\n",
            "[nltk_data]    | Downloading package vader_lexicon to\n",
            "[nltk_data]    |     /root/nltk_data...\n",
            "[nltk_data]    | Downloading package verbnet to /root/nltk_data...\n",
            "[nltk_data]    |   Unzipping corpora/verbnet.zip.\n",
            "[nltk_data]    | Downloading package verbnet3 to /root/nltk_data...\n",
            "[nltk_data]    |   Unzipping corpora/verbnet3.zip.\n",
            "[nltk_data]    | Downloading package webtext to /root/nltk_data...\n",
            "[nltk_data]    |   Unzipping corpora/webtext.zip.\n",
            "[nltk_data]    | Downloading package wmt15_eval to /root/nltk_data...\n",
            "[nltk_data]    |   Unzipping models/wmt15_eval.zip.\n",
            "[nltk_data]    | Downloading package word2vec_sample to\n",
            "[nltk_data]    |     /root/nltk_data...\n",
            "[nltk_data]    |   Unzipping models/word2vec_sample.zip.\n",
            "[nltk_data]    | Downloading package wordnet to /root/nltk_data...\n",
            "[nltk_data]    | Downloading package wordnet2021 to /root/nltk_data...\n",
            "[nltk_data]    | Downloading package wordnet31 to /root/nltk_data...\n",
            "[nltk_data]    | Downloading package wordnet_ic to /root/nltk_data...\n",
            "[nltk_data]    |   Unzipping corpora/wordnet_ic.zip.\n",
            "[nltk_data]    | Downloading package words to /root/nltk_data...\n",
            "[nltk_data]    |   Unzipping corpora/words.zip.\n",
            "[nltk_data]    | Downloading package ycoe to /root/nltk_data...\n",
            "[nltk_data]    |   Unzipping corpora/ycoe.zip.\n",
            "[nltk_data]    | \n",
            "[nltk_data]  Done downloading collection all\n"
          ]
        },
        {
          "output_type": "execute_result",
          "data": {
            "text/plain": [
              "True"
            ]
          },
          "metadata": {},
          "execution_count": 4
        }
      ]
    },
    {
      "cell_type": "markdown",
      "metadata": {
        "id": "f0CFqxeyBFUx"
      },
      "source": [
        "`Importamos los libros demos que tiene NLTK`"
      ]
    },
    {
      "cell_type": "code",
      "metadata": {
        "id": "R17BmtUIBFUy",
        "colab": {
          "base_uri": "https://localhost:8080/"
        },
        "outputId": "b9c5077a-ae82-4bf3-bcc0-f1cd6fa50403"
      },
      "source": [
        "from nltk.book import * "
      ],
      "execution_count": null,
      "outputs": [
        {
          "output_type": "stream",
          "name": "stdout",
          "text": [
            "*** Introductory Examples for the NLTK Book ***\n",
            "Loading text1, ..., text9 and sent1, ..., sent9\n",
            "Type the name of the text or sentence to view it.\n",
            "Type: 'texts()' or 'sents()' to list the materials.\n",
            "text1: Moby Dick by Herman Melville 1851\n",
            "text2: Sense and Sensibility by Jane Austen 1811\n",
            "text3: The Book of Genesis\n",
            "text4: Inaugural Address Corpus\n",
            "text5: Chat Corpus\n",
            "text6: Monty Python and the Holy Grail\n",
            "text7: Wall Street Journal\n",
            "text8: Personals Corpus\n",
            "text9: The Man Who Was Thursday by G . K . Chesterton 1908\n"
          ]
        }
      ]
    },
    {
      "cell_type": "code",
      "metadata": {
        "id": "7NU0As_VBFU1",
        "colab": {
          "base_uri": "https://localhost:8080/"
        },
        "outputId": "86ae7182-d9d1-45c3-f858-093340a7cd95"
      },
      "source": [
        "print(text1)\n",
        "print(text2)"
      ],
      "execution_count": null,
      "outputs": [
        {
          "output_type": "stream",
          "name": "stdout",
          "text": [
            "<Text: Moby Dick by Herman Melville 1851>\n",
            "<Text: Sense and Sensibility by Jane Austen 1811>\n"
          ]
        }
      ]
    },
    {
      "cell_type": "code",
      "metadata": {
        "id": "K-X8YuzjBFU5",
        "colab": {
          "base_uri": "https://localhost:8080/"
        },
        "outputId": "7012b645-5c91-402f-9280-d14d75bfd622"
      },
      "source": [
        "print(text1.name)\n",
        "print(text2.name)"
      ],
      "execution_count": null,
      "outputs": [
        {
          "output_type": "stream",
          "name": "stdout",
          "text": [
            "Moby Dick by Herman Melville 1851\n",
            "Sense and Sensibility by Jane Austen 1811\n"
          ]
        }
      ]
    },
    {
      "cell_type": "markdown",
      "metadata": {
        "id": "PmyBaWjmBFU9"
      },
      "source": [
        "#### 1.3   Búsqueda de texto"
      ]
    },
    {
      "cell_type": "code",
      "metadata": {
        "colab": {
          "base_uri": "https://localhost:8080/"
        },
        "id": "AGdYavMx-2c1",
        "outputId": "9ae0fb98-5bcd-434c-a6fe-7b71f3b4cde0"
      },
      "source": [
        "text4.concordance('write')"
      ],
      "execution_count": null,
      "outputs": [
        {
          "output_type": "stream",
          "name": "stdout",
          "text": [
            "Displaying 8 of 8 matches:\n",
            " to think freely and to speak and to write what they think ; but this being now\n",
            " if we had a clean sheet of paper to write upon ; and step by step we shall mak\n",
            "rogress , which seeks to clarify and write the laws of international relationsh\n",
            "ng people must be taught to read and write . For the more than 30 years that I \n",
            "oon moved poet Archibald MacLeish to write : \" To see the earth as it truly is \n",
            "ing to heed and hear Your will , and write on our hearts these words : \" Use po\n",
            "e we will . And when we do , we will write the next great chapter in the histor\n",
            "ublic good . And together , we shall write an American story of hope , not fear\n"
          ]
        }
      ]
    },
    {
      "cell_type": "code",
      "metadata": {
        "id": "NBmVMN12BFU-",
        "colab": {
          "base_uri": "https://localhost:8080/"
        },
        "outputId": "a2e5c1ab-7883-49b5-8a4f-20e42ff68b6a"
      },
      "source": [
        "text1.concordance(\"monstrous\")"
      ],
      "execution_count": null,
      "outputs": [
        {
          "output_type": "stream",
          "name": "stdout",
          "text": [
            "Displaying 11 of 11 matches:\n",
            "ong the former , one was of a most monstrous size . ... This came towards us , \n",
            "ON OF THE PSALMS . \" Touching that monstrous bulk of the whale or ork we have r\n",
            "ll over with a heathenish array of monstrous clubs and spears . Some were thick\n",
            "d as you gazed , and wondered what monstrous cannibal and savage could ever hav\n",
            "that has survived the flood ; most monstrous and most mountainous ! That Himmal\n",
            "they might scout at Moby Dick as a monstrous fable , or still worse and more de\n",
            "th of Radney .'\" CHAPTER 55 Of the Monstrous Pictures of Whales . I shall ere l\n",
            "ing Scenes . In connexion with the monstrous pictures of whales , I am strongly\n",
            "ere to enter upon those still more monstrous stories of them which are to be fo\n",
            "ght have been rummaged out of this monstrous cabinet there is no telling . But \n",
            "of Whale - Bones ; for Whales of a monstrous size are oftentimes cast up dead u\n"
          ]
        }
      ]
    },
    {
      "cell_type": "code",
      "source": [
        "text2.concordance(\"monstrous\")"
      ],
      "metadata": {
        "colab": {
          "base_uri": "https://localhost:8080/"
        },
        "id": "xIorN2H2QKL_",
        "outputId": "a67ec067-bd06-41d5-e204-989d991ba4f5"
      },
      "execution_count": null,
      "outputs": [
        {
          "output_type": "stream",
          "name": "stdout",
          "text": [
            "Displaying 11 of 11 matches:\n",
            ". \" Now , Palmer , you shall see a monstrous pretty girl .\" He immediately went\n",
            "your sister is to marry him . I am monstrous glad of it , for then I shall have\n",
            "ou may tell your sister . She is a monstrous lucky girl to get him , upon my ho\n",
            "k how you will like them . Lucy is monstrous pretty , and so good humoured and \n",
            " Jennings , \" I am sure I shall be monstrous glad of Miss Marianne ' s company \n",
            " usual noisy cheerfulness , \" I am monstrous glad to see you -- sorry I could n\n",
            "t however , as it turns out , I am monstrous glad there was never any thing in \n",
            "so scornfully ! for they say he is monstrous fond of her , as well he may . I s\n",
            "possible that she should .\" \" I am monstrous glad of it . Good gracious ! I hav\n",
            "thing of the kind . So then he was monstrous happy , and talked on some time ab\n",
            "e very genteel people . He makes a monstrous deal of money , and they keep thei\n"
          ]
        }
      ]
    },
    {
      "cell_type": "code",
      "source": [
        "text1[:15]"
      ],
      "metadata": {
        "colab": {
          "base_uri": "https://localhost:8080/"
        },
        "id": "ZDHyPv8h-Lip",
        "outputId": "8c5504f0-f891-435e-d9dc-53681aa5ecac"
      },
      "execution_count": null,
      "outputs": [
        {
          "output_type": "execute_result",
          "data": {
            "text/plain": [
              "['[',\n",
              " 'Moby',\n",
              " 'Dick',\n",
              " 'by',\n",
              " 'Herman',\n",
              " 'Melville',\n",
              " '1851',\n",
              " ']',\n",
              " 'ETYMOLOGY',\n",
              " '.',\n",
              " '(',\n",
              " 'Supplied',\n",
              " 'by',\n",
              " 'a',\n",
              " 'Late']"
            ]
          },
          "metadata": {},
          "execution_count": 11
        }
      ]
    },
    {
      "cell_type": "code",
      "metadata": {
        "colab": {
          "base_uri": "https://localhost:8080/",
          "height": 140
        },
        "id": "Out80bysBUg0",
        "outputId": "5263c337-f838-40c1-d859-37bf1089112f"
      },
      "source": [
        "' '.join(text1[:1500])"
      ],
      "execution_count": null,
      "outputs": [
        {
          "output_type": "execute_result",
          "data": {
            "text/plain": [
              "'[ Moby Dick by Herman Melville 1851 ] ETYMOLOGY . ( Supplied by a Late Consumptive Usher to a Grammar School ) The pale Usher -- threadbare in coat , heart , body , and brain ; I see him now . He was ever dusting his old lexicons and grammars , with a queer handkerchief , mockingly embellished with all the gay flags of all the known nations of the world . He loved to dust his old grammars ; it somehow mildly reminded him of his mortality . \" While you take in hand to school others , and to teach them by what name a whale - fish is to be called in our tongue leaving out , through ignorance , the letter H , which almost alone maketh the signification of the word , you deliver that which is not true .\" -- HACKLUYT \" WHALE . ... Sw . and Dan . HVAL . This animal is named from roundness or rolling ; for in Dan . HVALT is arched or vaulted .\" -- WEBSTER \\' S DICTIONARY \" WHALE . ... It is more immediately from the Dut . and Ger . WALLEN ; A . S . WALW - IAN , to roll , to wallow .\" -- RICHARDSON \\' S DICTIONARY KETOS , GREEK . CETUS , LATIN . WHOEL , ANGLO - SAXON . HVALT , DANISH . WAL , DUTCH . HWAL , SWEDISH . WHALE , ICELANDIC . WHALE , ENGLISH . BALEINE , FRENCH . BALLENA , SPANISH . PEKEE - NUEE - NUEE , FEGEE . PEKEE - NUEE - NUEE , ERROMANGOAN . EXTRACTS ( Supplied by a Sub - Sub - Librarian ). It will be seen that this mere painstaking burrower and grub - worm of a poor devil of a Sub - Sub appears to have gone through the long Vaticans and street - stalls of the earth , picking up whatever random allusions to whales he could anyways find in any book whatsoever , sacred or profane . Therefore you must not , in every case at least , take the higgledy - piggledy whale statements , however authentic , in these extracts , for veritable gospel cetology . Far from it . As touching the ancient authors generally , as well as the poets here appearing , these extracts are solely valuable or entertaining , as affording a glancing bird \\' s eye view of what has been promiscuously said , thought , fancied , and sung of Leviathan , by many nations and generations , including our own . So fare thee well , poor devil of a Sub - Sub , whose commentator I am . Thou belongest to that hopeless , sallow tribe which no wine of this world will ever warm ; and for whom even Pale Sherry would be too rosy - strong ; but with whom one sometimes loves to sit , and feel poor - devilish , too ; and grow convivial upon tears ; and say to them bluntly , with full eyes and empty glasses , and in not altogether unpleasant sadness -- Give it up , Sub - Subs ! For by how much the more pains ye take to please the world , by so much the more shall ye for ever go thankless ! Would that I could clear out Hampton Court and the Tuileries for ye ! But gulp down your tears and hie aloft to the royal - mast with your hearts ; for your friends who have gone before are clearing out the seven - storied heavens , and making refugees of long - pampered Gabriel , Michael , and Raphael , against your coming . Here ye strike but splintered hearts together -- there , ye shall strike unsplinterable glasses ! EXTRACTS . \" And God created great whales .\" -- GENESIS . \" Leviathan maketh a path to shine after him ; One would think the deep to be hoary .\" -- JOB . \" Now the Lord had prepared a great fish to swallow up Jonah .\" -- JONAH . \" There go the ships ; there is that Leviathan whom thou hast made to play therein .\" -- PSALMS . \" In that day , the Lord with his sore , and great , and strong sword , shall punish Leviathan the piercing serpent , even Leviathan that crooked serpent ; and he shall slay the dragon that is in the sea .\" -- ISAIAH \" And what thing soever besides cometh within the chaos of this monster \\' s mouth , be it beast , boat , or stone , down it goes all incontinently that foul great swallow of his , and perisheth in the bottomless gulf of his paunch .\" -- HOLLAND \\' S PLUTARCH \\' S MORALS . \" The Indian Sea breedeth the most and the biggest fishes that are : among which the Whales and Whirlpooles called Balaene , take up as much in length as four acres or arpens of land .\" -- HOLLAND \\' S PLINY . \" Scarcely had we proceeded two days on the sea , when about sunrise a great many Whales and other monsters of the sea , appeared . Among the former , one was of a most monstrous size . ... This came towards us , open - mouthed , raising the waves on all sides , and beating the sea before him into a foam .\" -- TOOKE \\' S LUCIAN . \" THE TRUE HISTORY .\" \" He visited this country also with a view of catching horse - whales , which had bones of very great value for their teeth , of which he brought some to the king . ... The best whales were catched in his own country , of which some were forty - eight , some fifty yards long . He said that he was one of six who had killed sixty in two days .\" -- OTHER OR OCTHER \\' S VERBAL NARRATIVE TAKEN DOWN FROM HIS MOUTH BY KING ALFRED , A . D . 890 . \" And whereas all the other things , whether beast or vessel , that enter into the dreadful gulf of this monster \\' s ( whale \\' s ) mouth , are immediately lost and swallowed up , the sea - gudgeon retires into it in great security , and there sleeps .\" -- MONTAIGNE . -- APOLOGY FOR RAIMOND SEBOND . \" Let us fly , let us fly ! Old Nick take me if is not Leviathan described by the noble prophet Moses in the life of patient Job .\" -- RABELAIS . \" This whale \\' s liver was two cartloads .\" -- STOWE \\' S ANNALS . \" The great Leviathan that maketh the seas to seethe like boiling pan .\" -- LORD BACON \\' S VERSION OF THE PSALMS . \" Touching that monstrous bulk of the whale or ork we have received nothing certain . They grow exceeding fat , insomuch that an incredible quantity of oil will be extracted out of one whale .\" -- IBID . \" HISTORY OF LIFE AND DEATH .\" \" The sovereignest thing on earth is parmacetti for an inward bruise .\" -- KING HENRY . \" Very like a whale .\" -- HAMLET . \" Which to secure , no skill of leach \\' s art Mote him availle , but to returne againe To his wound \\' s worker , that with lowly dart , Dinting his breast , had bred his restless paine , Like as the wounded whale to shore flies thro \\' the maine .\" -- THE FAERIE QUEEN . \" Immense as whales , the motion of whose vast bodies can in a peaceful calm trouble the ocean til it boil .\" -- SIR WILLIAM DAVENANT . PREFACE TO GONDIBERT . \" What spermacetti is , men might justly doubt , since the learned Hosmannus in his work of thirty years , saith plainly , Nescio quid sit .\" -- SIR T . BROWNE . OF SPERMA CETI AND THE SPERMA CETI WHALE . VIDE HIS V . E . \" Like Spencer \\' s Talus with his modern flail He threatens ruin with his ponderous tail . ... Their fixed jav \\' lins in his side he wears , And on his back a grove of pikes appears .\" -- WALLER \\' S BATTLE OF THE SUMMER ISLANDS . \" By art is created that great Leviathan , called a Commonwealth or State --( in Latin , Civitas ) which is but an artificial man .\" -- OPENING SENTENCE OF HOBBES \\' S LEVIATHAN . \" Silly Mansoul swallowed it without chewing , as if it had been a sprat in the mouth of a whale .\" -- PILGRIM \\' S PROGRESS .'"
            ],
            "application/vnd.google.colaboratory.intrinsic+json": {
              "type": "string"
            }
          },
          "metadata": {},
          "execution_count": 12
        }
      ]
    },
    {
      "cell_type": "code",
      "metadata": {
        "id": "AHqnh13hBFVC",
        "colab": {
          "base_uri": "https://localhost:8080/"
        },
        "outputId": "703fc895-d987-402b-e645-37b0c953f1d9"
      },
      "source": [
        "text1.similar(\"monstrous\") "
      ],
      "execution_count": null,
      "outputs": [
        {
          "output_type": "stream",
          "name": "stdout",
          "text": [
            "true contemptible christian abundant few part mean careful puzzled\n",
            "mystifying passing curious loving wise doleful gamesome singular\n",
            "delightfully perilous fearless\n"
          ]
        }
      ]
    },
    {
      "cell_type": "code",
      "metadata": {
        "id": "2NGTZLqyBFVE",
        "colab": {
          "base_uri": "https://localhost:8080/"
        },
        "outputId": "cacb5cf9-9ed0-4399-cf9b-ff1a3099de85"
      },
      "source": [
        "text2.similar(\"monstrous\")"
      ],
      "execution_count": null,
      "outputs": [
        {
          "output_type": "stream",
          "name": "stdout",
          "text": [
            "very so exceedingly heartily a as good great extremely remarkably\n",
            "sweet vast amazingly\n"
          ]
        }
      ]
    },
    {
      "cell_type": "code",
      "metadata": {
        "id": "JOha3BMgBFVH",
        "colab": {
          "base_uri": "https://localhost:8080/"
        },
        "outputId": "5f6eb96d-d0b9-4eb5-ea3c-34a1188b5218"
      },
      "source": [
        "text1.common_contexts(['whale','man'])"
      ],
      "execution_count": null,
      "outputs": [
        {
          "output_type": "stream",
          "name": "stdout",
          "text": [
            "the_s the_in the_i a_in a_is the_to white_he white_a the_that the_of\n",
            "the_now the_at the_for the_or a_s the_he a_as dead_s this_and a_like\n"
          ]
        }
      ]
    },
    {
      "cell_type": "code",
      "metadata": {
        "id": "eEXbJWaDBFVK",
        "colab": {
          "base_uri": "https://localhost:8080/"
        },
        "outputId": "517abbaa-3874-4b29-f027-43002dce0cb6"
      },
      "source": [
        "text2.common_contexts([\"monstrous\", \"very\"])"
      ],
      "execution_count": null,
      "outputs": [
        {
          "output_type": "stream",
          "name": "stdout",
          "text": [
            "am_glad a_pretty a_lucky is_pretty be_glad\n"
          ]
        }
      ]
    },
    {
      "cell_type": "code",
      "metadata": {
        "id": "Y_miM73TBFVN",
        "colab": {
          "base_uri": "https://localhost:8080/",
          "height": 295
        },
        "outputId": "171b6dc0-8377-448b-de59-0a2a77bd2121"
      },
      "source": [
        "text1.dispersion_plot([\"monstrous\", \"whale\"])"
      ],
      "execution_count": null,
      "outputs": [
        {
          "output_type": "display_data",
          "data": {
            "text/plain": [
              "<Figure size 432x288 with 1 Axes>"
            ],
            "image/png": "[encoded data removed]"
          },
          "metadata": {
            "needs_background": "light"
          }
        }
      ]
    },
    {
      "cell_type": "code",
      "metadata": {
        "id": "OoH4fxuGBFVQ",
        "colab": {
          "base_uri": "https://localhost:8080/",
          "height": 295
        },
        "outputId": "2a539ad5-8bf8-4a48-c8d8-077b346a92ab"
      },
      "source": [
        "text4.dispersion_plot([\"citizens\", 'democracy', \"freedom\", \"duties\", \"America\"])"
      ],
      "execution_count": null,
      "outputs": [
        {
          "output_type": "display_data",
          "data": {
            "text/plain": [
              "<Figure size 432x288 with 1 Axes>"
            ],
            "image/png": "[encoded data removed]"
          },
          "metadata": {
            "needs_background": "light"
          }
        }
      ]
    },
    {
      "cell_type": "markdown",
      "metadata": {
        "id": "oOBz6UWjBFVU"
      },
      "source": [
        "#### 1.4   Contando Vocabulario"
      ]
    },
    {
      "cell_type": "code",
      "metadata": {
        "id": "GnROv5R5BFVV",
        "colab": {
          "base_uri": "https://localhost:8080/"
        },
        "outputId": "e21f45c2-e80c-4598-ec0a-49b9aa945a67"
      },
      "source": [
        "print(len(text3))\n",
        "print(len(\"Hola mundo cruel estoy en clase de NLP, estoy pensado algo de datos.;)\"))"
      ],
      "execution_count": null,
      "outputs": [
        {
          "output_type": "stream",
          "name": "stdout",
          "text": [
            "44764\n",
            "70\n"
          ]
        }
      ]
    },
    {
      "cell_type": "code",
      "metadata": {
        "id": "vV16NSurvbVg",
        "colab": {
          "base_uri": "https://localhost:8080/"
        },
        "outputId": "0085d4ca-45b2-41ee-9491-93ec703280df"
      },
      "source": [
        "from nltk.tokenize import TweetTokenizer\n",
        "text_tweet = 'Hola mundo cruel estoy en clase de NLP ;) ... :), estoy pensado algo de datos. ;)'.lower()\n",
        "tknzr = TweetTokenizer(strip_handles=True, reduce_len=True)\n",
        "token_list = tknzr.tokenize(text_tweet)\n",
        "print(len(token_list), token_list)\n",
        "print(len(set(token_list)), sorted(set(token_list)))"
      ],
      "execution_count": null,
      "outputs": [
        {
          "output_type": "stream",
          "name": "stdout",
          "text": [
            "19 ['hola', 'mundo', 'cruel', 'estoy', 'en', 'clase', 'de', 'nlp', ';)', '...', ':)', ',', 'estoy', 'pensado', 'algo', 'de', 'datos', '.', ';)']\n",
            "16 [',', '.', '...', ':)', ';)', 'algo', 'clase', 'cruel', 'datos', 'de', 'en', 'estoy', 'hola', 'mundo', 'nlp', 'pensado']\n"
          ]
        }
      ]
    },
    {
      "cell_type": "code",
      "metadata": {
        "id": "_KMFg0QCsDMG",
        "colab": {
          "base_uri": "https://localhost:8080/"
        },
        "outputId": "ec2c503c-33d5-410c-f7cb-37cc8631e01e"
      },
      "source": [
        "len(set(text3))"
      ],
      "execution_count": null,
      "outputs": [
        {
          "output_type": "execute_result",
          "data": {
            "text/plain": [
              "2789"
            ]
          },
          "metadata": {},
          "execution_count": 21
        }
      ]
    },
    {
      "cell_type": "code",
      "source": [
        "len(text3)"
      ],
      "metadata": {
        "colab": {
          "base_uri": "https://localhost:8080/"
        },
        "id": "RYt60HzzIoyU",
        "outputId": "1cba4db7-d4f3-4a22-d9af-bb9735a6189b"
      },
      "execution_count": null,
      "outputs": [
        {
          "output_type": "execute_result",
          "data": {
            "text/plain": [
              "44764"
            ]
          },
          "metadata": {},
          "execution_count": 22
        }
      ]
    },
    {
      "cell_type": "code",
      "metadata": {
        "collapsed": true,
        "id": "7gN7ybDhBFVc",
        "colab": {
          "base_uri": "https://localhost:8080/"
        },
        "outputId": "f0d03067-e19d-4025-b62c-9bc529bd22ee"
      },
      "source": [
        "sorted(set(text3))"
      ],
      "execution_count": null,
      "outputs": [
        {
          "output_type": "execute_result",
          "data": {
            "text/plain": [
              "['!',\n",
              " \"'\",\n",
              " '(',\n",
              " ')',\n",
              " ',',\n",
              " ',)',\n",
              " '.',\n",
              " '.)',\n",
              " ':',\n",
              " ';',\n",
              " ';)',\n",
              " '?',\n",
              " '?)',\n",
              " 'A',\n",
              " 'Abel',\n",
              " 'Abelmizraim',\n",
              " 'Abidah',\n",
              " 'Abide',\n",
              " 'Abimael',\n",
              " 'Abimelech',\n",
              " 'Abr',\n",
              " 'Abrah',\n",
              " 'Abraham',\n",
              " 'Abram',\n",
              " 'Accad',\n",
              " 'Achbor',\n",
              " 'Adah',\n",
              " 'Adam',\n",
              " 'Adbeel',\n",
              " 'Admah',\n",
              " 'Adullamite',\n",
              " 'After',\n",
              " 'Aholibamah',\n",
              " 'Ahuzzath',\n",
              " 'Ajah',\n",
              " 'Akan',\n",
              " 'All',\n",
              " 'Allonbachuth',\n",
              " 'Almighty',\n",
              " 'Almodad',\n",
              " 'Also',\n",
              " 'Alvah',\n",
              " 'Alvan',\n",
              " 'Am',\n",
              " 'Amal',\n",
              " 'Amalek',\n",
              " 'Amalekites',\n",
              " 'Ammon',\n",
              " 'Amorite',\n",
              " 'Amorites',\n",
              " 'Amraphel',\n",
              " 'An',\n",
              " 'Anah',\n",
              " 'Anamim',\n",
              " 'And',\n",
              " 'Aner',\n",
              " 'Angel',\n",
              " 'Appoint',\n",
              " 'Aram',\n",
              " 'Aran',\n",
              " 'Ararat',\n",
              " 'Arbah',\n",
              " 'Ard',\n",
              " 'Are',\n",
              " 'Areli',\n",
              " 'Arioch',\n",
              " 'Arise',\n",
              " 'Arkite',\n",
              " 'Arodi',\n",
              " 'Arphaxad',\n",
              " 'Art',\n",
              " 'Arvadite',\n",
              " 'As',\n",
              " 'Asenath',\n",
              " 'Ashbel',\n",
              " 'Asher',\n",
              " 'Ashkenaz',\n",
              " 'Ashteroth',\n",
              " 'Ask',\n",
              " 'Asshur',\n",
              " 'Asshurim',\n",
              " 'Assyr',\n",
              " 'Assyria',\n",
              " 'At',\n",
              " 'Atad',\n",
              " 'Avith',\n",
              " 'Baalhanan',\n",
              " 'Babel',\n",
              " 'Bashemath',\n",
              " 'Be',\n",
              " 'Because',\n",
              " 'Becher',\n",
              " 'Bedad',\n",
              " 'Beeri',\n",
              " 'Beerlahairoi',\n",
              " 'Beersheba',\n",
              " 'Behold',\n",
              " 'Bela',\n",
              " 'Belah',\n",
              " 'Benam',\n",
              " 'Benjamin',\n",
              " 'Beno',\n",
              " 'Beor',\n",
              " 'Bera',\n",
              " 'Bered',\n",
              " 'Beriah',\n",
              " 'Bethel',\n",
              " 'Bethlehem',\n",
              " 'Bethuel',\n",
              " 'Beware',\n",
              " 'Bilhah',\n",
              " 'Bilhan',\n",
              " 'Binding',\n",
              " 'Birsha',\n",
              " 'Bless',\n",
              " 'Blessed',\n",
              " 'Both',\n",
              " 'Bow',\n",
              " 'Bozrah',\n",
              " 'Bring',\n",
              " 'But',\n",
              " 'Buz',\n",
              " 'By',\n",
              " 'Cain',\n",
              " 'Cainan',\n",
              " 'Calah',\n",
              " 'Calneh',\n",
              " 'Can',\n",
              " 'Cana',\n",
              " 'Canaan',\n",
              " 'Canaanite',\n",
              " 'Canaanites',\n",
              " 'Canaanitish',\n",
              " 'Caphtorim',\n",
              " 'Carmi',\n",
              " 'Casluhim',\n",
              " 'Cast',\n",
              " 'Cause',\n",
              " 'Chaldees',\n",
              " 'Chedorlaomer',\n",
              " 'Cheran',\n",
              " 'Cherubims',\n",
              " 'Chesed',\n",
              " 'Chezib',\n",
              " 'Come',\n",
              " 'Cursed',\n",
              " 'Cush',\n",
              " 'Damascus',\n",
              " 'Dan',\n",
              " 'Day',\n",
              " 'Deborah',\n",
              " 'Dedan',\n",
              " 'Deliver',\n",
              " 'Diklah',\n",
              " 'Din',\n",
              " 'Dinah',\n",
              " 'Dinhabah',\n",
              " 'Discern',\n",
              " 'Dishan',\n",
              " 'Dishon',\n",
              " 'Do',\n",
              " 'Dodanim',\n",
              " 'Dothan',\n",
              " 'Drink',\n",
              " 'Duke',\n",
              " 'Dumah',\n",
              " 'Earth',\n",
              " 'Ebal',\n",
              " 'Eber',\n",
              " 'Edar',\n",
              " 'Eden',\n",
              " 'Edom',\n",
              " 'Edomites',\n",
              " 'Egy',\n",
              " 'Egypt',\n",
              " 'Egyptia',\n",
              " 'Egyptian',\n",
              " 'Egyptians',\n",
              " 'Ehi',\n",
              " 'Elah',\n",
              " 'Elam',\n",
              " 'Elbethel',\n",
              " 'Eldaah',\n",
              " 'EleloheIsrael',\n",
              " 'Eliezer',\n",
              " 'Eliphaz',\n",
              " 'Elishah',\n",
              " 'Ellasar',\n",
              " 'Elon',\n",
              " 'Elparan',\n",
              " 'Emins',\n",
              " 'En',\n",
              " 'Enmishpat',\n",
              " 'Eno',\n",
              " 'Enoch',\n",
              " 'Enos',\n",
              " 'Ephah',\n",
              " 'Epher',\n",
              " 'Ephra',\n",
              " 'Ephraim',\n",
              " 'Ephrath',\n",
              " 'Ephron',\n",
              " 'Er',\n",
              " 'Erech',\n",
              " 'Eri',\n",
              " 'Es',\n",
              " 'Esau',\n",
              " 'Escape',\n",
              " 'Esek',\n",
              " 'Eshban',\n",
              " 'Eshcol',\n",
              " 'Ethiopia',\n",
              " 'Euphrat',\n",
              " 'Euphrates',\n",
              " 'Eve',\n",
              " 'Even',\n",
              " 'Every',\n",
              " 'Except',\n",
              " 'Ezbon',\n",
              " 'Ezer',\n",
              " 'Fear',\n",
              " 'Feed',\n",
              " 'Fifteen',\n",
              " 'Fill',\n",
              " 'For',\n",
              " 'Forasmuch',\n",
              " 'Forgive',\n",
              " 'From',\n",
              " 'Fulfil',\n",
              " 'G',\n",
              " 'Gad',\n",
              " 'Gaham',\n",
              " 'Galeed',\n",
              " 'Gatam',\n",
              " 'Gather',\n",
              " 'Gaza',\n",
              " 'Gentiles',\n",
              " 'Gera',\n",
              " 'Gerar',\n",
              " 'Gershon',\n",
              " 'Get',\n",
              " 'Gether',\n",
              " 'Gihon',\n",
              " 'Gilead',\n",
              " 'Girgashites',\n",
              " 'Girgasite',\n",
              " 'Give',\n",
              " 'Go',\n",
              " 'God',\n",
              " 'Gomer',\n",
              " 'Gomorrah',\n",
              " 'Goshen',\n",
              " 'Guni',\n",
              " 'Hadad',\n",
              " 'Hadar',\n",
              " 'Hadoram',\n",
              " 'Hagar',\n",
              " 'Haggi',\n",
              " 'Hai',\n",
              " 'Ham',\n",
              " 'Hamathite',\n",
              " 'Hamor',\n",
              " 'Hamul',\n",
              " 'Hanoch',\n",
              " 'Happy',\n",
              " 'Haran',\n",
              " 'Hast',\n",
              " 'Haste',\n",
              " 'Have',\n",
              " 'Havilah',\n",
              " 'Hazarmaveth',\n",
              " 'Hazezontamar',\n",
              " 'Hazo',\n",
              " 'He',\n",
              " 'Hear',\n",
              " 'Heaven',\n",
              " 'Heber',\n",
              " 'Hebrew',\n",
              " 'Hebrews',\n",
              " 'Hebron',\n",
              " 'Hemam',\n",
              " 'Hemdan',\n",
              " 'Here',\n",
              " 'Hereby',\n",
              " 'Heth',\n",
              " 'Hezron',\n",
              " 'Hiddekel',\n",
              " 'Hinder',\n",
              " 'Hirah',\n",
              " 'His',\n",
              " 'Hitti',\n",
              " 'Hittite',\n",
              " 'Hittites',\n",
              " 'Hivite',\n",
              " 'Hobah',\n",
              " 'Hori',\n",
              " 'Horite',\n",
              " 'Horites',\n",
              " 'How',\n",
              " 'Hul',\n",
              " 'Huppim',\n",
              " 'Husham',\n",
              " 'Hushim',\n",
              " 'Huz',\n",
              " 'I',\n",
              " 'If',\n",
              " 'In',\n",
              " 'Irad',\n",
              " 'Iram',\n",
              " 'Is',\n",
              " 'Isa',\n",
              " 'Isaac',\n",
              " 'Iscah',\n",
              " 'Ishbak',\n",
              " 'Ishmael',\n",
              " 'Ishmeelites',\n",
              " 'Ishuah',\n",
              " 'Isra',\n",
              " 'Israel',\n",
              " 'Issachar',\n",
              " 'Isui',\n",
              " 'It',\n",
              " 'Ithran',\n",
              " 'Jaalam',\n",
              " 'Jabal',\n",
              " 'Jabbok',\n",
              " 'Jac',\n",
              " 'Jachin',\n",
              " 'Jacob',\n",
              " 'Jahleel',\n",
              " 'Jahzeel',\n",
              " 'Jamin',\n",
              " 'Japhe',\n",
              " 'Japheth',\n",
              " 'Jared',\n",
              " 'Javan',\n",
              " 'Jebusite',\n",
              " 'Jebusites',\n",
              " 'Jegarsahadutha',\n",
              " 'Jehovahjireh',\n",
              " 'Jemuel',\n",
              " 'Jerah',\n",
              " 'Jetheth',\n",
              " 'Jetur',\n",
              " 'Jeush',\n",
              " 'Jezer',\n",
              " 'Jidlaph',\n",
              " 'Jimnah',\n",
              " 'Job',\n",
              " 'Jobab',\n",
              " 'Jokshan',\n",
              " 'Joktan',\n",
              " 'Jordan',\n",
              " 'Joseph',\n",
              " 'Jubal',\n",
              " 'Judah',\n",
              " 'Judge',\n",
              " 'Judith',\n",
              " 'Kadesh',\n",
              " 'Kadmonites',\n",
              " 'Karnaim',\n",
              " 'Kedar',\n",
              " 'Kedemah',\n",
              " 'Kemuel',\n",
              " 'Kenaz',\n",
              " 'Kenites',\n",
              " 'Kenizzites',\n",
              " 'Keturah',\n",
              " 'Kiriathaim',\n",
              " 'Kirjatharba',\n",
              " 'Kittim',\n",
              " 'Know',\n",
              " 'Kohath',\n",
              " 'Kor',\n",
              " 'Korah',\n",
              " 'LO',\n",
              " 'LORD',\n",
              " 'Laban',\n",
              " 'Lahairoi',\n",
              " 'Lamech',\n",
              " 'Lasha',\n",
              " 'Lay',\n",
              " 'Leah',\n",
              " 'Lehabim',\n",
              " 'Lest',\n",
              " 'Let',\n",
              " 'Letushim',\n",
              " 'Leummim',\n",
              " 'Levi',\n",
              " 'Lie',\n",
              " 'Lift',\n",
              " 'Lo',\n",
              " 'Look',\n",
              " 'Lot',\n",
              " 'Lotan',\n",
              " 'Lud',\n",
              " 'Ludim',\n",
              " 'Luz',\n",
              " 'Maachah',\n",
              " 'Machir',\n",
              " 'Machpelah',\n",
              " 'Madai',\n",
              " 'Magdiel',\n",
              " 'Magog',\n",
              " 'Mahalaleel',\n",
              " 'Mahalath',\n",
              " 'Mahanaim',\n",
              " 'Make',\n",
              " 'Malchiel',\n",
              " 'Male',\n",
              " 'Mam',\n",
              " 'Mamre',\n",
              " 'Man',\n",
              " 'Manahath',\n",
              " 'Manass',\n",
              " 'Manasseh',\n",
              " 'Mash',\n",
              " 'Masrekah',\n",
              " 'Massa',\n",
              " 'Matred',\n",
              " 'Me',\n",
              " 'Medan',\n",
              " 'Mehetabel',\n",
              " 'Mehujael',\n",
              " 'Melchizedek',\n",
              " 'Merari',\n",
              " 'Mesha',\n",
              " 'Meshech',\n",
              " 'Mesopotamia',\n",
              " 'Methusa',\n",
              " 'Methusael',\n",
              " 'Methuselah',\n",
              " 'Mezahab',\n",
              " 'Mibsam',\n",
              " 'Mibzar',\n",
              " 'Midian',\n",
              " 'Midianites',\n",
              " 'Milcah',\n",
              " 'Mishma',\n",
              " 'Mizpah',\n",
              " 'Mizraim',\n",
              " 'Mizz',\n",
              " 'Moab',\n",
              " 'Moabites',\n",
              " 'Moreh',\n",
              " 'Moreover',\n",
              " 'Moriah',\n",
              " 'Muppim',\n",
              " 'My',\n",
              " 'Naamah',\n",
              " 'Naaman',\n",
              " 'Nahath',\n",
              " 'Nahor',\n",
              " 'Naphish',\n",
              " 'Naphtali',\n",
              " 'Naphtuhim',\n",
              " 'Nay',\n",
              " 'Nebajoth',\n",
              " 'Neither',\n",
              " 'Night',\n",
              " 'Nimrod',\n",
              " 'Nineveh',\n",
              " 'Noah',\n",
              " 'Nod',\n",
              " 'Not',\n",
              " 'Now',\n",
              " 'O',\n",
              " 'Obal',\n",
              " 'Of',\n",
              " 'Oh',\n",
              " 'Ohad',\n",
              " 'Omar',\n",
              " 'On',\n",
              " 'Onam',\n",
              " 'Onan',\n",
              " 'Only',\n",
              " 'Ophir',\n",
              " 'Our',\n",
              " 'Out',\n",
              " 'Padan',\n",
              " 'Padanaram',\n",
              " 'Paran',\n",
              " 'Pass',\n",
              " 'Pathrusim',\n",
              " 'Pau',\n",
              " 'Peace',\n",
              " 'Peleg',\n",
              " 'Peniel',\n",
              " 'Penuel',\n",
              " 'Peradventure',\n",
              " 'Perizzit',\n",
              " 'Perizzite',\n",
              " 'Perizzites',\n",
              " 'Phallu',\n",
              " 'Phara',\n",
              " 'Pharaoh',\n",
              " 'Pharez',\n",
              " 'Phichol',\n",
              " 'Philistim',\n",
              " 'Philistines',\n",
              " 'Phut',\n",
              " 'Phuvah',\n",
              " 'Pildash',\n",
              " 'Pinon',\n",
              " 'Pison',\n",
              " 'Potiphar',\n",
              " 'Potipherah',\n",
              " 'Put',\n",
              " 'Raamah',\n",
              " 'Rachel',\n",
              " 'Rameses',\n",
              " 'Rebek',\n",
              " 'Rebekah',\n",
              " 'Rehoboth',\n",
              " 'Remain',\n",
              " 'Rephaims',\n",
              " 'Resen',\n",
              " 'Return',\n",
              " 'Reu',\n",
              " 'Reub',\n",
              " 'Reuben',\n",
              " 'Reuel',\n",
              " 'Reumah',\n",
              " 'Riphath',\n",
              " 'Rosh',\n",
              " 'Sabtah',\n",
              " 'Sabtech',\n",
              " 'Said',\n",
              " 'Salah',\n",
              " 'Salem',\n",
              " 'Samlah',\n",
              " 'Sarah',\n",
              " 'Sarai',\n",
              " 'Saul',\n",
              " 'Save',\n",
              " 'Say',\n",
              " 'Se',\n",
              " 'Seba',\n",
              " 'See',\n",
              " 'Seeing',\n",
              " 'Seir',\n",
              " 'Sell',\n",
              " 'Send',\n",
              " 'Sephar',\n",
              " 'Serah',\n",
              " 'Sered',\n",
              " 'Serug',\n",
              " 'Set',\n",
              " 'Seth',\n",
              " 'Shalem',\n",
              " 'Shall',\n",
              " 'Shalt',\n",
              " 'Shammah',\n",
              " 'Shaul',\n",
              " 'Shaveh',\n",
              " 'She',\n",
              " 'Sheba',\n",
              " 'Shebah',\n",
              " 'Shechem',\n",
              " 'Shed',\n",
              " 'Shel',\n",
              " 'Shelah',\n",
              " 'Sheleph',\n",
              " 'Shem',\n",
              " 'Shemeber',\n",
              " 'Shepho',\n",
              " 'Shillem',\n",
              " 'Shiloh',\n",
              " 'Shimron',\n",
              " 'Shinab',\n",
              " 'Shinar',\n",
              " 'Shobal',\n",
              " 'Should',\n",
              " 'Shuah',\n",
              " 'Shuni',\n",
              " 'Shur',\n",
              " 'Sichem',\n",
              " 'Siddim',\n",
              " 'Sidon',\n",
              " 'Simeon',\n",
              " 'Sinite',\n",
              " 'Sitnah',\n",
              " 'Slay',\n",
              " 'So',\n",
              " 'Sod',\n",
              " 'Sodom',\n",
              " 'Sojourn',\n",
              " 'Some',\n",
              " 'Spake',\n",
              " 'Speak',\n",
              " 'Spirit',\n",
              " 'Stand',\n",
              " 'Succoth',\n",
              " 'Surely',\n",
              " 'Swear',\n",
              " 'Syrian',\n",
              " 'Take',\n",
              " 'Tamar',\n",
              " 'Tarshish',\n",
              " 'Tebah',\n",
              " 'Tell',\n",
              " 'Tema',\n",
              " 'Teman',\n",
              " 'Temani',\n",
              " 'Terah',\n",
              " 'Thahash',\n",
              " 'That',\n",
              " 'The',\n",
              " 'Then',\n",
              " 'There',\n",
              " 'Therefore',\n",
              " 'These',\n",
              " 'They',\n",
              " 'Thirty',\n",
              " 'This',\n",
              " 'Thorns',\n",
              " 'Thou',\n",
              " 'Thus',\n",
              " 'Thy',\n",
              " 'Tidal',\n",
              " 'Timna',\n",
              " 'Timnah',\n",
              " 'Timnath',\n",
              " 'Tiras',\n",
              " 'To',\n",
              " 'Togarmah',\n",
              " 'Tola',\n",
              " 'Tubal',\n",
              " 'Tubalcain',\n",
              " 'Twelve',\n",
              " 'Two',\n",
              " 'Unstable',\n",
              " 'Until',\n",
              " 'Unto',\n",
              " 'Up',\n",
              " 'Upon',\n",
              " 'Ur',\n",
              " 'Uz',\n",
              " 'Uzal',\n",
              " 'We',\n",
              " 'What',\n",
              " 'When',\n",
              " 'Whence',\n",
              " 'Where',\n",
              " 'Whereas',\n",
              " 'Wherefore',\n",
              " 'Which',\n",
              " 'While',\n",
              " 'Who',\n",
              " 'Whose',\n",
              " 'Whoso',\n",
              " 'Why',\n",
              " 'Wilt',\n",
              " 'With',\n",
              " 'Woman',\n",
              " 'Ye',\n",
              " 'Yea',\n",
              " 'Yet',\n",
              " 'Zaavan',\n",
              " 'Zaphnathpaaneah',\n",
              " 'Zar',\n",
              " 'Zarah',\n",
              " 'Zeboiim',\n",
              " 'Zeboim',\n",
              " 'Zebul',\n",
              " 'Zebulun',\n",
              " 'Zemarite',\n",
              " 'Zepho',\n",
              " 'Zerah',\n",
              " 'Zibeon',\n",
              " 'Zidon',\n",
              " 'Zillah',\n",
              " 'Zilpah',\n",
              " 'Zimran',\n",
              " 'Ziphion',\n",
              " 'Zo',\n",
              " 'Zoar',\n",
              " 'Zohar',\n",
              " 'Zuzims',\n",
              " 'a',\n",
              " 'abated',\n",
              " 'abide',\n",
              " 'able',\n",
              " 'abode',\n",
              " 'abomination',\n",
              " 'about',\n",
              " 'above',\n",
              " 'abroad',\n",
              " 'absent',\n",
              " 'abundantly',\n",
              " 'accept',\n",
              " 'accepted',\n",
              " 'according',\n",
              " 'acknowledged',\n",
              " 'activity',\n",
              " 'add',\n",
              " 'adder',\n",
              " 'afar',\n",
              " 'afflict',\n",
              " 'affliction',\n",
              " 'afraid',\n",
              " 'after',\n",
              " 'afterward',\n",
              " 'afterwards',\n",
              " 'aga',\n",
              " 'again',\n",
              " 'against',\n",
              " 'age',\n",
              " 'aileth',\n",
              " 'air',\n",
              " 'al',\n",
              " 'alive',\n",
              " 'all',\n",
              " 'almon',\n",
              " 'alo',\n",
              " 'alone',\n",
              " 'aloud',\n",
              " 'also',\n",
              " 'altar',\n",
              " 'altogether',\n",
              " 'always',\n",
              " 'am',\n",
              " 'among',\n",
              " 'amongst',\n",
              " 'an',\n",
              " 'and',\n",
              " 'angel',\n",
              " 'angels',\n",
              " 'anger',\n",
              " 'angry',\n",
              " 'anguish',\n",
              " 'anointedst',\n",
              " 'anoth',\n",
              " 'another',\n",
              " 'answer',\n",
              " 'answered',\n",
              " 'any',\n",
              " 'anything',\n",
              " 'appe',\n",
              " 'appear',\n",
              " 'appeared',\n",
              " 'appease',\n",
              " 'appoint',\n",
              " 'appointed',\n",
              " 'aprons',\n",
              " 'archer',\n",
              " 'archers',\n",
              " 'are',\n",
              " 'arise',\n",
              " 'ark',\n",
              " 'armed',\n",
              " 'arms',\n",
              " 'army',\n",
              " 'arose',\n",
              " 'arrayed',\n",
              " 'art',\n",
              " 'artificer',\n",
              " 'as',\n",
              " 'ascending',\n",
              " 'ash',\n",
              " 'ashamed',\n",
              " 'ask',\n",
              " 'asked',\n",
              " 'asketh',\n",
              " 'ass',\n",
              " 'assembly',\n",
              " 'asses',\n",
              " 'assigned',\n",
              " 'asswaged',\n",
              " 'at',\n",
              " 'attained',\n",
              " 'audience',\n",
              " 'avenged',\n",
              " 'aw',\n",
              " 'awaked',\n",
              " 'away',\n",
              " 'awoke',\n",
              " 'back',\n",
              " 'backward',\n",
              " 'bad',\n",
              " 'bade',\n",
              " 'badest',\n",
              " 'badne',\n",
              " 'bak',\n",
              " 'bake',\n",
              " 'bakemeats',\n",
              " 'baker',\n",
              " 'bakers',\n",
              " 'balm',\n",
              " 'bands',\n",
              " 'bank',\n",
              " 'bare',\n",
              " 'barr',\n",
              " 'barren',\n",
              " 'basket',\n",
              " 'baskets',\n",
              " 'battle',\n",
              " 'bdellium',\n",
              " 'be',\n",
              " 'bear',\n",
              " 'beari',\n",
              " 'bearing',\n",
              " 'beast',\n",
              " 'beasts',\n",
              " 'beautiful',\n",
              " 'became',\n",
              " 'because',\n",
              " 'become',\n",
              " 'bed',\n",
              " 'been',\n",
              " 'befall',\n",
              " 'befell',\n",
              " 'before',\n",
              " 'began',\n",
              " 'begat',\n",
              " 'beget',\n",
              " 'begettest',\n",
              " 'begin',\n",
              " 'beginning',\n",
              " 'begotten',\n",
              " 'beguiled',\n",
              " 'beheld',\n",
              " 'behind',\n",
              " 'behold',\n",
              " 'being',\n",
              " 'believed',\n",
              " 'belly',\n",
              " 'belong',\n",
              " 'beneath',\n",
              " 'bereaved',\n",
              " 'beside',\n",
              " 'besides',\n",
              " 'besought',\n",
              " 'best',\n",
              " 'betimes',\n",
              " 'better',\n",
              " 'between',\n",
              " 'betwixt',\n",
              " 'beyond',\n",
              " 'binding',\n",
              " 'bird',\n",
              " 'birds',\n",
              " 'birthday',\n",
              " 'birthright',\n",
              " 'biteth',\n",
              " 'bitter',\n",
              " 'blame',\n",
              " 'blameless',\n",
              " 'blasted',\n",
              " 'bless',\n",
              " 'blessed',\n",
              " 'blesseth',\n",
              " 'blessi',\n",
              " 'blessing',\n",
              " 'blessings',\n",
              " 'blindness',\n",
              " 'blood',\n",
              " 'blossoms',\n",
              " 'bodies',\n",
              " 'boldly',\n",
              " 'bondman',\n",
              " 'bondmen',\n",
              " 'bondwoman',\n",
              " 'bone',\n",
              " 'bones',\n",
              " 'book',\n",
              " 'booths',\n",
              " 'border',\n",
              " 'borders',\n",
              " 'born',\n",
              " 'bosom',\n",
              " 'both',\n",
              " 'bottle',\n",
              " 'bou',\n",
              " 'boug',\n",
              " 'bough',\n",
              " 'bought',\n",
              " 'bound',\n",
              " 'bow',\n",
              " 'bowed',\n",
              " 'bowels',\n",
              " 'bowing',\n",
              " 'boys',\n",
              " 'bracelets',\n",
              " 'branches',\n",
              " 'brass',\n",
              " 'bre',\n",
              " 'breach',\n",
              " 'bread',\n",
              " 'breadth',\n",
              " 'break',\n",
              " 'breaketh',\n",
              " 'breaking',\n",
              " 'breasts',\n",
              " 'breath',\n",
              " 'breathed',\n",
              " 'breed',\n",
              " 'brethren',\n",
              " 'brick',\n",
              " 'brimstone',\n",
              " 'bring',\n",
              " 'brink',\n",
              " 'broken',\n",
              " 'brook',\n",
              " 'broth',\n",
              " 'brother',\n",
              " 'brought',\n",
              " 'brown',\n",
              " 'bruise',\n",
              " 'budded',\n",
              " 'build',\n",
              " 'builded',\n",
              " 'built',\n",
              " 'bulls',\n",
              " 'bundle',\n",
              " 'bundles',\n",
              " 'burdens',\n",
              " 'buried',\n",
              " 'burn',\n",
              " 'burning',\n",
              " 'burnt',\n",
              " 'bury',\n",
              " 'buryingplace',\n",
              " 'business',\n",
              " 'but',\n",
              " 'butler',\n",
              " 'butlers',\n",
              " 'butlership',\n",
              " 'butter',\n",
              " 'buy',\n",
              " 'by',\n",
              " 'cakes',\n",
              " 'calf',\n",
              " 'call',\n",
              " 'called',\n",
              " 'came',\n",
              " 'camel',\n",
              " 'camels',\n",
              " 'camest',\n",
              " 'can',\n",
              " 'cannot',\n",
              " 'canst',\n",
              " 'captain',\n",
              " 'captive',\n",
              " 'captives',\n",
              " 'carcases',\n",
              " 'carried',\n",
              " 'carry',\n",
              " 'cast',\n",
              " 'castles',\n",
              " 'catt',\n",
              " 'cattle',\n",
              " 'caught',\n",
              " 'cause',\n",
              " 'caused',\n",
              " 'cave',\n",
              " 'cease',\n",
              " 'ceased',\n",
              " 'certain',\n",
              " 'certainly',\n",
              " 'chain',\n",
              " 'chamber',\n",
              " 'change',\n",
              " 'changed',\n",
              " 'changes',\n",
              " 'charge',\n",
              " 'charged',\n",
              " 'chariot',\n",
              " 'chariots',\n",
              " 'chesnut',\n",
              " 'chi',\n",
              " 'chief',\n",
              " 'child',\n",
              " 'childless',\n",
              " 'childr',\n",
              " 'children',\n",
              " 'chode',\n",
              " 'choice',\n",
              " 'chose',\n",
              " 'circumcis',\n",
              " 'circumcise',\n",
              " 'circumcised',\n",
              " 'citi',\n",
              " 'cities',\n",
              " 'city',\n",
              " 'clave',\n",
              " 'clean',\n",
              " 'clear',\n",
              " 'cleave',\n",
              " 'clo',\n",
              " 'closed',\n",
              " 'clothed',\n",
              " 'clothes',\n",
              " 'cloud',\n",
              " 'clusters',\n",
              " 'co',\n",
              " 'coat',\n",
              " 'coats',\n",
              " 'coffin',\n",
              " 'cold',\n",
              " ...]"
            ]
          },
          "metadata": {},
          "execution_count": 23
        }
      ]
    },
    {
      "cell_type": "code",
      "metadata": {
        "scrolled": false,
        "id": "pfzNOjK2BFVg",
        "colab": {
          "base_uri": "https://localhost:8080/"
        },
        "outputId": "894ca562-9bcd-4e69-b745-f797b50d16e2"
      },
      "source": [
        "len(set(text3)) / len(text3)"
      ],
      "execution_count": null,
      "outputs": [
        {
          "output_type": "execute_result",
          "data": {
            "text/plain": [
              "0.06230453042623537"
            ]
          },
          "metadata": {},
          "execution_count": 24
        }
      ]
    },
    {
      "cell_type": "code",
      "metadata": {
        "id": "0Aokb58ruze4",
        "colab": {
          "base_uri": "https://localhost:8080/"
        },
        "outputId": "41943717-edb3-4e48-88f7-2617b54006b4"
      },
      "source": [
        "len(set(text1)) / len(text1)"
      ],
      "execution_count": null,
      "outputs": [
        {
          "output_type": "execute_result",
          "data": {
            "text/plain": [
              "0.07406285585022564"
            ]
          },
          "metadata": {},
          "execution_count": 25
        }
      ]
    },
    {
      "cell_type": "code",
      "metadata": {
        "id": "yy0o27kgBFVj",
        "colab": {
          "base_uri": "https://localhost:8080/"
        },
        "outputId": "5ea7b749-db8d-427d-b37f-6d6a14e1cfcc"
      },
      "source": [
        "text1.count('smote')"
      ],
      "execution_count": null,
      "outputs": [
        {
          "output_type": "execute_result",
          "data": {
            "text/plain": [
              "5"
            ]
          },
          "metadata": {},
          "execution_count": 26
        }
      ]
    },
    {
      "cell_type": "code",
      "metadata": {
        "id": "GV_DNV7jBFVn",
        "colab": {
          "base_uri": "https://localhost:8080/"
        },
        "outputId": "3bc7db29-93ab-4022-b037-c7dc6d057bb8"
      },
      "source": [
        "100 * text4.count('a') / len(text4)"
      ],
      "execution_count": null,
      "outputs": [
        {
          "output_type": "execute_result",
          "data": {
            "text/plain": [
              "1.457806031353621"
            ]
          },
          "metadata": {},
          "execution_count": 27
        }
      ]
    },
    {
      "cell_type": "code",
      "metadata": {
        "id": "0ojnHq96BFVr"
      },
      "source": [
        "def lexical_diversity(text):\n",
        "    return len(set(text)) / len(text)"
      ],
      "execution_count": null,
      "outputs": []
    },
    {
      "cell_type": "code",
      "metadata": {
        "id": "yDTXqj_1BFVu"
      },
      "source": [
        "def percentage(count, total):\n",
        "    return 100 * count / total"
      ],
      "execution_count": null,
      "outputs": []
    },
    {
      "cell_type": "code",
      "metadata": {
        "id": "oDxkbAmmBFVx",
        "colab": {
          "base_uri": "https://localhost:8080/"
        },
        "outputId": "47039d1d-15fc-49b9-a5b2-92c3e96ebf6c"
      },
      "source": [
        "lexical_diversity(text3)"
      ],
      "execution_count": null,
      "outputs": [
        {
          "output_type": "execute_result",
          "data": {
            "text/plain": [
              "0.06230453042623537"
            ]
          },
          "metadata": {},
          "execution_count": 30
        }
      ]
    },
    {
      "cell_type": "code",
      "metadata": {
        "id": "atkYgDfUBFV1",
        "colab": {
          "base_uri": "https://localhost:8080/"
        },
        "outputId": "a20d36a0-0d9e-4719-afa3-b4c8797c4649"
      },
      "source": [
        "lexical_diversity(text5)"
      ],
      "execution_count": null,
      "outputs": [
        {
          "output_type": "execute_result",
          "data": {
            "text/plain": [
              "0.13477005109975562"
            ]
          },
          "metadata": {},
          "execution_count": 31
        }
      ]
    },
    {
      "cell_type": "code",
      "metadata": {
        "id": "KtRgzqg-BFV4",
        "colab": {
          "base_uri": "https://localhost:8080/"
        },
        "outputId": "647a10ff-21bb-46e7-8544-f83fb555a3bd"
      },
      "source": [
        "percentage(4, 5)"
      ],
      "execution_count": null,
      "outputs": [
        {
          "output_type": "execute_result",
          "data": {
            "text/plain": [
              "80.0"
            ]
          },
          "metadata": {},
          "execution_count": 32
        }
      ]
    },
    {
      "cell_type": "code",
      "metadata": {
        "id": "unfbUU-MBFV7",
        "colab": {
          "base_uri": "https://localhost:8080/"
        },
        "outputId": "3c7180b0-9cff-4a99-9209-5a08d5dcb03f"
      },
      "source": [
        "percentage(text4.count('a'), len(text4))"
      ],
      "execution_count": null,
      "outputs": [
        {
          "output_type": "execute_result",
          "data": {
            "text/plain": [
              "1.457806031353621"
            ]
          },
          "metadata": {},
          "execution_count": 33
        }
      ]
    },
    {
      "cell_type": "markdown",
      "metadata": {
        "id": "kiujKRakBFV-"
      },
      "source": [
        "### 2   Una mirada más de cerca a Python: textos como listas de palabras\n",
        "\n",
        "Has visto algunos elementos importantes del lenguaje de programación Python. Tomemos unos momentos para revisarlos sistemáticamente."
      ]
    },
    {
      "cell_type": "markdown",
      "metadata": {
        "id": "Z6A0hTQxBFV_"
      },
      "source": [
        "#### 2.1   Listas"
      ]
    },
    {
      "cell_type": "code",
      "metadata": {
        "id": "6t9mykoVBFWA"
      },
      "source": [
        "sent1 = ['Call', 'me', 'Ishmael', '.']"
      ],
      "execution_count": null,
      "outputs": []
    },
    {
      "cell_type": "code",
      "metadata": {
        "id": "vTAkYb6IBFWC",
        "colab": {
          "base_uri": "https://localhost:8080/"
        },
        "outputId": "a0602454-b4ac-4c03-cb13-02c709b78c4d"
      },
      "source": [
        "len(sent1)"
      ],
      "execution_count": null,
      "outputs": [
        {
          "output_type": "execute_result",
          "data": {
            "text/plain": [
              "4"
            ]
          },
          "metadata": {},
          "execution_count": 35
        }
      ]
    },
    {
      "cell_type": "code",
      "metadata": {
        "id": "sQGSWWGiBFWG",
        "colab": {
          "base_uri": "https://localhost:8080/"
        },
        "outputId": "b87d3ff4-dcd7-4ad9-b357-43f146cb3020"
      },
      "source": [
        "lexical_diversity(sent1)"
      ],
      "execution_count": null,
      "outputs": [
        {
          "output_type": "execute_result",
          "data": {
            "text/plain": [
              "1.0"
            ]
          },
          "metadata": {},
          "execution_count": 36
        }
      ]
    },
    {
      "cell_type": "code",
      "metadata": {
        "id": "24jHSihuBFWJ",
        "colab": {
          "base_uri": "https://localhost:8080/"
        },
        "outputId": "1052704a-6acf-4e57-f913-07cadd103ce8"
      },
      "source": [
        "['Monty', 'Python'] + ['and', 'the', 'Holy', 'Grail']"
      ],
      "execution_count": null,
      "outputs": [
        {
          "output_type": "execute_result",
          "data": {
            "text/plain": [
              "['Monty', 'Python', 'and', 'the', 'Holy', 'Grail']"
            ]
          },
          "metadata": {},
          "execution_count": 37
        }
      ]
    },
    {
      "cell_type": "code",
      "metadata": {
        "id": "2mCgmteqBFWL"
      },
      "source": [
        "sent1.append(\"Some\")"
      ],
      "execution_count": null,
      "outputs": []
    },
    {
      "cell_type": "code",
      "metadata": {
        "id": "-XBkzvKCx9m_",
        "colab": {
          "base_uri": "https://localhost:8080/"
        },
        "outputId": "10961c2e-275c-41df-9ac1-51a24a52442f"
      },
      "source": [
        "print(sent1)"
      ],
      "execution_count": null,
      "outputs": [
        {
          "output_type": "stream",
          "name": "stdout",
          "text": [
            "['Call', 'me', 'Ishmael', '.', 'Some']\n"
          ]
        }
      ]
    },
    {
      "cell_type": "markdown",
      "metadata": {
        "id": "oRQKemz0BFWP"
      },
      "source": [
        "#### 2.2   Listas de indexación"
      ]
    },
    {
      "cell_type": "code",
      "metadata": {
        "id": "tFWb42SbBFWP",
        "colab": {
          "base_uri": "https://localhost:8080/",
          "height": 35
        },
        "outputId": "aed5972c-6ecd-4e6e-ec00-0e117704b690"
      },
      "source": [
        "text4[177]"
      ],
      "execution_count": null,
      "outputs": [
        {
          "output_type": "execute_result",
          "data": {
            "text/plain": [
              "'and'"
            ],
            "application/vnd.google.colaboratory.intrinsic+json": {
              "type": "string"
            }
          },
          "metadata": {},
          "execution_count": 40
        }
      ]
    },
    {
      "cell_type": "code",
      "source": [
        "sent1[1]"
      ],
      "metadata": {
        "colab": {
          "base_uri": "https://localhost:8080/",
          "height": 35
        },
        "id": "2ZlFQ3MiWfDY",
        "outputId": "73e59cb3-ed5e-48c3-d915-0a455c1dc014"
      },
      "execution_count": null,
      "outputs": [
        {
          "output_type": "execute_result",
          "data": {
            "text/plain": [
              "'me'"
            ],
            "application/vnd.google.colaboratory.intrinsic+json": {
              "type": "string"
            }
          },
          "metadata": {},
          "execution_count": 41
        }
      ]
    },
    {
      "cell_type": "code",
      "metadata": {
        "id": "sYiUTNrpBFWR",
        "colab": {
          "base_uri": "https://localhost:8080/"
        },
        "outputId": "58d71b53-13ed-45a1-ccf0-66d9d21230ab"
      },
      "source": [
        "text4.index('and')"
      ],
      "execution_count": null,
      "outputs": [
        {
          "output_type": "execute_result",
          "data": {
            "text/plain": [
              "6"
            ]
          },
          "metadata": {},
          "execution_count": 42
        }
      ]
    },
    {
      "cell_type": "code",
      "metadata": {
        "collapsed": true,
        "id": "G_oSlU_4BFWU",
        "colab": {
          "base_uri": "https://localhost:8080/",
          "height": 35
        },
        "outputId": "f81aacae-5adf-4de9-c4e3-a422e4fbdb9e"
      },
      "source": [
        "' '.join(text5[16715:16735])"
      ],
      "execution_count": null,
      "outputs": [
        {
          "output_type": "execute_result",
          "data": {
            "text/plain": [
              "'U86 thats why something like gamefly is so good because you can actually play a full game without buying it'"
            ],
            "application/vnd.google.colaboratory.intrinsic+json": {
              "type": "string"
            }
          },
          "metadata": {},
          "execution_count": 43
        }
      ]
    },
    {
      "cell_type": "code",
      "metadata": {
        "collapsed": true,
        "id": "9HH0jq85BFWa",
        "colab": {
          "base_uri": "https://localhost:8080/"
        },
        "outputId": "c182f409-5040-4da6-9a2a-55d6908662e9"
      },
      "source": [
        "text6[1600:1625]"
      ],
      "execution_count": null,
      "outputs": [
        {
          "output_type": "execute_result",
          "data": {
            "text/plain": [
              "['We',\n",
              " \"'\",\n",
              " 're',\n",
              " 'an',\n",
              " 'anarcho',\n",
              " '-',\n",
              " 'syndicalist',\n",
              " 'commune',\n",
              " '.',\n",
              " 'We',\n",
              " 'take',\n",
              " 'it',\n",
              " 'in',\n",
              " 'turns',\n",
              " 'to',\n",
              " 'act',\n",
              " 'as',\n",
              " 'a',\n",
              " 'sort',\n",
              " 'of',\n",
              " 'executive',\n",
              " 'officer',\n",
              " 'for',\n",
              " 'the',\n",
              " 'week']"
            ]
          },
          "metadata": {},
          "execution_count": 44
        }
      ]
    },
    {
      "cell_type": "code",
      "metadata": {
        "scrolled": true,
        "id": "Kx8_FsZvBFWe",
        "colab": {
          "base_uri": "https://localhost:8080/",
          "height": 165
        },
        "outputId": "6e8d2f22-0747-4371-dde8-06f82ee92b54"
      },
      "source": [
        "sent1[10]"
      ],
      "execution_count": null,
      "outputs": [
        {
          "output_type": "error",
          "ename": "IndexError",
          "evalue": "ignored",
          "traceback": [
            "\u001b[0;31m---------------------------------------------------------------------------\u001b[0m",
            "\u001b[0;31mIndexError\u001b[0m                                Traceback (most recent call last)",
            "\u001b[0;32m<ipython-input-45-c84111d49689>\u001b[0m in \u001b[0;36m<module>\u001b[0;34m\u001b[0m\n\u001b[0;32m----> 1\u001b[0;31m \u001b[0msent1\u001b[0m\u001b[0;34m[\u001b[0m\u001b[0;36m10\u001b[0m\u001b[0;34m]\u001b[0m\u001b[0;34m\u001b[0m\u001b[0;34m\u001b[0m\u001b[0m\n\u001b[0m",
            "\u001b[0;31mIndexError\u001b[0m: list index out of range"
          ]
        }
      ]
    },
    {
      "cell_type": "markdown",
      "metadata": {
        "id": "Ty4SGo8GBFWh"
      },
      "source": [
        "#### 2.3   Variables "
      ]
    },
    {
      "cell_type": "code",
      "metadata": {
        "id": "A8tTytmEBFWi",
        "colab": {
          "base_uri": "https://localhost:8080/"
        },
        "outputId": "2d56ce35-4c2c-4762-dd66-ad6851803f38"
      },
      "source": [
        "my_sent = ['Bravely', 'bold', 'Sir', 'Robin', ',', 'rode', 'forth', 'from', 'Camelot', '.']\n",
        "# 0 \n",
        "print(my_sent[0])\n",
        "noun_phrase = my_sent[1:4]\n",
        "print(noun_phrase)\n",
        "words = sorted(noun_phrase)\n",
        "print(words)"
      ],
      "execution_count": null,
      "outputs": [
        {
          "output_type": "stream",
          "name": "stdout",
          "text": [
            "Bravely\n",
            "['bold', 'Sir', 'Robin']\n",
            "['Robin', 'Sir', 'bold']\n"
          ]
        }
      ]
    },
    {
      "cell_type": "markdown",
      "metadata": {
        "id": "0gOmvOnYBFWk"
      },
      "source": [
        "#### 2.4   Cadena"
      ]
    },
    {
      "cell_type": "code",
      "metadata": {
        "id": "s1XG1qfbBFWl",
        "colab": {
          "base_uri": "https://localhost:8080/"
        },
        "outputId": "308cefec-05ab-4a9e-8d38-1608a38fce82"
      },
      "source": [
        "name = 'Monty'\n",
        "print('1: ', name[0])\n",
        "print('2: ', name[:4])\n",
        "print('3: ', name * 2)\n",
        "print('4: ', name + '!')\n",
        "print('5: ', ' '.join(['Monty', 'Python']))\n",
        "print('6: ', 'Monty Python'.split())"
      ],
      "execution_count": null,
      "outputs": [
        {
          "output_type": "stream",
          "name": "stdout",
          "text": [
            "1:  M\n",
            "2:  Mont\n",
            "3:  MontyMonty\n",
            "4:  Monty!\n",
            "5:  Monty Python\n",
            "6:  ['Monty', 'Python']\n"
          ]
        }
      ]
    },
    {
      "cell_type": "markdown",
      "metadata": {
        "id": "r1iiFT5eBFWp"
      },
      "source": [
        "### 3 Lenguaje computacional: estadísticas simples\n",
        "\n",
        "¿Cómo podemos identificar automáticamente las palabras de un texto que son más informativas sobre el tema y el género del texto? Imagine cómo puede encontrar las 50 palabras más frecuentes de un libro. Un método sería mantener un recuento para cada elemento de vocabulario, como el que se muestra en 3.1. La cuenta necesitaría miles de filas, y sería un proceso extremadamente laborioso, tan laborioso que preferiríamos asignar la tarea a una máquina."
      ]
    },
    {
      "cell_type": "code",
      "metadata": {
        "id": "flMQ8D3wBFWr",
        "colab": {
          "base_uri": "https://localhost:8080/"
        },
        "outputId": "76833585-09b4-427f-b024-ae9e76e3ae47"
      },
      "source": [
        "saying = ['After', 'all', 'is', 'said', 'and', 'done','more', 'is', 'said', 'than', 'done']\n",
        "tokens = set(saying)\n",
        "tokens = sorted(tokens)\n",
        "print(tokens)\n",
        "print(tokens[-2:])"
      ],
      "execution_count": null,
      "outputs": [
        {
          "output_type": "stream",
          "name": "stdout",
          "text": [
            "['After', 'all', 'and', 'done', 'is', 'more', 'said', 'than']\n",
            "['said', 'than']\n"
          ]
        }
      ]
    },
    {
      "cell_type": "markdown",
      "metadata": {
        "id": "A5hIOoIyBFWv"
      },
      "source": [
        "#### 3.1   Distribuciones de frecuencias"
      ]
    },
    {
      "cell_type": "markdown",
      "metadata": {
        "id": "tBDygxNUBFWw"
      },
      "source": [
        "<img src=\"data/image/tally.png\",width=600,height=600>"
      ]
    },
    {
      "cell_type": "code",
      "metadata": {
        "id": "Epr8omJxBFWw"
      },
      "source": [
        "fdist1 = FreqDist(text1) "
      ],
      "execution_count": null,
      "outputs": []
    },
    {
      "cell_type": "code",
      "metadata": {
        "id": "FR2cUQDeBFWz",
        "colab": {
          "base_uri": "https://localhost:8080/"
        },
        "outputId": "3f9c8060-3e29-4f0a-d9b6-e6132348335a"
      },
      "source": [
        "print(fdist1)"
      ],
      "execution_count": null,
      "outputs": [
        {
          "output_type": "stream",
          "name": "stdout",
          "text": [
            "<FreqDist with 19317 samples and 260819 outcomes>\n"
          ]
        }
      ]
    },
    {
      "cell_type": "code",
      "metadata": {
        "collapsed": true,
        "id": "BZiYxfYYBFW3",
        "colab": {
          "base_uri": "https://localhost:8080/"
        },
        "outputId": "a3e216ce-da34-4650-b5bc-9b180c934fc7"
      },
      "source": [
        "fdist1.most_common(50)"
      ],
      "execution_count": null,
      "outputs": [
        {
          "output_type": "execute_result",
          "data": {
            "text/plain": [
              "[(',', 18713),\n",
              " ('the', 13721),\n",
              " ('.', 6862),\n",
              " ('of', 6536),\n",
              " ('and', 6024),\n",
              " ('a', 4569),\n",
              " ('to', 4542),\n",
              " (';', 4072),\n",
              " ('in', 3916),\n",
              " ('that', 2982),\n",
              " (\"'\", 2684),\n",
              " ('-', 2552),\n",
              " ('his', 2459),\n",
              " ('it', 2209),\n",
              " ('I', 2124),\n",
              " ('s', 1739),\n",
              " ('is', 1695),\n",
              " ('he', 1661),\n",
              " ('with', 1659),\n",
              " ('was', 1632),\n",
              " ('as', 1620),\n",
              " ('\"', 1478),\n",
              " ('all', 1462),\n",
              " ('for', 1414),\n",
              " ('this', 1280),\n",
              " ('!', 1269),\n",
              " ('at', 1231),\n",
              " ('by', 1137),\n",
              " ('but', 1113),\n",
              " ('not', 1103),\n",
              " ('--', 1070),\n",
              " ('him', 1058),\n",
              " ('from', 1052),\n",
              " ('be', 1030),\n",
              " ('on', 1005),\n",
              " ('so', 918),\n",
              " ('whale', 906),\n",
              " ('one', 889),\n",
              " ('you', 841),\n",
              " ('had', 767),\n",
              " ('have', 760),\n",
              " ('there', 715),\n",
              " ('But', 705),\n",
              " ('or', 697),\n",
              " ('were', 680),\n",
              " ('now', 646),\n",
              " ('which', 640),\n",
              " ('?', 637),\n",
              " ('me', 627),\n",
              " ('like', 624)]"
            ]
          },
          "metadata": {},
          "execution_count": 51
        }
      ]
    },
    {
      "cell_type": "code",
      "source": [
        "import matplotlib.pyplot as plt\n",
        "fig = plt.figure(figsize = (20, 7))\n",
        "fdist1.plot(100)"
      ],
      "metadata": {
        "colab": {
          "base_uri": "https://localhost:8080/",
          "height": 485
        },
        "id": "XLZK_XNIf2K_",
        "outputId": "b8ce7635-e39b-48b9-f2d2-37723bbd5d87"
      },
      "execution_count": null,
      "outputs": [
        {
          "output_type": "display_data",
          "data": {
            "text/plain": [
              "<Figure size 1440x504 with 1 Axes>"
            ],
            "image/png": "[encoded data removed]"
          },
          "metadata": {
            "needs_background": "light"
          }
        },
        {
          "output_type": "execute_result",
          "data": {
            "text/plain": [
              "<matplotlib.axes._subplots.AxesSubplot at 0x7f4772360e90>"
            ]
          },
          "metadata": {},
          "execution_count": 52
        }
      ]
    },
    {
      "cell_type": "code",
      "metadata": {
        "id": "1B8LEFCbBFW7",
        "colab": {
          "base_uri": "https://localhost:8080/",
          "height": 479
        },
        "outputId": "0ba0871b-5eef-475d-ec92-def850c00960"
      },
      "source": [
        "fig = plt.figure(figsize = (20, 7))\n",
        "fdist1.plot(50, cumulative=True)"
      ],
      "execution_count": null,
      "outputs": [
        {
          "output_type": "display_data",
          "data": {
            "text/plain": [
              "<Figure size 1440x504 with 1 Axes>"
            ],
            "image/png": "[encoded data removed]"
          },
          "metadata": {
            "needs_background": "light"
          }
        },
        {
          "output_type": "execute_result",
          "data": {
            "text/plain": [
              "<matplotlib.axes._subplots.AxesSubplot at 0x7f4772049890>"
            ]
          },
          "metadata": {},
          "execution_count": 53
        }
      ]
    },
    {
      "cell_type": "markdown",
      "metadata": {
        "id": "IiRrVN2uBFW-"
      },
      "source": [
        "Cuando llamamos por primera vez a FreqDist, pasamos el nombre del texto como argumento [1]. Podemos inspeccionar el número total de palabras (\"resultados\") que se han contado [2] - 260,819 en el caso de Moby Dick. La expresión most_common (50) nos da una lista de los 50 tipos más frecuentes en el texto [3]."
      ]
    },
    {
      "cell_type": "markdown",
      "metadata": {
        "id": "3AeR3PvGBFW_"
      },
      "source": [
        "¿Alguna de las palabras producidas en el último ejemplo nos ayuda a captar el tema o el género de este texto? ¡Solo una palabra, ballena, es ligeramente informativa! Ocurre más de 900 veces. El resto de las palabras no nos dicen nada sobre el texto; son solo \"fontanería\" en inglés. ¿Qué proporción del texto se utiliza con tales palabras? Podemos generar un gráfico de frecuencia acumulativo para estas palabras, usando fdist1.plot (50, acumulativo = Verdadero), para producir el gráfico en 3.2. ¡Estas 50 palabras representan casi la mitad del libro!"
      ]
    },
    {
      "cell_type": "markdown",
      "metadata": {
        "id": "VCITtRj3BFXB"
      },
      "source": [
        "<img src=\"data/image/fdist-moby.png\",width=600,height=600>"
      ]
    },
    {
      "cell_type": "markdown",
      "metadata": {
        "id": "0V3JwTPUBFXB"
      },
      "source": [
        "Si las palabras frecuentes no nos ayudan, ¿qué hay de las palabras que ocurren una sola vez, los llamados hapax? Visualícelos escribiendo fdist1.hapaxes (). Esta lista contiene lexicógrafos, cetológicos, contrabandistas, expulsiones y alrededor de 9,000 más. Parece que hay demasiadas palabras raras, y sin ver el contexto, probablemente no podamos adivinar qué significa la mitad de los hapaxes en cualquier caso. Como ni palabras frecuentes ni infrecuentes ayudan, tenemos que intentar algo más."
      ]
    },
    {
      "cell_type": "code",
      "source": [
        "fdist1.hapaxes()"
      ],
      "metadata": {
        "colab": {
          "base_uri": "https://localhost:8080/"
        },
        "id": "ZgSGkRRcUeLl",
        "outputId": "1484c1ae-d92f-4b6e-c2ca-3af557e3fc70"
      },
      "execution_count": null,
      "outputs": [
        {
          "output_type": "execute_result",
          "data": {
            "text/plain": [
              "['Herman',\n",
              " 'Melville',\n",
              " ']',\n",
              " 'ETYMOLOGY',\n",
              " 'Late',\n",
              " 'Consumptive',\n",
              " 'School',\n",
              " 'threadbare',\n",
              " 'lexicons',\n",
              " 'mockingly',\n",
              " 'flags',\n",
              " 'mortality',\n",
              " 'signification',\n",
              " 'HACKLUYT',\n",
              " 'Sw',\n",
              " 'HVAL',\n",
              " 'roundness',\n",
              " 'Dut',\n",
              " 'Ger',\n",
              " 'WALLEN',\n",
              " 'WALW',\n",
              " 'IAN',\n",
              " 'RICHARDSON',\n",
              " 'KETOS',\n",
              " 'GREEK',\n",
              " 'CETUS',\n",
              " 'LATIN',\n",
              " 'WHOEL',\n",
              " 'ANGLO',\n",
              " 'SAXON',\n",
              " 'WAL',\n",
              " 'HWAL',\n",
              " 'SWEDISH',\n",
              " 'ICELANDIC',\n",
              " 'BALEINE',\n",
              " 'BALLENA',\n",
              " 'FEGEE',\n",
              " 'ERROMANGOAN',\n",
              " 'Librarian',\n",
              " 'painstaking',\n",
              " 'burrower',\n",
              " 'grub',\n",
              " 'Vaticans',\n",
              " 'stalls',\n",
              " 'higgledy',\n",
              " 'piggledy',\n",
              " 'gospel',\n",
              " 'promiscuously',\n",
              " 'commentator',\n",
              " 'belongest',\n",
              " 'sallow',\n",
              " 'Pale',\n",
              " 'Sherry',\n",
              " 'loves',\n",
              " 'bluntly',\n",
              " 'Subs',\n",
              " 'thankless',\n",
              " 'Hampton',\n",
              " 'Court',\n",
              " 'hie',\n",
              " 'refugees',\n",
              " 'pampered',\n",
              " 'Michael',\n",
              " 'Raphael',\n",
              " 'unsplinterable',\n",
              " 'GENESIS',\n",
              " 'JOB',\n",
              " 'JONAH',\n",
              " 'punish',\n",
              " 'ISAIAH',\n",
              " 'soever',\n",
              " 'cometh',\n",
              " 'incontinently',\n",
              " 'perisheth',\n",
              " 'PLUTARCH',\n",
              " 'MORALS',\n",
              " 'breedeth',\n",
              " 'Whirlpooles',\n",
              " 'Balaene',\n",
              " 'arpens',\n",
              " 'PLINY',\n",
              " 'Scarcely',\n",
              " 'TOOKE',\n",
              " 'LUCIAN',\n",
              " 'TRUE',\n",
              " 'catched',\n",
              " 'OCTHER',\n",
              " 'VERBAL',\n",
              " 'TAKEN',\n",
              " 'MOUTH',\n",
              " 'ALFRED',\n",
              " '890',\n",
              " 'gudgeon',\n",
              " 'retires',\n",
              " 'MONTAIGNE',\n",
              " 'APOLOGY',\n",
              " 'RAIMOND',\n",
              " 'SEBOND',\n",
              " 'Nick',\n",
              " 'RABELAIS',\n",
              " 'cartloads',\n",
              " 'STOWE',\n",
              " 'ANNALS',\n",
              " 'LORD',\n",
              " 'BACON',\n",
              " 'Touching',\n",
              " 'ork',\n",
              " 'DEATH',\n",
              " 'sovereignest',\n",
              " 'bruise',\n",
              " 'HAMLET',\n",
              " 'leach',\n",
              " 'Mote',\n",
              " 'availle',\n",
              " 'returne',\n",
              " 'againe',\n",
              " 'worker',\n",
              " 'Dinting',\n",
              " 'paine',\n",
              " 'thro',\n",
              " 'maine',\n",
              " 'FAERIE',\n",
              " 'Immense',\n",
              " 'til',\n",
              " 'DAVENANT',\n",
              " 'PREFACE',\n",
              " 'GONDIBERT',\n",
              " 'spermacetti',\n",
              " 'Hosmannus',\n",
              " 'Nescio',\n",
              " 'VIDE',\n",
              " 'Spencer',\n",
              " 'Talus',\n",
              " 'flail',\n",
              " 'threatens',\n",
              " 'jav',\n",
              " 'lins',\n",
              " 'WALLER',\n",
              " 'SUMMER',\n",
              " 'ISLANDS',\n",
              " 'Commonwealth',\n",
              " 'Civitas',\n",
              " 'OPENING',\n",
              " 'SENTENCE',\n",
              " 'HOBBES',\n",
              " 'LEVIATHAN',\n",
              " 'Silly',\n",
              " 'Mansoul',\n",
              " 'chewing',\n",
              " 'sprat',\n",
              " 'PILGRIM',\n",
              " 'PROGRESS',\n",
              " 'Created',\n",
              " 'PARADISE',\n",
              " 'LOST',\n",
              " '---\"',\n",
              " 'Hugest',\n",
              " 'Stretched',\n",
              " 'Draws',\n",
              " 'FULLLER',\n",
              " 'PROFANE',\n",
              " 'HOLY',\n",
              " 'STATE',\n",
              " 'DRYDEN',\n",
              " 'ANNUS',\n",
              " 'MIRABILIS',\n",
              " 'aground',\n",
              " 'EDGE',\n",
              " 'TEN',\n",
              " 'SPITZBERGEN',\n",
              " 'PURCHAS',\n",
              " 'wantonness',\n",
              " 'fuzzing',\n",
              " 'vents',\n",
              " 'HERBERT',\n",
              " 'INTO',\n",
              " 'ASIA',\n",
              " 'AFRICA',\n",
              " 'SCHOUTEN',\n",
              " 'SIXTH',\n",
              " 'CIRCUMNAVIGATION',\n",
              " 'Elbe',\n",
              " 'ducat',\n",
              " 'herrings',\n",
              " 'GREENLAND',\n",
              " 'Several',\n",
              " 'Fife',\n",
              " 'Anno',\n",
              " '1652',\n",
              " 'Pitferren',\n",
              " 'SIBBALD',\n",
              " 'FIFE',\n",
              " 'KINROSS',\n",
              " 'Myself',\n",
              " 'Sperma',\n",
              " 'ceti',\n",
              " 'fierceness',\n",
              " 'RICHARD',\n",
              " 'STRAFFORD',\n",
              " 'LETTER',\n",
              " 'BERMUDAS',\n",
              " 'PHIL',\n",
              " 'TRANS',\n",
              " '1668',\n",
              " 'PRIMER',\n",
              " 'COWLEY',\n",
              " '1729',\n",
              " '\"...',\n",
              " 'frequendy',\n",
              " 'insupportable',\n",
              " 'disorder',\n",
              " 'ULLOA',\n",
              " 'SOUTH',\n",
              " 'AMERICA',\n",
              " 'sylphs',\n",
              " 'petticoat',\n",
              " 'Oft',\n",
              " 'Tho',\n",
              " 'RAPE',\n",
              " 'LOCK',\n",
              " 'NAT',\n",
              " 'wales',\n",
              " 'JOHNSON',\n",
              " 'COOK',\n",
              " 'dung',\n",
              " 'lime',\n",
              " 'juniper',\n",
              " 'UNO',\n",
              " 'VON',\n",
              " 'TROIL',\n",
              " 'LETTERS',\n",
              " 'BANKS',\n",
              " 'SOLANDER',\n",
              " '1772',\n",
              " 'Nantuckois',\n",
              " 'JEFFERSON',\n",
              " 'MEMORIAL',\n",
              " 'MINISTER',\n",
              " 'REFERENCE',\n",
              " 'PARLIAMENT',\n",
              " 'SOMEWHERE',\n",
              " 'guarding',\n",
              " 'protecting',\n",
              " 'robbers',\n",
              " 'BLACKSTONE',\n",
              " 'Rodmond',\n",
              " 'suspends',\n",
              " 'attends',\n",
              " 'FALCONER',\n",
              " 'Bright',\n",
              " 'roofs',\n",
              " 'domes',\n",
              " 'rockets',\n",
              " 'Around',\n",
              " 'unwieldy',\n",
              " 'COWPER',\n",
              " 'VISIT',\n",
              " 'LONDON',\n",
              " 'HUNTER',\n",
              " 'DISSECTION',\n",
              " 'SMALL',\n",
              " 'SIZED',\n",
              " 'aorta',\n",
              " 'gushing',\n",
              " 'PALEY',\n",
              " 'THEOLOGY',\n",
              " 'mammiferous',\n",
              " 'hind',\n",
              " 'BARON',\n",
              " 'CUVIER',\n",
              " 'COLNETT',\n",
              " 'PURPOSE',\n",
              " 'EXTENDING',\n",
              " 'SPERMACETI',\n",
              " 'Floundered',\n",
              " 'chace',\n",
              " 'peopling',\n",
              " 'Gather',\n",
              " 'Led',\n",
              " 'instincts',\n",
              " 'trackless',\n",
              " 'Assaulted',\n",
              " 'voracious',\n",
              " 'spiral',\n",
              " 'MONTGOMERY',\n",
              " 'WORLD',\n",
              " 'FLOOD',\n",
              " 'Paean',\n",
              " 'fatter',\n",
              " 'Flounders',\n",
              " 'CHARLES',\n",
              " 'LAMB',\n",
              " 'TRIUMPH',\n",
              " '1690',\n",
              " 'OBED',\n",
              " 'Susan',\n",
              " 'HAWTHORNE',\n",
              " 'TWICE',\n",
              " 'bespeak',\n",
              " 'raal',\n",
              " 'COOPER',\n",
              " 'PILOT',\n",
              " 'Berlin',\n",
              " 'Gazette',\n",
              " 'ECKERMANN',\n",
              " 'CONVERSATIONS',\n",
              " 'GOETHE',\n",
              " 'ESSEX',\n",
              " 'WAS',\n",
              " 'ATTACKED',\n",
              " 'FINALLY',\n",
              " 'DESTROYED',\n",
              " 'OWEN',\n",
              " 'CHACE',\n",
              " 'FIRST',\n",
              " 'SAID',\n",
              " 'VESSEL',\n",
              " 'YORK',\n",
              " '1821',\n",
              " 'piping',\n",
              " 'dimmed',\n",
              " 'phospher',\n",
              " 'ELIZABETH',\n",
              " 'OAKES',\n",
              " 'SMITH',\n",
              " 'amounted',\n",
              " '440',\n",
              " 'SCORESBY',\n",
              " 'Mad',\n",
              " 'agonies',\n",
              " 'endures',\n",
              " 'infuriated',\n",
              " 'rears',\n",
              " 'snaps',\n",
              " 'propelled',\n",
              " 'observers',\n",
              " 'opportunities',\n",
              " 'habitudes',\n",
              " 'BEALE',\n",
              " 'offensively',\n",
              " 'artful',\n",
              " 'mischievous',\n",
              " 'FREDERICK',\n",
              " 'DEBELL',\n",
              " '1840',\n",
              " 'October',\n",
              " 'Raise',\n",
              " 'ay',\n",
              " 'THAR',\n",
              " 'bowes',\n",
              " 'os',\n",
              " 'ROSS',\n",
              " 'ETCHINGS',\n",
              " 'CRUIZE',\n",
              " '1846',\n",
              " 'Globe',\n",
              " 'transactions',\n",
              " 'relate',\n",
              " 'HUSSEY',\n",
              " 'SURVIVORS',\n",
              " 'parried',\n",
              " 'MISSIONARY',\n",
              " 'JOURNAL',\n",
              " 'TYERMAN',\n",
              " 'boldest',\n",
              " 'persevering',\n",
              " 'REPORT',\n",
              " 'DANIEL',\n",
              " 'SPEECH',\n",
              " 'SENATE',\n",
              " 'APPLICATION',\n",
              " 'ERECTION',\n",
              " 'BREAKWATER',\n",
              " 'CAPTORS',\n",
              " 'WHALEMAN',\n",
              " 'ADVENTURES',\n",
              " 'BIOGRAPHY',\n",
              " 'GATHERED',\n",
              " 'HOMEWARD',\n",
              " 'COMMODORE',\n",
              " 'PREBLE',\n",
              " 'REV',\n",
              " 'CHEEVER',\n",
              " 'MUTINEER',\n",
              " 'BROTHER',\n",
              " 'ANOTHER',\n",
              " 'MCCULLOCH',\n",
              " 'COMMERCIAL',\n",
              " 'reciprocal',\n",
              " 'clews',\n",
              " 'SOMETHING',\n",
              " 'UNPUBLISHED',\n",
              " 'CURRENTS',\n",
              " 'Pedestrians',\n",
              " 'recollect',\n",
              " 'gateways',\n",
              " 'VOYAGER',\n",
              " 'ARCTIC',\n",
              " 'NEWSPAPER',\n",
              " 'TAKING',\n",
              " 'RETAKING',\n",
              " 'HOBOMACK',\n",
              " 'MIRIAM',\n",
              " 'FISHERMAN',\n",
              " 'appliance',\n",
              " 'RIBS',\n",
              " 'TRUCKS',\n",
              " 'Terra',\n",
              " 'Del',\n",
              " 'Fuego',\n",
              " 'DARWIN',\n",
              " 'NATURALIST',\n",
              " \";--'\",\n",
              " '!\\'\"',\n",
              " 'WHARTON',\n",
              " 'Loomings',\n",
              " 'spleen',\n",
              " 'regulating',\n",
              " 'circulation',\n",
              " 'Whenever',\n",
              " 'drizzly',\n",
              " 'hypos',\n",
              " 'philosophical',\n",
              " 'Cato',\n",
              " 'Manhattoes',\n",
              " 'reefs',\n",
              " 'downtown',\n",
              " 'gazers',\n",
              " 'Circumambulate',\n",
              " 'Corlears',\n",
              " 'Coenties',\n",
              " 'Slip',\n",
              " 'Whitehall',\n",
              " 'Posted',\n",
              " 'sentinels',\n",
              " 'spiles',\n",
              " 'pier',\n",
              " 'lath',\n",
              " 'counters',\n",
              " 'desks',\n",
              " 'loitering',\n",
              " 'shady',\n",
              " 'Inlanders',\n",
              " 'lanes',\n",
              " 'alleys',\n",
              " 'attract',\n",
              " 'dale',\n",
              " 'dreamiest',\n",
              " 'shadiest',\n",
              " 'quietest',\n",
              " 'enchanting',\n",
              " 'Saco',\n",
              " 'crucifix',\n",
              " 'Deep',\n",
              " 'mazy',\n",
              " 'Tiger',\n",
              " 'Tennessee',\n",
              " 'Rockaway',\n",
              " 'Persians',\n",
              " 'deity',\n",
              " 'Narcissus',\n",
              " 'ungraspable',\n",
              " 'hazy',\n",
              " 'quarrelsome',\n",
              " 'offices',\n",
              " 'abominate',\n",
              " 'toils',\n",
              " 'trials',\n",
              " 'barques',\n",
              " 'schooners',\n",
              " 'broiling',\n",
              " 'buttered',\n",
              " 'judgmatically',\n",
              " 'peppered',\n",
              " 'reverentially',\n",
              " 'idolatrous',\n",
              " 'dotings',\n",
              " 'ibis',\n",
              " 'roasted',\n",
              " 'bake',\n",
              " 'plumb',\n",
              " 'Van',\n",
              " 'Rensselaers',\n",
              " 'Randolphs',\n",
              " 'Hardicanutes',\n",
              " 'lording',\n",
              " 'tallest',\n",
              " 'decoction',\n",
              " 'Seneca',\n",
              " 'Stoics',\n",
              " 'Testament',\n",
              " 'promptly',\n",
              " 'rub',\n",
              " 'infliction',\n",
              " 'BEING',\n",
              " 'PAID',\n",
              " 'urbane',\n",
              " 'ills',\n",
              " 'monied',\n",
              " 'consign',\n",
              " 'prevalent',\n",
              " 'violate',\n",
              " 'Pythagorean',\n",
              " 'commonalty',\n",
              " 'police',\n",
              " 'surveillance',\n",
              " 'programme',\n",
              " 'solo',\n",
              " 'CONTESTED',\n",
              " 'ELECTION',\n",
              " 'PRESIDENCY',\n",
              " 'UNITED',\n",
              " 'STATES',\n",
              " 'ISHMAEL',\n",
              " 'BLOODY',\n",
              " 'AFFGHANISTAN',\n",
              " 'managers',\n",
              " 'genteel',\n",
              " 'comedies',\n",
              " 'farces',\n",
              " 'cunningly',\n",
              " 'disguises',\n",
              " 'cajoling',\n",
              " 'unbiased',\n",
              " 'freewill',\n",
              " 'discriminating',\n",
              " 'overwhelming',\n",
              " 'undeliverable',\n",
              " 'itch',\n",
              " 'forbidden',\n",
              " 'ignoring',\n",
              " 'lodges',\n",
              " 'Carpet',\n",
              " 'Bag',\n",
              " 'Manhatto',\n",
              " 'candidates',\n",
              " 'penalties',\n",
              " 'Tyre',\n",
              " 'Carthage',\n",
              " 'imported',\n",
              " 'cobblestones',\n",
              " 'bitingly',\n",
              " 'shouldering',\n",
              " 'price',\n",
              " 'fervent',\n",
              " 'asphaltic',\n",
              " 'pavement',\n",
              " 'flinty',\n",
              " 'projections',\n",
              " 'soles',\n",
              " 'Too',\n",
              " 'cheapest',\n",
              " 'cheeriest',\n",
              " 'invitingly',\n",
              " 'particles',\n",
              " 'peer',\n",
              " 'Angel',\n",
              " 'Doom',\n",
              " 'wailing',\n",
              " 'gnashing',\n",
              " 'Wretched',\n",
              " 'entertainment',\n",
              " 'Moving',\n",
              " 'emigrant',\n",
              " 'poverty',\n",
              " 'creak',\n",
              " 'lodgings',\n",
              " 'zephyr',\n",
              " 'hob',\n",
              " 'toasting',\n",
              " 'observest',\n",
              " 'sashless',\n",
              " 'glazier',\n",
              " 'reasonest',\n",
              " 'chinks',\n",
              " 'crannies',\n",
              " 'lint',\n",
              " 'chattering',\n",
              " 'shiverings',\n",
              " 'cob',\n",
              " 'redder',\n",
              " 'Orion',\n",
              " 'glitters',\n",
              " 'conservatories',\n",
              " 'president',\n",
              " 'temperance',\n",
              " 'blubbering',\n",
              " 'straggling',\n",
              " 'wainscots',\n",
              " 'reminding',\n",
              " 'oilpainting',\n",
              " 'besmoked',\n",
              " 'defaced',\n",
              " 'unequal',\n",
              " 'crosslights',\n",
              " 'hags',\n",
              " 'delineate',\n",
              " 'bewitched',\n",
              " 'ponderings',\n",
              " 'boggy',\n",
              " 'soggy',\n",
              " 'squitchy',\n",
              " 'froze',\n",
              " 'heath',\n",
              " 'icebound',\n",
              " 'represents',\n",
              " 'Horner',\n",
              " 'foundered',\n",
              " 'clubs',\n",
              " 'harvesting',\n",
              " 'hacking',\n",
              " 'horrifying',\n",
              " 'Mixed',\n",
              " 'Nathan',\n",
              " 'Swain',\n",
              " 'corkscrew',\n",
              " 'Blanco',\n",
              " 'sojourning',\n",
              " 'fireplaces',\n",
              " 'duskier',\n",
              " 'cockpits',\n",
              " 'rarities',\n",
              " 'Projecting',\n",
              " 'Within',\n",
              " 'shelves',\n",
              " 'flasks',\n",
              " 'bustles',\n",
              " 'deliriums',\n",
              " 'Abominable',\n",
              " 'tumblers',\n",
              " 'cylinders',\n",
              " 'goggling',\n",
              " 'deceitfully',\n",
              " 'tapered',\n",
              " 'Parallel',\n",
              " 'pecked',\n",
              " 'footpads',\n",
              " 'Fill',\n",
              " 'shilling',\n",
              " 'examining',\n",
              " 'SKRIMSHANDER',\n",
              " 'accommodated',\n",
              " 'unoccupied',\n",
              " 'haint',\n",
              " 'pose',\n",
              " 'whalin',\n",
              " 'decidedly',\n",
              " 'objectionable',\n",
              " 'wander',\n",
              " 'Battery',\n",
              " 'ruminating',\n",
              " 'adorning',\n",
              " 'potatoes',\n",
              " 'sartainty',\n",
              " 'diabolically',\n",
              " 'steaks',\n",
              " 'undress',\n",
              " 'looker',\n",
              " 'rioting',\n",
              " 'Grampus',\n",
              " 'seed',\n",
              " 'Feegees',\n",
              " 'tramping',\n",
              " 'Enveloped',\n",
              " 'bedarned',\n",
              " 'eruption',\n",
              " 'officiating',\n",
              " 'brimmers',\n",
              " 'complained',\n",
              " 'potion',\n",
              " 'colds',\n",
              " 'catarrhs',\n",
              " 'liquor',\n",
              " 'arrantest',\n",
              " 'topers',\n",
              " 'obstreperously',\n",
              " 'aloof',\n",
              " 'desirous',\n",
              " 'hilarity',\n",
              " 'coffer',\n",
              " 'Southerner',\n",
              " 'mountaineers',\n",
              " 'Alleghanian',\n",
              " 'missed',\n",
              " 'supernaturally',\n",
              " 'congratulate',\n",
              " 'multiply',\n",
              " 'bachelor',\n",
              " 'abominated',\n",
              " 'tidiest',\n",
              " 'bedwards',\n",
              " 'shan',\n",
              " 'tablecloth',\n",
              " 'Skrimshander',\n",
              " 'bump',\n",
              " 'spraining',\n",
              " 'eider',\n",
              " 'yoking',\n",
              " 'rickety',\n",
              " 'whirlwinds',\n",
              " 'knockings',\n",
              " 'dismissed',\n",
              " 'popped',\n",
              " 'cherishing',\n",
              " 'chuckled',\n",
              " 'chuckle',\n",
              " 'mightily',\n",
              " 'catches',\n",
              " 'bamboozingly',\n",
              " 'overstocked',\n",
              " 'toothpick',\n",
              " 'rayther',\n",
              " 'BROWN',\n",
              " 'slanderin',\n",
              " 'farrago',\n",
              " 'BROKE',\n",
              " 'Sartain',\n",
              " 'Mt',\n",
              " 'Hecla',\n",
              " 'persist',\n",
              " 'mystifying',\n",
              " 'unsay',\n",
              " 'criminal',\n",
              " 'Wall',\n",
              " 'purty',\n",
              " 'sarmon',\n",
              " 'rips',\n",
              " 'tellin',\n",
              " 'bought',\n",
              " 'balmed',\n",
              " 'curios',\n",
              " 'sellin',\n",
              " 'inions',\n",
              " 'fooling',\n",
              " 'idolators',\n",
              " 'Depend',\n",
              " 'reg',\n",
              " 'lar',\n",
              " 'spliced',\n",
              " 'Johnny',\n",
              " 'sprawling',\n",
              " 'Arter',\n",
              " 'glim',\n",
              " 'jiffy',\n",
              " 'irresolute',\n",
              " 'vum',\n",
              " 'WON',\n",
              " 'Folding',\n",
              " 'scrutiny',\n",
              " 'porcupine',\n",
              " 'moccasin',\n",
              " 'ponchos',\n",
              " 'parade',\n",
              " 'rainy',\n",
              " 'remembering',\n",
              " 'commended',\n",
              " 'cobs',\n",
              " 'Nod',\n",
              " 'footfall',\n",
              " 'unlacing',\n",
              " 'blackish',\n",
              " 'plasters',\n",
              " 'inkling',\n",
              " 'Placing',\n",
              " 'crammed',\n",
              " 'scalp',\n",
              " 'mildewed',\n",
              " 'Ignorance',\n",
              " 'parent',\n",
              " 'nonplussed',\n",
              " 'undressing',\n",
              " 'checkered',\n",
              " 'Thirty',\n",
              " 'frogs',\n",
              " 'quaked',\n",
              " 'wrapall',\n",
              " 'dreadnaught',\n",
              " 'fumbled',\n",
              " 'Remembering',\n",
              " 'manikin',\n",
              " 'tenpin',\n",
              " 'andirons',\n",
              " 'jambs',\n",
              " 'bricks',\n",
              " 'appropriate',\n",
              " 'applying',\n",
              " 'hastier',\n",
              " 'withdrawals',\n",
              " 'antics',\n",
              " 'devotee',\n",
              " 'extinguishing',\n",
              " 'unceremoniously',\n",
              " 'bagged',\n",
              " 'sportsman',\n",
              " 'woodcock',\n",
              " 'uncomfortableness',\n",
              " 'deliberating',\n",
              " 'puffed',\n",
              " 'sang',\n",
              " 'Stammering',\n",
              " 'conjured',\n",
              " 'responses',\n",
              " 'debel',\n",
              " 'flourishing',\n",
              " 'Angels',\n",
              " 'flourishings',\n",
              " 'peddlin',\n",
              " 'sleepe',\n",
              " 'grunted',\n",
              " 'gettee',\n",
              " 'motioning',\n",
              " 'comely',\n",
              " 'insured',\n",
              " 'Counterpane',\n",
              " 'parti',\n",
              " 'triangles',\n",
              " 'interminable',\n",
              " 'caper',\n",
              " 'supperless',\n",
              " '21st',\n",
              " 'hemisphere',\n",
              " 'sigh',\n",
              " 'Sixteen',\n",
              " 'ached',\n",
              " 'coaches',\n",
              " 'stockinged',\n",
              " 'slippering',\n",
              " 'misbehaviour',\n",
              " 'unendurable',\n",
              " 'stepmothers',\n",
              " 'misfortunes',\n",
              " 'steeped',\n",
              " 'shudderingly',\n",
              " 'confounding',\n",
              " 'soberly',\n",
              " 'recurred',\n",
              " 'predicament',\n",
              " 'unlock',\n",
              " 'bridegroom',\n",
              " 'clasp',\n",
              " 'hugged',\n",
              " 'rouse',\n",
              " 'snore',\n",
              " 'scratch',\n",
              " 'Throwing',\n",
              " 'expostulations',\n",
              " 'unbecomingness',\n",
              " 'matrimonial',\n",
              " 'dawning',\n",
              " 'overture',\n",
              " 'innate',\n",
              " 'compliment',\n",
              " 'civility',\n",
              " 'rudeness',\n",
              " 'toilette',\n",
              " 'dressing',\n",
              " 'donning',\n",
              " 'gaspings',\n",
              " 'booting',\n",
              " 'caterpillar',\n",
              " 'outlandishness',\n",
              " 'manners',\n",
              " 'education',\n",
              " 'undergraduate',\n",
              " 'dreamt',\n",
              " 'cowhide',\n",
              " 'pinched',\n",
              " 'curtains',\n",
              " 'indecorous',\n",
              " 'contented',\n",
              " 'restricting',\n",
              " 'donned',\n",
              " 'lathering',\n",
              " 'unsheathes',\n",
              " 'whets',\n",
              " 'Rogers',\n",
              " 'cutlery',\n",
              " 'Afterwards',\n",
              " 'baton',\n",
              " 'Breakfast',\n",
              " 'pleasantly',\n",
              " 'bountifully',\n",
              " 'laughable',\n",
              " 'bosky',\n",
              " 'unshorn',\n",
              " 'gowns',\n",
              " 'toasted',\n",
              " 'lingers',\n",
              " 'tarried',\n",
              " 'barred',\n",
              " 'Grub',\n",
              " 'Park',\n",
              " 'assurance',\n",
              " 'polish',\n",
              " 'occasioned',\n",
              " 'embarrassed',\n",
              " 'bashfulness',\n",
              " 'duelled',\n",
              " 'winking',\n",
              " 'tastes',\n",
              " 'sheepishly',\n",
              " 'bashful',\n",
              " 'icicle',\n",
              " 'admirer',\n",
              " 'cordially',\n",
              " 'grappling',\n",
              " 'genteelly',\n",
              " 'eschewed',\n",
              " 'undivided',\n",
              " '6',\n",
              " 'circulating',\n",
              " 'nondescripts',\n",
              " 'Chestnut',\n",
              " 'jostle',\n",
              " 'Regent',\n",
              " 'Lascars',\n",
              " 'Bombay',\n",
              " 'Apollo',\n",
              " 'Feegeeans',\n",
              " 'Tongatobooarrs',\n",
              " 'Erromanggoans',\n",
              " 'Pannangians',\n",
              " 'Brighggians',\n",
              " 'weekly',\n",
              " 'Vermonters',\n",
              " 'stalwart',\n",
              " 'frames',\n",
              " 'felled',\n",
              " 'strutting',\n",
              " 'wester',\n",
              " 'bombazine',\n",
              " 'cloak',\n",
              " 'mow',\n",
              " 'gloves',\n",
              " 'joins',\n",
              " 'outfit',\n",
              " 'waistcoats',\n",
              " 'Hay',\n",
              " 'Seed',\n",
              " 'tract',\n",
              " 'dearest',\n",
              " 'pave',\n",
              " 'eggs',\n",
              " 'patrician',\n",
              " 'parks',\n",
              " 'scraggy',\n",
              " 'scoria',\n",
              " 'Herr',\n",
              " 'dowers',\n",
              " 'nieces',\n",
              " 'reservoirs',\n",
              " 'maples',\n",
              " 'bountiful',\n",
              " 'proffer',\n",
              " 'passer',\n",
              " 'cones',\n",
              " 'blossoms',\n",
              " 'superinduced',\n",
              " 'carnation',\n",
              " 'Salem',\n",
              " 'sweethearts',\n",
              " 'Puritanic',\n",
              " 'Whaleman',\n",
              " 'Wrapping',\n",
              " 'Each',\n",
              " 'quote',\n",
              " 'TALBOT',\n",
              " 'Near',\n",
              " 'Desolation',\n",
              " '1st',\n",
              " 'SISTER',\n",
              " 'ROBERT',\n",
              " 'WILLIS',\n",
              " 'ELLERY',\n",
              " 'NATHAN',\n",
              " 'COLEMAN',\n",
              " 'WALTER',\n",
              " 'CANNY',\n",
              " 'SETH',\n",
              " 'GLEIG',\n",
              " 'Forming',\n",
              " 'ELIZA',\n",
              " '31st',\n",
              " 'MARBLE',\n",
              " 'SHIPMATES',\n",
              " 'EZEKIEL',\n",
              " 'HARDY',\n",
              " 'AUGUST',\n",
              " '3d',\n",
              " '1833',\n",
              " 'WIDOW',\n",
              " 'Shaking',\n",
              " 'glazed',\n",
              " 'Affected',\n",
              " 'relatives',\n",
              " 'unhealing',\n",
              " 'sympathetically',\n",
              " 'wounds',\n",
              " 'bleed',\n",
              " 'blanks',\n",
              " ...]"
            ]
          },
          "metadata": {},
          "execution_count": 56
        }
      ]
    },
    {
      "cell_type": "markdown",
      "metadata": {
        "id": "_5ZmDbvlBFXC"
      },
      "source": [
        "#### 3.2   Selección precisa de palabras"
      ]
    },
    {
      "cell_type": "markdown",
      "metadata": {
        "id": "6xfObiNbBFXD"
      },
      "source": [
        "A continuación, veamos las palabras largas de un texto; quizás estos serán más característicos e informativos. Para esto, adaptamos algunas anotaciones de la teoría de conjuntos. Nos gustaría encontrar las palabras del vocabulario del texto que tienen más de 15 caracteres. Llamemos a esta propiedad P, de modo que P (w) sea verdadera si y solo si w tiene más de 15 caracteres. Ahora podemos expresar las palabras de interés utilizando la notación de conjunto matemático como se muestra en (1a). Esto significa \"el conjunto de todas las w tal que w es un elemento de V (el vocabulario) y w tiene la propiedad P\"."
      ]
    },
    {
      "cell_type": "markdown",
      "metadata": {
        "id": "i1sGm-b9BFXE"
      },
      "source": [
        "(1)\t\t\n",
        "\n",
        "a.\t\t{w | w ∈ V & P(w)}\n",
        "\n",
        "b.\t\t[w for w in V if p(w)]"
      ]
    },
    {
      "cell_type": "markdown",
      "metadata": {
        "id": "26g332w7BFXF"
      },
      "source": [
        "La expresión de Python correspondiente se da en (1b). (Tenga en cuenta que produce una lista, no un conjunto, lo que significa que los duplicados son posibles). Observe cuán similares son las dos notaciones. Avancemos un paso más y escriba el código de Python ejecutable:"
      ]
    },
    {
      "cell_type": "code",
      "metadata": {
        "id": "ZVwmgzKzBFXH"
      },
      "source": [
        "V = set(text1)"
      ],
      "execution_count": null,
      "outputs": []
    },
    {
      "cell_type": "code",
      "metadata": {
        "id": "puZQUdOQBFXO"
      },
      "source": [
        "long_words = [w for w in V if len(w) > 15]"
      ],
      "execution_count": null,
      "outputs": []
    },
    {
      "cell_type": "code",
      "metadata": {
        "collapsed": true,
        "id": "3GF2WKZ3BFXQ",
        "colab": {
          "base_uri": "https://localhost:8080/"
        },
        "outputId": "127b197c-dc5c-46ee-e9af-c4bd57292bc7"
      },
      "source": [
        "sorted(long_words)"
      ],
      "execution_count": null,
      "outputs": [
        {
          "output_type": "execute_result",
          "data": {
            "text/plain": [
              "['CIRCUMNAVIGATION',\n",
              " 'Physiognomically',\n",
              " 'apprehensiveness',\n",
              " 'cannibalistically',\n",
              " 'characteristically',\n",
              " 'circumnavigating',\n",
              " 'circumnavigation',\n",
              " 'circumnavigations',\n",
              " 'comprehensiveness',\n",
              " 'hermaphroditical',\n",
              " 'indiscriminately',\n",
              " 'indispensableness',\n",
              " 'irresistibleness',\n",
              " 'physiognomically',\n",
              " 'preternaturalness',\n",
              " 'responsibilities',\n",
              " 'simultaneousness',\n",
              " 'subterraneousness',\n",
              " 'supernaturalness',\n",
              " 'superstitiousness',\n",
              " 'uncomfortableness',\n",
              " 'uncompromisedness',\n",
              " 'undiscriminating',\n",
              " 'uninterpenetratingly']"
            ]
          },
          "metadata": {},
          "execution_count": 56
        }
      ]
    },
    {
      "cell_type": "markdown",
      "metadata": {
        "id": "_odFU8iIBFXT"
      },
      "source": [
        "Para cada palabra w en el vocabulario V, verificamos si len(w) es mayor que 15; todas las demás palabras serán ignoradas. Discutiremos esta sintaxis con más cuidado más adelante."
      ]
    },
    {
      "cell_type": "markdown",
      "metadata": {
        "id": "Ky_pJKZ_BFXU"
      },
      "source": [
        "Volvamos a nuestra tarea de encontrar palabras que caractericen un texto. Observe que las palabras largas en texto4 reflejan su enfoque nacional - constitucionalmente, transcontinental - mientras que las de texto5 reflejan su contenido informal: boooooooooooglyyyyyy y yuuuuuuuuuuuummmmmmmmmmmm. ¿Hemos tenido éxito en la extracción automática de palabras que tipifican un texto? Bueno, estas palabras muy largas a menudo son hapax (es decir, únicas) y tal vez sería mejor encontrar palabras largas frecuentes. Esto parece prometedor ya que elimina las palabras cortas frecuentes (por ejemplo, la) y las palabras largas poco frecuentes (por ejemplo, antifilosophists). Aquí están todas las palabras del corpus de chat que tienen más de siete caracteres, que ocurren más de siete veces:"
      ]
    },
    {
      "cell_type": "code",
      "metadata": {
        "id": "ZogVh-l3BFXU"
      },
      "source": [
        "fdist5 = FreqDist(text5)"
      ],
      "execution_count": null,
      "outputs": []
    },
    {
      "cell_type": "code",
      "metadata": {
        "id": "MivxMXRrBFXW",
        "colab": {
          "base_uri": "https://localhost:8080/"
        },
        "outputId": "22a12776-b031-43a8-c281-9aad998b129b"
      },
      "source": [
        "sorted((w, fdist5[w]) for w in set(text5) if len(w) > 7 and fdist5[w] > 7)"
      ],
      "execution_count": null,
      "outputs": [
        {
          "output_type": "execute_result",
          "data": {
            "text/plain": [
              "[('#14-19teens', 30),\n",
              " ('#talkcity_adults', 17),\n",
              " ('((((((((((', 11),\n",
              " ('........', 12),\n",
              " ('Question', 8),\n",
              " ('actually', 11),\n",
              " ('anything', 9),\n",
              " ('computer', 9),\n",
              " ('cute.-ass', 10),\n",
              " ('everyone', 63),\n",
              " ('football', 8),\n",
              " ('innocent', 9),\n",
              " ('listening', 23),\n",
              " ('remember', 8),\n",
              " ('seriously', 13),\n",
              " ('something', 28),\n",
              " ('together', 8),\n",
              " ('tomorrow', 8),\n",
              " ('watching', 10)]"
            ]
          },
          "metadata": {},
          "execution_count": 58
        }
      ]
    },
    {
      "cell_type": "markdown",
      "metadata": {
        "id": "PHNHVXDpBFXX"
      },
      "source": [
        "Observe cómo hemos usado dos condiciones: len (w)> 7 asegura que las palabras tienen más de siete letras, y fdist5 [w] > 7 asegura que estas palabras ocurren más de siete veces. Por fin hemos logrado identificar automáticamente las palabras del texto que contienen contenido con frecuencia. Es un hito modesto pero importante: una pequeña porción de código que procesa decenas de miles de palabras produce algo de información."
      ]
    },
    {
      "cell_type": "markdown",
      "metadata": {
        "id": "CEgzCUQ-BFXY"
      },
      "source": [
        "#### 3.3   Colocaciones y bigramas"
      ]
    },
    {
      "cell_type": "markdown",
      "metadata": {
        "id": "px2O3GNsBFXY"
      },
      "source": [
        "Una colocación es una secuencia de palabras que ocurren juntas inusualmente a menudo. Por lo tanto, el vino tinto es una colocación, mientras que el vino no. Una característica de las colocaciones es que son resistentes a la sustitución con palabras que tienen sentidos similares; por ejemplo, el vino granate suena definitivamente extraño.\n",
        "\n",
        "Para manejar las colocaciones, comenzamos extrayendo de un texto una lista de pares de palabras, también conocidos como bigramas. Esto se logra fácilmente con la función bigrams():"
      ]
    },
    {
      "cell_type": "code",
      "metadata": {
        "id": "M9DbqCYpBFXZ",
        "outputId": "4c661641-2faf-4811-b5a6-cf95771880dc",
        "colab": {
          "base_uri": "https://localhost:8080/"
        }
      },
      "source": [
        "import nltk.collocations\n",
        "\n",
        "list(bigrams(['more', 'is', 'said', 'than', 'done']))"
      ],
      "execution_count": null,
      "outputs": [
        {
          "output_type": "execute_result",
          "data": {
            "text/plain": [
              "[('more', 'is'), ('is', 'said'), ('said', 'than'), ('than', 'done')]"
            ]
          },
          "metadata": {},
          "execution_count": 59
        }
      ]
    },
    {
      "cell_type": "markdown",
      "metadata": {
        "id": "etmNkZASBFXb"
      },
      "source": [
        "Aquí vemos que el par de palabras than-done es un bigrama, y lo escribimos en Python como ('than', 'done'). Ahora bien, las colocaciones son básicamente bigramas frecuentes, excepto que queremos prestar más atención a los casos que involucran palabras raras. En particular, queremos encontrar los bigramas que ocurren con más frecuencia de lo que esperaríamos según la frecuencia de las palabras individuales. La función de collocations() hace esto por nosotros. Veremos cómo funciona más tarde."
      ]
    },
    {
      "cell_type": "code",
      "metadata": {
        "id": "hlehgaNFBFXb",
        "outputId": "644ce67f-9175-4239-a3f3-e5f0a6e664a2",
        "colab": {
          "base_uri": "https://localhost:8080/"
        }
      },
      "source": [
        "text4.collocations()"
      ],
      "execution_count": null,
      "outputs": [
        {
          "output_type": "stream",
          "name": "stdout",
          "text": [
            "United States; fellow citizens; years ago; four years; Federal\n",
            "Government; General Government; American people; Vice President; God\n",
            "bless; Chief Justice; one another; fellow Americans; Old World;\n",
            "Almighty God; Fellow citizens; Chief Magistrate; every citizen; Indian\n",
            "tribes; public debt; foreign nations\n"
          ]
        }
      ]
    },
    {
      "cell_type": "code",
      "metadata": {
        "id": "YO3KQ-EnBFXd",
        "outputId": "f6685845-957a-4b7e-9c8b-43517cae2507",
        "colab": {
          "base_uri": "https://localhost:8080/"
        }
      },
      "source": [
        "text8.collocations()"
      ],
      "execution_count": null,
      "outputs": [
        {
          "output_type": "stream",
          "name": "stdout",
          "text": [
            "would like; medium build; social drinker; quiet nights; non smoker;\n",
            "long term; age open; Would like; easy going; financially secure; fun\n",
            "times; similar interests; Age open; weekends away; poss rship; well\n",
            "presented; never married; single mum; permanent relationship; slim\n",
            "build\n"
          ]
        }
      ]
    },
    {
      "cell_type": "markdown",
      "metadata": {
        "id": "ZQPO3AFxBFXe"
      },
      "source": [
        "#### 3.4   Contando otras cosas"
      ]
    },
    {
      "cell_type": "markdown",
      "metadata": {
        "id": "34XqJ1W6BFXf"
      },
      "source": [
        "Contar palabras es útil, pero también podemos contar otras cosas. Por ejemplo, podemos ver la distribución de las longitudes de palabra en un texto, creando un FreqDist a partir de una larga lista de números, donde cada número es la longitud de la palabra correspondiente en el texto:"
      ]
    },
    {
      "cell_type": "code",
      "metadata": {
        "collapsed": true,
        "id": "Ypa_9CNOBFXf",
        "outputId": "58f3be1d-24cb-46bb-af6b-ab49207a0159",
        "colab": {
          "base_uri": "https://localhost:8080/"
        }
      },
      "source": [
        "[len(w) for w in text1] #[1]"
      ],
      "execution_count": null,
      "outputs": [
        {
          "output_type": "execute_result",
          "data": {
            "text/plain": [
              "[1,\n",
              " 4,\n",
              " 4,\n",
              " 2,\n",
              " 6,\n",
              " 8,\n",
              " 4,\n",
              " 1,\n",
              " 9,\n",
              " 1,\n",
              " 1,\n",
              " 8,\n",
              " 2,\n",
              " 1,\n",
              " 4,\n",
              " 11,\n",
              " 5,\n",
              " 2,\n",
              " 1,\n",
              " 7,\n",
              " 6,\n",
              " 1,\n",
              " 3,\n",
              " 4,\n",
              " 5,\n",
              " 2,\n",
              " 10,\n",
              " 2,\n",
              " 4,\n",
              " 1,\n",
              " 5,\n",
              " 1,\n",
              " 4,\n",
              " 1,\n",
              " 3,\n",
              " 5,\n",
              " 1,\n",
              " 1,\n",
              " 3,\n",
              " 3,\n",
              " 3,\n",
              " 1,\n",
              " 2,\n",
              " 3,\n",
              " 4,\n",
              " 7,\n",
              " 3,\n",
              " 3,\n",
              " 8,\n",
              " 3,\n",
              " 8,\n",
              " 1,\n",
              " 4,\n",
              " 1,\n",
              " 5,\n",
              " 12,\n",
              " 1,\n",
              " 9,\n",
              " 11,\n",
              " 4,\n",
              " 3,\n",
              " 3,\n",
              " 3,\n",
              " 5,\n",
              " 2,\n",
              " 3,\n",
              " 3,\n",
              " 5,\n",
              " 7,\n",
              " 2,\n",
              " 3,\n",
              " 5,\n",
              " 1,\n",
              " 2,\n",
              " 5,\n",
              " 2,\n",
              " 4,\n",
              " 3,\n",
              " 3,\n",
              " 8,\n",
              " 1,\n",
              " 2,\n",
              " 7,\n",
              " 6,\n",
              " 8,\n",
              " 3,\n",
              " 2,\n",
              " 3,\n",
              " 9,\n",
              " 1,\n",
              " 1,\n",
              " 5,\n",
              " 3,\n",
              " 4,\n",
              " 2,\n",
              " 4,\n",
              " 2,\n",
              " 6,\n",
              " 6,\n",
              " 1,\n",
              " 3,\n",
              " 2,\n",
              " 5,\n",
              " 4,\n",
              " 2,\n",
              " 4,\n",
              " 4,\n",
              " 1,\n",
              " 5,\n",
              " 1,\n",
              " 4,\n",
              " 2,\n",
              " 2,\n",
              " 2,\n",
              " 6,\n",
              " 2,\n",
              " 3,\n",
              " 6,\n",
              " 7,\n",
              " 3,\n",
              " 1,\n",
              " 7,\n",
              " 9,\n",
              " 1,\n",
              " 3,\n",
              " 6,\n",
              " 1,\n",
              " 1,\n",
              " 5,\n",
              " 6,\n",
              " 5,\n",
              " 6,\n",
              " 3,\n",
              " 13,\n",
              " 2,\n",
              " 3,\n",
              " 4,\n",
              " 1,\n",
              " 3,\n",
              " 7,\n",
              " 4,\n",
              " 5,\n",
              " 2,\n",
              " 3,\n",
              " 4,\n",
              " 2,\n",
              " 2,\n",
              " 8,\n",
              " 1,\n",
              " 5,\n",
              " 1,\n",
              " 3,\n",
              " 2,\n",
              " 1,\n",
              " 3,\n",
              " 3,\n",
              " 1,\n",
              " 4,\n",
              " 1,\n",
              " 4,\n",
              " 6,\n",
              " 2,\n",
              " 5,\n",
              " 4,\n",
              " 9,\n",
              " 2,\n",
              " 7,\n",
              " 1,\n",
              " 3,\n",
              " 2,\n",
              " 3,\n",
              " 1,\n",
              " 5,\n",
              " 2,\n",
              " 6,\n",
              " 2,\n",
              " 7,\n",
              " 2,\n",
              " 2,\n",
              " 7,\n",
              " 1,\n",
              " 1,\n",
              " 10,\n",
              " 1,\n",
              " 5,\n",
              " 1,\n",
              " 3,\n",
              " 2,\n",
              " 2,\n",
              " 4,\n",
              " 11,\n",
              " 4,\n",
              " 3,\n",
              " 3,\n",
              " 1,\n",
              " 3,\n",
              " 3,\n",
              " 1,\n",
              " 6,\n",
              " 1,\n",
              " 1,\n",
              " 1,\n",
              " 1,\n",
              " 1,\n",
              " 4,\n",
              " 1,\n",
              " 3,\n",
              " 1,\n",
              " 2,\n",
              " 4,\n",
              " 1,\n",
              " 2,\n",
              " 6,\n",
              " 2,\n",
              " 2,\n",
              " 10,\n",
              " 1,\n",
              " 1,\n",
              " 10,\n",
              " 5,\n",
              " 1,\n",
              " 5,\n",
              " 1,\n",
              " 5,\n",
              " 1,\n",
              " 5,\n",
              " 1,\n",
              " 5,\n",
              " 1,\n",
              " 5,\n",
              " 1,\n",
              " 5,\n",
              " 1,\n",
              " 5,\n",
              " 1,\n",
              " 6,\n",
              " 1,\n",
              " 3,\n",
              " 1,\n",
              " 5,\n",
              " 1,\n",
              " 4,\n",
              " 1,\n",
              " 7,\n",
              " 1,\n",
              " 5,\n",
              " 1,\n",
              " 9,\n",
              " 1,\n",
              " 5,\n",
              " 1,\n",
              " 7,\n",
              " 1,\n",
              " 7,\n",
              " 1,\n",
              " 6,\n",
              " 1,\n",
              " 7,\n",
              " 1,\n",
              " 7,\n",
              " 1,\n",
              " 5,\n",
              " 1,\n",
              " 4,\n",
              " 1,\n",
              " 4,\n",
              " 1,\n",
              " 5,\n",
              " 1,\n",
              " 5,\n",
              " 1,\n",
              " 4,\n",
              " 1,\n",
              " 4,\n",
              " 1,\n",
              " 11,\n",
              " 1,\n",
              " 8,\n",
              " 1,\n",
              " 8,\n",
              " 2,\n",
              " 1,\n",
              " 3,\n",
              " 1,\n",
              " 3,\n",
              " 1,\n",
              " 9,\n",
              " 2,\n",
              " 2,\n",
              " 4,\n",
              " 2,\n",
              " 4,\n",
              " 4,\n",
              " 4,\n",
              " 4,\n",
              " 11,\n",
              " 8,\n",
              " 3,\n",
              " 4,\n",
              " 1,\n",
              " 4,\n",
              " 2,\n",
              " 1,\n",
              " 4,\n",
              " 5,\n",
              " 2,\n",
              " 1,\n",
              " 3,\n",
              " 1,\n",
              " 3,\n",
              " 7,\n",
              " 2,\n",
              " 4,\n",
              " 4,\n",
              " 7,\n",
              " 3,\n",
              " 4,\n",
              " 8,\n",
              " 3,\n",
              " 6,\n",
              " 1,\n",
              " 6,\n",
              " 2,\n",
              " 3,\n",
              " 5,\n",
              " 1,\n",
              " 7,\n",
              " 2,\n",
              " 8,\n",
              " 6,\n",
              " 9,\n",
              " 2,\n",
              " 6,\n",
              " 2,\n",
              " 5,\n",
              " 7,\n",
              " 4,\n",
              " 2,\n",
              " 3,\n",
              " 4,\n",
              " 10,\n",
              " 1,\n",
              " 6,\n",
              " 2,\n",
              " 7,\n",
              " 1,\n",
              " 9,\n",
              " 3,\n",
              " 4,\n",
              " 3,\n",
              " 1,\n",
              " 2,\n",
              " 5,\n",
              " 4,\n",
              " 2,\n",
              " 5,\n",
              " 1,\n",
              " 4,\n",
              " 3,\n",
              " 8,\n",
              " 1,\n",
              " 8,\n",
              " 5,\n",
              " 10,\n",
              " 1,\n",
              " 7,\n",
              " 9,\n",
              " 1,\n",
              " 2,\n",
              " 5,\n",
              " 8,\n",
              " 1,\n",
              " 3,\n",
              " 9,\n",
              " 6,\n",
              " 8,\n",
              " 1,\n",
              " 3,\n",
              " 4,\n",
              " 2,\n",
              " 1,\n",
              " 2,\n",
              " 8,\n",
              " 3,\n",
              " 7,\n",
              " 7,\n",
              " 9,\n",
              " 1,\n",
              " 2,\n",
              " 4,\n",
              " 2,\n",
              " 3,\n",
              " 5,\n",
              " 4,\n",
              " 9,\n",
              " 1,\n",
              " 5,\n",
              " 8,\n",
              " 3,\n",
              " 6,\n",
              " 8,\n",
              " 2,\n",
              " 12,\n",
              " 1,\n",
              " 2,\n",
              " 9,\n",
              " 1,\n",
              " 8,\n",
              " 4,\n",
              " 1,\n",
              " 1,\n",
              " 3,\n",
              " 4,\n",
              " 2,\n",
              " 4,\n",
              " 3,\n",
              " 4,\n",
              " 13,\n",
              " 4,\n",
              " 1,\n",
              " 7,\n",
              " 1,\n",
              " 7,\n",
              " 1,\n",
              " 3,\n",
              " 4,\n",
              " 2,\n",
              " 9,\n",
              " 1,\n",
              " 2,\n",
              " 4,\n",
              " 7,\n",
              " 3,\n",
              " 11,\n",
              " 1,\n",
              " 9,\n",
              " 3,\n",
              " 3,\n",
              " 1,\n",
              " 2,\n",
              " 4,\n",
              " 4,\n",
              " 4,\n",
              " 1,\n",
              " 4,\n",
              " 5,\n",
              " 2,\n",
              " 1,\n",
              " 3,\n",
              " 1,\n",
              " 3,\n",
              " 1,\n",
              " 5,\n",
              " 11,\n",
              " 1,\n",
              " 2,\n",
              " 1,\n",
              " 4,\n",
              " 9,\n",
              " 2,\n",
              " 4,\n",
              " 8,\n",
              " 1,\n",
              " 6,\n",
              " 5,\n",
              " 5,\n",
              " 2,\n",
              " 4,\n",
              " 2,\n",
              " 4,\n",
              " 5,\n",
              " 4,\n",
              " 4,\n",
              " 4,\n",
              " 1,\n",
              " 3,\n",
              " 3,\n",
              " 4,\n",
              " 4,\n",
              " 4,\n",
              " 6,\n",
              " 5,\n",
              " 2,\n",
              " 3,\n",
              " 4,\n",
              " 1,\n",
              " 6,\n",
              " 1,\n",
              " 3,\n",
              " 4,\n",
              " 4,\n",
              " 3,\n",
              " 9,\n",
              " 5,\n",
              " 2,\n",
              " 3,\n",
              " 1,\n",
              " 3,\n",
              " 4,\n",
              " 4,\n",
              " 1,\n",
              " 8,\n",
              " 1,\n",
              " 3,\n",
              " 1,\n",
              " 3,\n",
              " 4,\n",
              " 9,\n",
              " 4,\n",
              " 5,\n",
              " 1,\n",
              " 3,\n",
              " 3,\n",
              " 2,\n",
              " 4,\n",
              " 7,\n",
              " 1,\n",
              " 4,\n",
              " 4,\n",
              " 4,\n",
              " 3,\n",
              " 5,\n",
              " 7,\n",
              " 1,\n",
              " 3,\n",
              " 2,\n",
              " 3,\n",
              " 10,\n",
              " 10,\n",
              " 7,\n",
              " 2,\n",
              " 4,\n",
              " 2,\n",
              " 2,\n",
              " 1,\n",
              " 3,\n",
              " 1,\n",
              " 4,\n",
              " 1,\n",
              " 3,\n",
              " 2,\n",
              " 3,\n",
              " 4,\n",
              " 3,\n",
              " 4,\n",
              " 5,\n",
              " 2,\n",
              " 4,\n",
              " 2,\n",
              " 6,\n",
              " 3,\n",
              " 5,\n",
              " 1,\n",
              " 2,\n",
              " 2,\n",
              " 4,\n",
              " 3,\n",
              " 4,\n",
              " 5,\n",
              " 2,\n",
              " 3,\n",
              " 4,\n",
              " 2,\n",
              " 9,\n",
              " 1,\n",
              " 5,\n",
              " 4,\n",
              " 1,\n",
              " 5,\n",
              " 5,\n",
              " 3,\n",
              " 7,\n",
              " 5,\n",
              " 3,\n",
              " 3,\n",
              " 9,\n",
              " 3,\n",
              " 2,\n",
              " 1,\n",
              " 3,\n",
              " 4,\n",
              " 4,\n",
              " 4,\n",
              " 5,\n",
              " 3,\n",
              " 3,\n",
              " 5,\n",
              " 2,\n",
              " 3,\n",
              " 5,\n",
              " 1,\n",
              " 4,\n",
              " 4,\n",
              " 4,\n",
              " 6,\n",
              " 1,\n",
              " 3,\n",
              " 4,\n",
              " 7,\n",
              " 3,\n",
              " 4,\n",
              " 4,\n",
              " 6,\n",
              " 3,\n",
              " 8,\n",
              " 3,\n",
              " 3,\n",
              " 5,\n",
              " 1,\n",
              " 7,\n",
              " 7,\n",
              " 1,\n",
              " 3,\n",
              " 6,\n",
              " 8,\n",
              " 2,\n",
              " 4,\n",
              " 1,\n",
              " 8,\n",
              " 7,\n",
              " 1,\n",
              " 7,\n",
              " 1,\n",
              " 3,\n",
              " 7,\n",
              " 1,\n",
              " 7,\n",
              " 4,\n",
              " 6,\n",
              " 1,\n",
              " 4,\n",
              " 2,\n",
              " 6,\n",
              " 3,\n",
              " 10,\n",
              " 6,\n",
              " 8,\n",
              " 2,\n",
              " 5,\n",
              " 1,\n",
              " 2,\n",
              " 5,\n",
              " 6,\n",
              " 14,\n",
              " 7,\n",
              " 1,\n",
              " 8,\n",
              " 1,\n",
              " 1,\n",
              " 3,\n",
              " 3,\n",
              " 7,\n",
              " 5,\n",
              " 6,\n",
              " 2,\n",
              " 2,\n",
              " 7,\n",
              " 1,\n",
              " 1,\n",
              " 9,\n",
              " 6,\n",
              " 1,\n",
              " 4,\n",
              " 2,\n",
              " 5,\n",
              " 5,\n",
              " 3,\n",
              " 1,\n",
              " 3,\n",
              " 5,\n",
              " 5,\n",
              " 3,\n",
              " 4,\n",
              " 2,\n",
              " 2,\n",
              " 5,\n",
              " 2,\n",
              " 2,\n",
              " 3,\n",
              " 1,\n",
              " 1,\n",
              " 3,\n",
              " 3,\n",
              " 4,\n",
              " 3,\n",
              " 8,\n",
              " 1,\n",
              " 5,\n",
              " 4,\n",
              " 2,\n",
              " 7,\n",
              " 2,\n",
              " 5,\n",
              " 2,\n",
              " 2,\n",
              " 5,\n",
              " 1,\n",
              " 1,\n",
              " 5,\n",
              " 2,\n",
              " 3,\n",
              " 5,\n",
              " 1,\n",
              " 5,\n",
              " 2,\n",
              " 4,\n",
              " 9,\n",
              " 4,\n",
              " 4,\n",
              " 4,\n",
              " 4,\n",
              " 2,\n",
              " 4,\n",
              " 7,\n",
              " 2,\n",
              " 2,\n",
              " 6,\n",
              " 1,\n",
              " 1,\n",
              " 2,\n",
              " 4,\n",
              " 3,\n",
              " 1,\n",
              " 3,\n",
              " 4,\n",
              " 4,\n",
              " 3,\n",
              " 4,\n",
              " 1,\n",
              " 3,\n",
              " 5,\n",
              " 1,\n",
              " 3,\n",
              " 6,\n",
              " 5,\n",
              " 1,\n",
              " 5,\n",
              " 6,\n",
              " 9,\n",
              " 3,\n",
              " 8,\n",
              " 7,\n",
              " 1,\n",
              " 4,\n",
              " 9,\n",
              " 4,\n",
              " 7,\n",
              " 7,\n",
              " 1,\n",
              " 3,\n",
              " 2,\n",
              " 5,\n",
              " 4,\n",
              " 3,\n",
              " 6,\n",
              " 4,\n",
              " 2,\n",
              " 2,\n",
              " 3,\n",
              " 3,\n",
              " 2,\n",
              " 2,\n",
              " 6,\n",
              " 1,\n",
              " 3,\n",
              " 4,\n",
              " 5,\n",
              " 6,\n",
              " 7,\n",
              " 6,\n",
              " 6,\n",
              " 3,\n",
              " 5,\n",
              " 2,\n",
              " 4,\n",
              " 7,\n",
              " 1,\n",
              " 1,\n",
              " 5,\n",
              " 1,\n",
              " 2,\n",
              " 2,\n",
              " 5,\n",
              " 1,\n",
              " 4,\n",
              " 1,\n",
              " 2,\n",
              " 5,\n",
              " 1,\n",
              " 4,\n",
              " 2,\n",
              " 4,\n",
              " 3,\n",
              " 13,\n",
              " 4,\n",
              " 4,\n",
              " 5,\n",
              " 7,\n",
              " 2,\n",
              " 3,\n",
              " 1,\n",
              " 3,\n",
              " 9,\n",
              " 2,\n",
              " 3,\n",
              " 10,\n",
              " 4,\n",
              " 2,\n",
              " 3,\n",
              " 6,\n",
              " 2,\n",
              " 2,\n",
              " 7,\n",
              " 1,\n",
              " 1,\n",
              " 8,\n",
              " 1,\n",
              " 1,\n",
              " 6,\n",
              " 1,\n",
              " 1,\n",
              " 3,\n",
              " 6,\n",
              " 3,\n",
              " 8,\n",
              " 3,\n",
              " 4,\n",
              " 3,\n",
              " 3,\n",
              " 7,\n",
              " 6,\n",
              " 4,\n",
              " 3,\n",
              " 1,\n",
              " 5,\n",
              " 5,\n",
              " 3,\n",
              " 6,\n",
              " 3,\n",
              " 11,\n",
              " 6,\n",
              " 7,\n",
              " 1,\n",
              " 4,\n",
              " 2,\n",
              " 2,\n",
              " 4,\n",
              " 2,\n",
              " 6,\n",
              " 2,\n",
              " 4,\n",
              " 5,\n",
              " 2,\n",
              " 6,\n",
              " 2,\n",
              " 4,\n",
              " 2,\n",
              " 2,\n",
              " 7,\n",
              " 1,\n",
              " 1,\n",
              " 5,\n",
              " 1,\n",
              " 1,\n",
              " 8,\n",
              " 3,\n",
              " 2,\n",
              " 9,\n",
              " 3,\n",
              " 4,\n",
              " 2,\n",
              " 3,\n",
              " 3,\n",
              " 1,\n",
              " 4,\n",
              " 5,\n",
              " 7,\n",
              " 1,\n",
              " 5,\n",
              " 4,\n",
              " 6,\n",
              " 3,\n",
              " 5,\n",
              " 8,\n",
              " 2,\n",
              " 3,\n",
              " 3,\n",
              " 1,\n",
              " 8,\n",
              " 1,\n",
              " 5,\n",
              " 3,\n",
              " 6,\n",
              " 1,\n",
              " 3,\n",
              " 3,\n",
              " 2,\n",
              " 1,\n",
              " 4,\n",
              " 9,\n",
              " 4,\n",
              " 1,\n",
              " 3,\n",
              " 4,\n",
              " 4,\n",
              " 7,\n",
              " 2,\n",
              " 1,\n",
              " 4,\n",
              " 1,\n",
              " 7,\n",
              " 1,\n",
              " 7,\n",
              " 3,\n",
              " 5,\n",
              " 2,\n",
              " 3,\n",
              " 5,\n",
              " 1,\n",
              " 3,\n",
              " 7,\n",
              " 3,\n",
              " 3,\n",
              " 6,\n",
              " 3,\n",
              " 4,\n",
              " 1,\n",
              " 4,\n",
              " 2,\n",
              " 2,\n",
              " 5,\n",
              " 1,\n",
              " 1,\n",
              " 6,\n",
              " 1,\n",
              " 1,\n",
              " 3,\n",
              " 4,\n",
              " 7,\n",
              " 2,\n",
              " 1,\n",
              " 2,\n",
              " 7,\n",
              " 4,\n",
              " 7,\n",
              " 4,\n",
              " 4,\n",
              " 1,\n",
              " 4,\n",
              " 2,\n",
              " 8,\n",
              " 5,\n",
              " 1,\n",
              " 6,\n",
              " 1,\n",
              " 5,\n",
              " 3,\n",
              " 5,\n",
              " 2,\n",
              " 4,\n",
              " 5,\n",
              " 5,\n",
              " 3,\n",
              " 5,\n",
              " 5,\n",
              " 1,\n",
              " 2,\n",
              " 5,\n",
              " 2,\n",
              " 7,\n",
              " 4,\n",
              " 2,\n",
              " 3,\n",
              " 4,\n",
              " 1,\n",
              " 3,\n",
              " 3,\n",
              " 4,\n",
              " 6,\n",
              " 4,\n",
              " 7,\n",
              " 2,\n",
              " 3,\n",
              " 3,\n",
              " 7,\n",
              " 1,\n",
              " 2,\n",
              " 5,\n",
              " 4,\n",
              " 4,\n",
              " 5,\n",
              " 1,\n",
              " 5,\n",
              " 1,\n",
              " 4,\n",
              " 5,\n",
              " 5,\n",
              " 4,\n",
              " 1,\n",
              " 2,\n",
              " ...]"
            ]
          },
          "metadata": {},
          "execution_count": 72
        }
      ]
    },
    {
      "cell_type": "code",
      "metadata": {
        "id": "LtycM00qBFXm"
      },
      "source": [
        "fdist = FreqDist(len(w) for w in text1) #[2]"
      ],
      "execution_count": null,
      "outputs": []
    },
    {
      "cell_type": "code",
      "metadata": {
        "id": "6ikB-fykBFXq",
        "outputId": "13a2fe24-ef09-4001-d749-47ae1f7816a9",
        "colab": {
          "base_uri": "https://localhost:8080/"
        }
      },
      "source": [
        "print(fdist) #[3]"
      ],
      "execution_count": null,
      "outputs": [
        {
          "output_type": "stream",
          "name": "stdout",
          "text": [
            "<FreqDist with 19 samples and 260819 outcomes>\n"
          ]
        }
      ]
    },
    {
      "cell_type": "code",
      "metadata": {
        "collapsed": true,
        "id": "HUz0H9bNBFXs",
        "outputId": "c5280a42-af4c-464a-9a4a-b2764cf81c0f",
        "colab": {
          "base_uri": "https://localhost:8080/",
          "height": 320
        }
      },
      "source": [
        "fig = plt.figure(figsize = (20, 7))\n",
        "fdist.plot(50)"
      ],
      "execution_count": null,
      "outputs": [
        {
          "output_type": "display_data",
          "data": {
            "text/plain": [
              "<Figure size 1440x504 with 1 Axes>"
            ],
            "image/png": "[encoded data removed]"
          },
          "metadata": {
            "needs_background": "light"
          }
        }
      ]
    },
    {
      "cell_type": "markdown",
      "metadata": {
        "id": "oyPNzSLnBFXu"
      },
      "source": [
        "Comenzamos derivando una lista de las longitudes de las palabras en text1 [1], y FreqDist luego cuenta el número de veces que ocurre cada una de ellas [2]. El resultado [3] es una distribución que contiene un cuarto de millón de elementos, cada uno de los cuales es un número correspondiente a un token de palabra en el texto. Pero, como mucho, solo se cuentan 20 elementos distintos, los números del 1 al 20, porque solo hay 20 diferentes longitudes de palabra. Es decir, hay palabras que constan de un solo carácter, dos caracteres, ..., veinte caracteres, pero ninguno con veinte uno o más caracteres. Uno podría preguntarse qué tan frecuentes son las diferentes longitudes de palabra (por ejemplo, cuántas palabras de longitud cuatro aparecen en el texto, hay más palabras de longitud cinco que longitud cuatro, etc.). Podemos hacer esto de la siguiente manera:"
      ]
    },
    {
      "cell_type": "code",
      "metadata": {
        "collapsed": true,
        "id": "N4xXSowNBFXv",
        "outputId": "530e2458-3fbe-4d3b-961d-5c1b2911eea2",
        "colab": {
          "base_uri": "https://localhost:8080/"
        }
      },
      "source": [
        "fdist.most_common()"
      ],
      "execution_count": null,
      "outputs": [
        {
          "output_type": "execute_result",
          "data": {
            "text/plain": [
              "[(3, 50223),\n",
              " (1, 47933),\n",
              " (4, 42345),\n",
              " (2, 38513),\n",
              " (5, 26597),\n",
              " (6, 17111),\n",
              " (7, 14399),\n",
              " (8, 9966),\n",
              " (9, 6428),\n",
              " (10, 3528),\n",
              " (11, 1873),\n",
              " (12, 1053),\n",
              " (13, 567),\n",
              " (14, 177),\n",
              " (15, 70),\n",
              " (16, 22),\n",
              " (17, 12),\n",
              " (18, 1),\n",
              " (20, 1)]"
            ]
          },
          "metadata": {},
          "execution_count": 78
        }
      ]
    },
    {
      "cell_type": "code",
      "metadata": {
        "id": "_DYerEJxBFXx",
        "outputId": "ddd72ad3-23c7-4f47-9210-5faef003fd96",
        "colab": {
          "base_uri": "https://localhost:8080/"
        }
      },
      "source": [
        "fdist.max()"
      ],
      "execution_count": null,
      "outputs": [
        {
          "output_type": "execute_result",
          "data": {
            "text/plain": [
              "3"
            ]
          },
          "metadata": {},
          "execution_count": 79
        }
      ]
    },
    {
      "cell_type": "code",
      "metadata": {
        "id": "XfOgj0hTBFXz",
        "outputId": "c5b1da7a-ee00-41d4-f024-890f56963416",
        "colab": {
          "base_uri": "https://localhost:8080/"
        }
      },
      "source": [
        "fdist[3]"
      ],
      "execution_count": null,
      "outputs": [
        {
          "output_type": "execute_result",
          "data": {
            "text/plain": [
              "50223"
            ]
          },
          "metadata": {},
          "execution_count": 80
        }
      ]
    },
    {
      "cell_type": "code",
      "metadata": {
        "id": "cH_7Kl5bBFX5",
        "outputId": "7a525903-8745-4aad-921a-645632b235a8",
        "colab": {
          "base_uri": "https://localhost:8080/"
        }
      },
      "source": [
        "fdist.freq(3)"
      ],
      "execution_count": null,
      "outputs": [
        {
          "output_type": "execute_result",
          "data": {
            "text/plain": [
              "0.19255882431878046"
            ]
          },
          "metadata": {},
          "execution_count": 81
        }
      ]
    },
    {
      "cell_type": "markdown",
      "metadata": {
        "id": "QdrxtE7sBFX9"
      },
      "source": [
        "De esto vemos que la longitud de palabra más frecuente es 3, y que las palabras de longitud 3 representan aproximadamente 50,000 (o 20%) de las palabras que componen el libro. Aunque no vamos a continuar aquí, un análisis más detallado de la longitud de las palabras puede ayudarnos a comprender las diferencias entre autores, géneros o idiomas."
      ]
    },
    {
      "cell_type": "markdown",
      "metadata": {
        "id": "9pAoGz0PBFX9"
      },
      "source": [
        "3.1 resume las funciones definidas en las distribuciones de frecuencia."
      ]
    },
    {
      "cell_type": "markdown",
      "metadata": {
        "id": "1XiWl8qeBFX-"
      },
      "source": [
        "Table 3.1:\n",
        "\n",
        "Funciones definidas para las distribuciones de frecuencia de NLTK\n",
        "\n",
        "| Ejemplo   | Descripción    |\n",
        "| ------------- | ------------- |\n",
        "| fdist = FreqDist(samples) | crear una distribución de frecuencia que contenga las muestras dadas |\n",
        "| fdist[sample] += 1 | incrementar el conteo para esta muestra |\n",
        "| fdist['monstrous'] | recuento del número de veces que se produjo una muestra determinada |\n",
        "| fdist.freq('monstrous') | frecuencia de una muestra dada |\n",
        "| fdist.N() | número total de muestras |\n",
        "| fdist.most_common(n) | las n muestras más comunes y sus frecuencias |\n",
        "| for sample in fdist: | iterar sobre las muestras |\n",
        "| fdist.max() | muestra con el mayor recuento |\n",
        "| fdist.tabulate() | tabular la distribución de frecuencia |\n",
        "| fdist.plot() | gráfica de la distribución de frecuencia |\n",
        "| fdist.plot(cumulative=True) | diagrama acumulativo de la distribución de frecuencia |\n",
        "| fdist1 |= fdist2 | actualiza fdist1 con conteos de fdist2 |\n",
        "| fdist1 < fdist2 | probar si las muestras en fdist1 ocurren con menos frecuencia que en fdist2 |"
      ]
    },
    {
      "cell_type": "markdown",
      "metadata": {
        "id": "ikWTK6QCBFX-"
      },
      "source": [
        "Nuestra discusión sobre la distribución de frecuencias ha introducido algunos conceptos importantes de Python, y los analizaremos sistemáticamente en el 4."
      ]
    },
    {
      "cell_type": "markdown",
      "metadata": {
        "id": "DL1AU-4ABFX-"
      },
      "source": [
        "### 4 Volver a Python: tomar decisiones y tomar el control\n",
        "\n",
        "Hasta ahora, nuestros pequeños programas han tenido algunas cualidades interesantes: la capacidad de trabajar con el lenguaje y el potencial para ahorrar esfuerzo humano a través de la automatización. Una característica clave de la programación es la capacidad de las máquinas para tomar decisiones en nuestro nombre, la ejecución de instrucciones cuando se cumplen ciertas condiciones, o el bucle repetido a través de datos de texto hasta que se cumpla alguna condición. Esta característica se conoce como control y es el foco de esta sección."
      ]
    },
    {
      "cell_type": "markdown",
      "metadata": {
        "id": "D5xIIt6qBFX_"
      },
      "source": [
        "#### 4.1   Condicionales\n",
        "\n",
        "Python admite una amplia gama de operadores, como <y> =, para probar la relación entre valores. El conjunto completo de estos operadores relacionales se muestra en 4.1.\n",
        "    \n",
        "Tabla 4.1: \n",
        "\n",
        "Operadores de comparación numérica\n",
        "\n",
        "| Función  | Sentido   |\n",
        "| ------------- | ------------- |\n",
        "| s.startswith(t) | prueba si s comienza con t |\n",
        "| s.endswith(t) | prueba si s termina con t |\n",
        "| t in s | probar si t es una subcadena de s |\n",
        "| s.islower() | prueba si s contiene caracteres encasillados y todos son minúsculas |\n",
        "| s.isupper() | prueba si s contiene caracteres encapsulados y todos son mayúsculas |\n",
        "| s.isalpha() | probar si s no está vacío y todos los caracteres en s son alfabéticos |\n",
        "| s.isalnum() | probar si s no está vacío y todos los caracteres en s son alfanuméricos |\n",
        "| s.isdigit() | probar si s no está vacío y todos los caracteres en s son dígitos |\n",
        "| s.istitle() | probar si s contiene caracteres encapsulados y está catalogado (es decir, todas las palabras en s tienen mayúscula inicial) |\n",
        "\n",
        "\n",
        "Estos son algunos ejemplos de estos operadores que se utilizan para seleccionar palabras de nuestros textos: palabras que terminan en -ableness; palabras que contienen gnt; palabras que tienen un capital inicial; y palabras que consisten enteramente de dígitos."
      ]
    },
    {
      "cell_type": "code",
      "metadata": {
        "scrolled": true,
        "id": "eRxikYUsBFX_",
        "outputId": "efb2be67-b5a3-4378-94ad-ce22e938aa37",
        "colab": {
          "base_uri": "https://localhost:8080/"
        }
      },
      "source": [
        "sorted(w for w in set(text1) if w.endswith('ableness'))"
      ],
      "execution_count": null,
      "outputs": [
        {
          "output_type": "execute_result",
          "data": {
            "text/plain": [
              "['comfortableness',\n",
              " 'honourableness',\n",
              " 'immutableness',\n",
              " 'indispensableness',\n",
              " 'indomitableness',\n",
              " 'intolerableness',\n",
              " 'palpableness',\n",
              " 'reasonableness',\n",
              " 'uncomfortableness']"
            ]
          },
          "metadata": {},
          "execution_count": 82
        }
      ]
    },
    {
      "cell_type": "code",
      "metadata": {
        "id": "Grgd-mazBFYB",
        "outputId": "c5f7899b-6ce6-49a5-bbe3-ca732ba322fd",
        "colab": {
          "base_uri": "https://localhost:8080/"
        }
      },
      "source": [
        "sorted(term for term in set(text4) if 'gnt' in term)"
      ],
      "execution_count": null,
      "outputs": [
        {
          "output_type": "execute_result",
          "data": {
            "text/plain": [
              "['Sovereignty', 'sovereignties', 'sovereignty']"
            ]
          },
          "metadata": {},
          "execution_count": 83
        }
      ]
    },
    {
      "cell_type": "code",
      "metadata": {
        "collapsed": true,
        "id": "WKRw9khrBFYD",
        "outputId": "eb44558d-7012-4364-d3b9-b730bbcf1b3f",
        "colab": {
          "base_uri": "https://localhost:8080/"
        }
      },
      "source": [
        "sorted(item for item in set(text6) if item.istitle())"
      ],
      "execution_count": null,
      "outputs": [
        {
          "output_type": "execute_result",
          "data": {
            "text/plain": [
              "['A',\n",
              " 'Aaaaaaaaah',\n",
              " 'Aaaaaaaah',\n",
              " 'Aaaaaah',\n",
              " 'Aaaah',\n",
              " 'Aaaaugh',\n",
              " 'Aaagh',\n",
              " 'Aaah',\n",
              " 'Aaauggh',\n",
              " 'Aaaugh',\n",
              " 'Aaauugh',\n",
              " 'Aagh',\n",
              " 'Aah',\n",
              " 'Aauuggghhh',\n",
              " 'Aauuugh',\n",
              " 'Aauuuuugh',\n",
              " 'Aauuuves',\n",
              " 'Action',\n",
              " 'Actually',\n",
              " 'African',\n",
              " 'Ages',\n",
              " 'Aggh',\n",
              " 'Agh',\n",
              " 'Ah',\n",
              " 'Ahh',\n",
              " 'Alice',\n",
              " 'All',\n",
              " 'Allo',\n",
              " 'Almighty',\n",
              " 'Alright',\n",
              " 'Am',\n",
              " 'Amen',\n",
              " 'An',\n",
              " 'Anarcho',\n",
              " 'And',\n",
              " 'Angnor',\n",
              " 'Anthrax',\n",
              " 'Antioch',\n",
              " 'Anybody',\n",
              " 'Anyway',\n",
              " 'Apples',\n",
              " 'Aramaic',\n",
              " 'Are',\n",
              " 'Arimathea',\n",
              " 'Armaments',\n",
              " 'Arthur',\n",
              " 'As',\n",
              " 'Ask',\n",
              " 'Assyria',\n",
              " 'At',\n",
              " 'Attila',\n",
              " 'Augh',\n",
              " 'Autumn',\n",
              " 'Auuuuuuuugh',\n",
              " 'Away',\n",
              " 'Ay',\n",
              " 'Ayy',\n",
              " 'B',\n",
              " 'Back',\n",
              " 'Bad',\n",
              " 'Badon',\n",
              " 'Battle',\n",
              " 'Be',\n",
              " 'Beast',\n",
              " 'Bedevere',\n",
              " 'Bedwere',\n",
              " 'Behold',\n",
              " 'Between',\n",
              " 'Beyond',\n",
              " 'Black',\n",
              " 'Bloody',\n",
              " 'Blue',\n",
              " 'Bon',\n",
              " 'Bones',\n",
              " 'Book',\n",
              " 'Bors',\n",
              " 'Brave',\n",
              " 'Bravely',\n",
              " 'Bravest',\n",
              " 'Bread',\n",
              " 'Bridge',\n",
              " 'Bring',\n",
              " 'Bristol',\n",
              " 'Britain',\n",
              " 'Britons',\n",
              " 'Brother',\n",
              " 'Build',\n",
              " 'Burn',\n",
              " 'But',\n",
              " 'By',\n",
              " 'C',\n",
              " 'Caerbannog',\n",
              " 'Camaaaaaargue',\n",
              " 'Camelot',\n",
              " 'Castle',\n",
              " 'Chapter',\n",
              " 'Charge',\n",
              " 'Chaste',\n",
              " 'Cherries',\n",
              " 'Chicken',\n",
              " 'Chickennn',\n",
              " 'Chop',\n",
              " 'Christ',\n",
              " 'Churches',\n",
              " 'Cider',\n",
              " 'Clark',\n",
              " 'Clear',\n",
              " 'Come',\n",
              " 'Concorde',\n",
              " 'Consult',\n",
              " 'Cornwall',\n",
              " 'Could',\n",
              " 'Course',\n",
              " 'Court',\n",
              " 'Crapper',\n",
              " 'Cut',\n",
              " 'Dappy',\n",
              " 'Death',\n",
              " 'Defeat',\n",
              " 'Dennis',\n",
              " 'Did',\n",
              " 'Didn',\n",
              " 'Dingo',\n",
              " 'Dis',\n",
              " 'Divine',\n",
              " 'Do',\n",
              " 'Doctor',\n",
              " 'Does',\n",
              " 'Don',\n",
              " 'Dragon',\n",
              " 'Dramatically',\n",
              " 'Ecky',\n",
              " 'Ector',\n",
              " 'Eee',\n",
              " 'Eh',\n",
              " 'Enchanter',\n",
              " 'England',\n",
              " 'English',\n",
              " 'Erbert',\n",
              " 'Ere',\n",
              " 'Erm',\n",
              " 'Eternal',\n",
              " 'European',\n",
              " 'Even',\n",
              " 'Every',\n",
              " 'Everything',\n",
              " 'Ewing',\n",
              " 'Exactly',\n",
              " 'Excalibur',\n",
              " 'Excuse',\n",
              " 'Explain',\n",
              " 'Far',\n",
              " 'Farewell',\n",
              " 'Father',\n",
              " 'Fetchez',\n",
              " 'Fiends',\n",
              " 'Fine',\n",
              " 'First',\n",
              " 'Firstly',\n",
              " 'Five',\n",
              " 'Follow',\n",
              " 'For',\n",
              " 'Forgive',\n",
              " 'Forward',\n",
              " 'Found',\n",
              " 'Four',\n",
              " 'France',\n",
              " 'Frank',\n",
              " 'French',\n",
              " 'Gable',\n",
              " 'Galahad',\n",
              " 'Gallahad',\n",
              " 'Gawain',\n",
              " 'Get',\n",
              " 'Go',\n",
              " 'God',\n",
              " 'Good',\n",
              " 'Gorge',\n",
              " 'Grail',\n",
              " 'Great',\n",
              " 'Greetings',\n",
              " 'Grenade',\n",
              " 'Guards',\n",
              " 'Guy',\n",
              " 'Ha',\n",
              " 'Hah',\n",
              " 'Hallo',\n",
              " 'Halt',\n",
              " 'Hand',\n",
              " 'Hang',\n",
              " 'Have',\n",
              " 'Haw',\n",
              " 'He',\n",
              " 'Hee',\n",
              " 'Heee',\n",
              " 'Heh',\n",
              " 'Hello',\n",
              " 'Help',\n",
              " 'Herbert',\n",
              " 'Here',\n",
              " 'Hey',\n",
              " 'Hic',\n",
              " 'Hill',\n",
              " 'Himself',\n",
              " 'His',\n",
              " 'Hiyaah',\n",
              " 'Hiyah',\n",
              " 'Hiyya',\n",
              " 'Hm',\n",
              " 'Hmm',\n",
              " 'Ho',\n",
              " 'Hoa',\n",
              " 'Hold',\n",
              " 'Holy',\n",
              " 'Honestly',\n",
              " 'Hoo',\n",
              " 'Hooray',\n",
              " 'How',\n",
              " 'Huh',\n",
              " 'Hurry',\n",
              " 'Huy',\n",
              " 'Huyah',\n",
              " 'Hya',\n",
              " 'Hyy',\n",
              " 'I',\n",
              " 'Idiom',\n",
              " 'Iesu',\n",
              " 'If',\n",
              " 'Iiiiives',\n",
              " 'Iiiives',\n",
              " 'In',\n",
              " 'Is',\n",
              " 'Isn',\n",
              " 'It',\n",
              " 'Ives',\n",
              " 'Jesus',\n",
              " 'Joseph',\n",
              " 'Just',\n",
              " 'Keep',\n",
              " 'King',\n",
              " 'Knight',\n",
              " 'Knights',\n",
              " 'Lady',\n",
              " 'Lake',\n",
              " 'Lancelot',\n",
              " 'Launcelot',\n",
              " 'Lead',\n",
              " 'Leaving',\n",
              " 'Let',\n",
              " 'Lie',\n",
              " 'Like',\n",
              " 'Listen',\n",
              " 'Loimbard',\n",
              " 'Look',\n",
              " 'Looks',\n",
              " 'Lord',\n",
              " 'Lucky',\n",
              " 'Make',\n",
              " 'Man',\n",
              " 'May',\n",
              " 'Maynard',\n",
              " 'Meanwhile',\n",
              " 'Mercea',\n",
              " 'Message',\n",
              " 'Midget',\n",
              " 'Mind',\n",
              " 'Mine',\n",
              " 'Mmm',\n",
              " 'Monsieur',\n",
              " 'More',\n",
              " 'Morning',\n",
              " 'Most',\n",
              " 'Mother',\n",
              " 'Mud',\n",
              " 'Must',\n",
              " 'My',\n",
              " 'N',\n",
              " 'Nador',\n",
              " 'Nay',\n",
              " 'Neee',\n",
              " 'Never',\n",
              " 'Ni',\n",
              " 'Nine',\n",
              " 'Ninepence',\n",
              " 'No',\n",
              " 'None',\n",
              " 'Not',\n",
              " 'Nothing',\n",
              " 'Now',\n",
              " 'Nu',\n",
              " 'O',\n",
              " 'Of',\n",
              " 'Off',\n",
              " 'Oh',\n",
              " 'Ohh',\n",
              " 'Old',\n",
              " 'Olfin',\n",
              " 'On',\n",
              " 'Once',\n",
              " 'One',\n",
              " 'Ooh',\n",
              " 'Oooh',\n",
              " 'Oooo',\n",
              " 'Oooohoohohooo',\n",
              " 'Oooooooh',\n",
              " 'Open',\n",
              " 'Or',\n",
              " 'Order',\n",
              " 'Other',\n",
              " 'Oui',\n",
              " 'Our',\n",
              " 'Over',\n",
              " 'Ow',\n",
              " 'Packing',\n",
              " 'Patsy',\n",
              " 'Pendragon',\n",
              " 'Peng',\n",
              " 'Perhaps',\n",
              " 'Peril',\n",
              " 'Picture',\n",
              " 'Pie',\n",
              " 'Piglet',\n",
              " 'Pin',\n",
              " 'Please',\n",
              " 'Practice',\n",
              " 'Prepare',\n",
              " 'Prince',\n",
              " 'Princess',\n",
              " 'Providence',\n",
              " 'Psalms',\n",
              " 'Pull',\n",
              " 'Pure',\n",
              " 'Put',\n",
              " 'Quick',\n",
              " 'Quickly',\n",
              " 'Quiet',\n",
              " 'Quite',\n",
              " 'Quoi',\n",
              " 'Rather',\n",
              " 'Really',\n",
              " 'Recently',\n",
              " 'Remove',\n",
              " 'Rheged',\n",
              " 'Ridden',\n",
              " 'Right',\n",
              " 'Riiight',\n",
              " 'Robin',\n",
              " 'Robinson',\n",
              " 'Roger',\n",
              " 'Round',\n",
              " 'Run',\n",
              " 'Running',\n",
              " 'S',\n",
              " 'Said',\n",
              " 'Saint',\n",
              " 'Saxons',\n",
              " 'Say',\n",
              " 'Schools',\n",
              " 'See',\n",
              " 'Seek',\n",
              " 'Shall',\n",
              " 'She',\n",
              " 'Shh',\n",
              " 'Shrubber',\n",
              " 'Shrubberies',\n",
              " 'Shut',\n",
              " 'Silence',\n",
              " 'Silly',\n",
              " 'Since',\n",
              " 'Sir',\n",
              " 'Skip',\n",
              " 'So',\n",
              " 'Sorry',\n",
              " 'Speak',\n",
              " 'Splendid',\n",
              " 'Spring',\n",
              " 'Stand',\n",
              " 'Stay',\n",
              " 'Steady',\n",
              " 'Stop',\n",
              " 'Summer',\n",
              " 'Supposing',\n",
              " 'Supreme',\n",
              " 'Surely',\n",
              " 'Swamp',\n",
              " 'Table',\n",
              " 'Tale',\n",
              " 'Tall',\n",
              " 'Tell',\n",
              " 'Thank',\n",
              " 'That',\n",
              " 'The',\n",
              " 'Thee',\n",
              " 'Then',\n",
              " 'There',\n",
              " 'Therefore',\n",
              " 'They',\n",
              " 'This',\n",
              " 'Those',\n",
              " 'Thou',\n",
              " 'Thpppppt',\n",
              " 'Thppppt',\n",
              " 'Thpppt',\n",
              " 'Thppt',\n",
              " 'Three',\n",
              " 'Throw',\n",
              " 'Thsss',\n",
              " 'Thursday',\n",
              " 'Thy',\n",
              " 'Til',\n",
              " 'Tim',\n",
              " 'Tis',\n",
              " 'To',\n",
              " 'Today',\n",
              " 'Together',\n",
              " 'Too',\n",
              " 'Torment',\n",
              " 'Tower',\n",
              " 'True',\n",
              " 'Try',\n",
              " 'Twenty',\n",
              " 'Two',\n",
              " 'U',\n",
              " 'Uh',\n",
              " 'Uhh',\n",
              " 'Ulk',\n",
              " 'Um',\n",
              " 'Umhm',\n",
              " 'Umm',\n",
              " 'Un',\n",
              " 'Unfortunately',\n",
              " 'Until',\n",
              " 'Use',\n",
              " 'Uther',\n",
              " 'Uugh',\n",
              " 'Uuh',\n",
              " 'Very',\n",
              " 'Victory',\n",
              " 'W',\n",
              " 'Waa',\n",
              " 'Wait',\n",
              " 'Walk',\n",
              " 'Wayy',\n",
              " 'We',\n",
              " 'Welcome',\n",
              " 'Well',\n",
              " 'What',\n",
              " 'When',\n",
              " 'Where',\n",
              " 'Which',\n",
              " 'Who',\n",
              " 'Whoa',\n",
              " 'Why',\n",
              " 'Will',\n",
              " 'Winston',\n",
              " 'Winter',\n",
              " 'With',\n",
              " 'Woa',\n",
              " 'Wood',\n",
              " 'Would',\n",
              " 'Y',\n",
              " 'Yapping',\n",
              " 'Yay',\n",
              " 'Yeaaah',\n",
              " 'Yeaah',\n",
              " 'Yeah',\n",
              " 'Yes',\n",
              " 'You',\n",
              " 'Your',\n",
              " 'Yup',\n",
              " 'Zoot']"
            ]
          },
          "metadata": {},
          "execution_count": 84
        }
      ]
    },
    {
      "cell_type": "code",
      "metadata": {
        "id": "iPF9FgxpBFYH",
        "outputId": "e0598d08-f712-43b8-b88f-284085073618",
        "colab": {
          "base_uri": "https://localhost:8080/"
        }
      },
      "source": [
        "sorted(item for item in set(sent7) if item.isdigit())"
      ],
      "execution_count": null,
      "outputs": [
        {
          "output_type": "execute_result",
          "data": {
            "text/plain": [
              "['29', '61']"
            ]
          },
          "metadata": {},
          "execution_count": 85
        }
      ]
    },
    {
      "cell_type": "markdown",
      "metadata": {
        "id": "VqQtwBx2BFYK"
      },
      "source": [
        "También podemos crear condiciones más complejas. Si c es una condición, entonces no c también es una condición. Si tenemos dos condiciones c1 y c2, entonces podemos combinarlas para formar una nueva condición usando la conjunción y la disyunción: c1 y c2, c1 o c2."
      ]
    },
    {
      "cell_type": "code",
      "metadata": {
        "id": "izqPjJcOBFYM",
        "outputId": "f93c8094-d21b-46ab-c913-e52a3ad35397",
        "colab": {
          "base_uri": "https://localhost:8080/"
        }
      },
      "source": [
        "sorted(w for w in set(text7) if '-' in w and 'index' in w)"
      ],
      "execution_count": null,
      "outputs": [
        {
          "output_type": "execute_result",
          "data": {
            "text/plain": [
              "['Stock-index',\n",
              " 'index-arbitrage',\n",
              " 'index-fund',\n",
              " 'index-options',\n",
              " 'index-related',\n",
              " 'stock-index']"
            ]
          },
          "metadata": {},
          "execution_count": 86
        }
      ]
    },
    {
      "cell_type": "code",
      "metadata": {
        "scrolled": true,
        "id": "R0nl2OLJBFYO",
        "outputId": "0e14a3c7-c63b-4fb7-bcd6-4ae2f5b21b46",
        "colab": {
          "base_uri": "https://localhost:8080/"
        }
      },
      "source": [
        "sorted(wd for wd in set(text3) if wd.istitle() and len(wd) > 10)"
      ],
      "execution_count": null,
      "outputs": [
        {
          "output_type": "execute_result",
          "data": {
            "text/plain": [
              "['Abelmizraim',\n",
              " 'Allonbachuth',\n",
              " 'Beerlahairoi',\n",
              " 'Canaanitish',\n",
              " 'Chedorlaomer',\n",
              " 'Girgashites',\n",
              " 'Hazarmaveth',\n",
              " 'Hazezontamar',\n",
              " 'Ishmeelites',\n",
              " 'Jegarsahadutha',\n",
              " 'Jehovahjireh',\n",
              " 'Kirjatharba',\n",
              " 'Melchizedek',\n",
              " 'Mesopotamia',\n",
              " 'Peradventure',\n",
              " 'Philistines',\n",
              " 'Zaphnathpaaneah']"
            ]
          },
          "metadata": {},
          "execution_count": 87
        }
      ]
    },
    {
      "cell_type": "code",
      "metadata": {
        "id": "VIQ5nkt6BFYQ",
        "outputId": "119a250d-92d1-4702-cbeb-c00e913b4eff",
        "colab": {
          "base_uri": "https://localhost:8080/"
        }
      },
      "source": [
        "sorted(w for w in set(sent7) if not w.islower())"
      ],
      "execution_count": null,
      "outputs": [
        {
          "output_type": "execute_result",
          "data": {
            "text/plain": [
              "[',', '.', '29', '61', 'Nov.', 'Pierre', 'Vinken']"
            ]
          },
          "metadata": {},
          "execution_count": 88
        }
      ]
    },
    {
      "cell_type": "code",
      "metadata": {
        "id": "HPYwK8RZBFYT",
        "outputId": "d36cdebc-bdfd-4177-9259-f109fed0a70b",
        "colab": {
          "base_uri": "https://localhost:8080/"
        }
      },
      "source": [
        "sorted(t for t in set(text2) if 'cie' in t or 'cei' in t)"
      ],
      "execution_count": null,
      "outputs": [
        {
          "output_type": "execute_result",
          "data": {
            "text/plain": [
              "['ancient',\n",
              " 'ceiling',\n",
              " 'conceit',\n",
              " 'conceited',\n",
              " 'conceive',\n",
              " 'conscience',\n",
              " 'conscientious',\n",
              " 'conscientiously',\n",
              " 'deceitful',\n",
              " 'deceive',\n",
              " 'deceived',\n",
              " 'deceiving',\n",
              " 'deficiencies',\n",
              " 'deficiency',\n",
              " 'deficient',\n",
              " 'delicacies',\n",
              " 'excellencies',\n",
              " 'fancied',\n",
              " 'insufficiency',\n",
              " 'insufficient',\n",
              " 'legacies',\n",
              " 'perceive',\n",
              " 'perceived',\n",
              " 'perceiving',\n",
              " 'prescience',\n",
              " 'prophecies',\n",
              " 'receipt',\n",
              " 'receive',\n",
              " 'received',\n",
              " 'receiving',\n",
              " 'society',\n",
              " 'species',\n",
              " 'sufficient',\n",
              " 'sufficiently',\n",
              " 'undeceive',\n",
              " 'undeceiving']"
            ]
          },
          "metadata": {},
          "execution_count": 89
        }
      ]
    },
    {
      "cell_type": "code",
      "metadata": {
        "id": "chyGSkYGBFYY"
      },
      "source": [],
      "execution_count": null,
      "outputs": []
    }
  ]
}