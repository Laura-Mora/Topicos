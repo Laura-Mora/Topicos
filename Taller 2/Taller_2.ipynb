{
  "nbformat": 4,
  "nbformat_minor": 0,
  "metadata": {
    "colab": {
      "provenance": []
    },
    "kernelspec": {
      "name": "python3",
      "display_name": "Python 3"
    },
    "language_info": {
      "name": "python"
    }
  },
  "cells": [
    {
      "cell_type": "code",
      "execution_count": null,
      "metadata": {
        "colab": {
          "base_uri": "https://localhost:8080/"
        },
        "id": "Xn8oLVwVxyLD",
        "outputId": "0b0c2811-50ef-4196-e56f-fed0aa9c878b"
      },
      "outputs": [
        {
          "output_type": "execute_result",
          "data": {
            "text/plain": [
              "True"
            ]
          },
          "metadata": {},
          "execution_count": 10
        }
      ],
      "source": [
        "import nltk\n",
        "nltk.download('all', quiet=True)"
      ]
    },
    {
      "cell_type": "code",
      "source": [
        "from nltk.corpus import PlaintextCorpusReader"
      ],
      "metadata": {
        "id": "IQ1aY0EUy6zv"
      },
      "execution_count": null,
      "outputs": []
    },
    {
      "cell_type": "code",
      "source": [
        "corpus_root = \"/content\"\n",
        "corpus_esp = PlaintextCorpusReader(corpus_root, \".*\")"
      ],
      "metadata": {
        "id": "LqFg-txnyu97"
      },
      "execution_count": null,
      "outputs": []
    },
    {
      "cell_type": "code",
      "source": [
        "corpus_esp.fileids()"
      ],
      "metadata": {
        "colab": {
          "base_uri": "https://localhost:8080/"
        },
        "id": "cpnK5DC6y5kG",
        "outputId": "115f8480-98a9-48fb-df6b-146fd0fb1a96"
      },
      "execution_count": null,
      "outputs": [
        {
          "output_type": "execute_result",
          "data": {
            "text/plain": [
              "['.config/.last_opt_in_prompt.yaml',\n",
              " '.config/.last_survey_prompt.yaml',\n",
              " '.config/.last_update_check.json',\n",
              " '.config/active_config',\n",
              " '.config/config_sentinel',\n",
              " '.config/configurations/config_default',\n",
              " '.config/gce',\n",
              " '.config/logs/2022.08.31/13.46.22.077074.log',\n",
              " '.config/logs/2022.08.31/13.46.43.989608.log',\n",
              " '.config/logs/2022.08.31/13.47.03.944288.log',\n",
              " '.config/logs/2022.08.31/13.47.11.927057.log',\n",
              " '.config/logs/2022.08.31/13.47.32.611835.log',\n",
              " '.config/logs/2022.08.31/13.47.33.413502.log',\n",
              " 'candido-de-voltaire.txt',\n",
              " 'corpora.rar',\n",
              " 'cuentos_allan_poe.txt',\n",
              " 'el-buscon.txt',\n",
              " 'elquijote.txt',\n",
              " 'fabulas_samaniego.txt',\n",
              " 'juan_tenorio.txt',\n",
              " 'libro_cocina.txt',\n",
              " 'milyuna_t1.txt',\n",
              " 'nuevo_testamento_valera.txt',\n",
              " 'obras-escogidas_becquer.txt',\n",
              " 'relacionhistoricasucesosdetupacamaru.txt',\n",
              " 'sample_data/README.md',\n",
              " 'sample_data/anscombe.json',\n",
              " 'sample_data/california_housing_test.csv',\n",
              " 'sample_data/california_housing_train.csv',\n",
              " 'sample_data/mnist_test.csv',\n",
              " 'sample_data/mnist_train_small.csv',\n",
              " 'tradiciones_peruanas_ricardo_palma.txt']"
            ]
          },
          "metadata": {},
          "execution_count": 265
        }
      ]
    },
    {
      "cell_type": "code",
      "source": [
        "book = corpus_esp.words(\"cuentos_allan_poe_esp.txt\")"
      ],
      "metadata": {
        "id": "UtiwBM8z0rdZ"
      },
      "execution_count": null,
      "outputs": []
    },
    {
      "cell_type": "code",
      "source": [
        "#book = book[1497:65429]"
      ],
      "metadata": {
        "id": "z4QOLOK24BQN"
      },
      "execution_count": null,
      "outputs": []
    },
    {
      "cell_type": "code",
      "source": [
        "book"
      ],
      "metadata": {
        "colab": {
          "base_uri": "https://localhost:8080/"
        },
        "id": "8D5Q2flc4E2W",
        "outputId": "3e37df51-6513-4832-a8b2-2efb7521d27b"
      },
      "execution_count": null,
      "outputs": [
        {
          "output_type": "execute_result",
          "data": {
            "text/plain": [
              "['SUMARIO', 'PÁGINA', 'INTRODUCCIÓN', 'V', 'EL', ...]"
            ]
          },
          "metadata": {},
          "execution_count": 269
        }
      ]
    },
    {
      "cell_type": "markdown",
      "source": [
        "## Pregunta 1"
      ],
      "metadata": {
        "id": "pGerERoa05p2"
      }
    },
    {
      "cell_type": "code",
      "source": [
        "from nltk.corpus import stopwords"
      ],
      "metadata": {
        "id": "KIeT9VFozum8"
      },
      "execution_count": null,
      "outputs": []
    },
    {
      "cell_type": "code",
      "source": [
        "sw = stopwords.words('spanish') \n",
        "sw.extend([\"i\", \"l\", \"ugh\", \"crd\", \"cr\", \"eh\", \"sino\", \"tan\", \"si\", \"vos\"])"
      ],
      "metadata": {
        "id": "ulpv9O8Y6LrF"
      },
      "execution_count": null,
      "outputs": []
    },
    {
      "cell_type": "code",
      "source": [
        "book_no_sw = [w.lower() for w in book if w.lower() not in sw and w.lower().isalpha()]"
      ],
      "metadata": {
        "id": "WAqUf-t_7g3M"
      },
      "execution_count": null,
      "outputs": []
    },
    {
      "cell_type": "code",
      "source": [
        "freq_words = nltk.FreqDist(w.lower() for w in book_no_sw) \n",
        "print(freq_words.most_common(50))"
      ],
      "metadata": {
        "colab": {
          "base_uri": "https://localhost:8080/"
        },
        "id": "F3hxvmMzzGyn",
        "outputId": "daff18c6-4e8d-4321-bc8c-3ee38183b085"
      },
      "execution_count": null,
      "outputs": [
        {
          "output_type": "stream",
          "name": "stdout",
          "text": [
            "[('vez', 98), ('gran', 97), ('entonces', 90), ('bien', 87), ('tiempo', 84), ('casa', 80), ('mismo', 79), ('así', 77), ('ahora', 74), ('embargo', 73), ('voz', 73), ('momento', 73), ('manera', 70), ('podía', 69), ('sido', 68), ('dos', 67), ('después', 66), ('forma', 66), ('ojos', 66), ('aun', 64), ('verdad', 64), ('parte', 63), ('júpiter', 63), ('menos', 61), ('aquella', 60), ('punto', 59), ('aquel', 57), ('alguna', 57), ('palabras', 57), ('sólo', 55), ('tal', 54), ('mayor', 53), ('todas', 53), ('fué', 51), ('casi', 51), ('mientras', 51), ('toda', 49), ('hacia', 49), ('nuevo', 48), ('ser', 48), ('medio', 47), ('jamás', 46), ('allí', 46), ('luego', 46), ('razón', 45), ('mas', 45), ('legrand', 45), ('tres', 44), ('haber', 44), ('fin', 43)]\n"
          ]
        }
      ]
    },
    {
      "cell_type": "code",
      "source": [
        "import matplotlib.pyplot as plt\n",
        "fig = plt.figure(figsize = (20, 7))\n",
        "fdist.plot(100)"
      ],
      "metadata": {
        "colab": {
          "base_uri": "https://localhost:8080/",
          "height": 533
        },
        "id": "T6ZFkv1yMcO6",
        "outputId": "71e1a427-5f66-4d75-f66c-d5cd82abd3de"
      },
      "execution_count": null,
      "outputs": [
        {
          "output_type": "display_data",
          "data": {
            "text/plain": [
              "<Figure size 1440x504 with 1 Axes>"
            ],
            "image/png": "[encoded data removed]"
          },
          "metadata": {
            "needs_background": "light"
          }
        },
        {
          "output_type": "execute_result",
          "data": {
            "text/plain": [
              "<matplotlib.axes._subplots.AxesSubplot at 0x7fd09b318850>"
            ]
          },
          "metadata": {},
          "execution_count": 275
        }
      ]
    },
    {
      "cell_type": "markdown",
      "source": [
        "## Pregunta 2"
      ],
      "metadata": {
        "id": "zv1CfK9Q7QmO"
      }
    },
    {
      "cell_type": "code",
      "source": [
        "bigrams = nltk.FreqDist(nltk.bigrams(book_no_sw))\n",
        "print(bigrams.most_common(50))"
      ],
      "metadata": {
        "colab": {
          "base_uri": "https://localhost:8080/"
        },
        "id": "5syPzfMJ8p2g",
        "outputId": "531e3b3b-75f8-4742-d05d-703588addbde"
      },
      "execution_count": null,
      "outputs": [
        {
          "output_type": "stream",
          "name": "stdout",
          "text": [
            "[(('aquel', 'momento'), 20), (('largo', 'tiempo'), 12), (('voz', 'chillona'), 12), (('madame', 'espanaye'), 11), (('rue', 'morgue'), 10), (('mismo', 'tiempo'), 10), (('móskoe', 'ström'), 10), (('mayor', 'parte'), 9), (('alguna', 'vez'), 9), (('ojo', 'izquierdo'), 9), (('gran', 'parte'), 9), (('haber', 'sido'), 9), (('mademoiselle', 'espanaye'), 9), (('rara', 'vez'), 8), (('todas', 'partes'), 8), (('primera', 'vez'), 8), (('amo', 'will'), 8), (('dijo', 'dupín'), 8), (('casa', 'úsher'), 7), (('muerte', 'roja'), 7), (('decir', 'verdad'), 7), (('ninguna', 'clase'), 7), (('acá', 'allá'), 7), (('cuarto', 'piso'), 7), (('pudo', 'distinguir'), 7), (('voz', 'gruesa'), 7), (('cierto', 'modo'), 6), (('tal', 'vez'), 6), (('sabía', 'bien'), 6), (('todas', 'direcciones'), 6), (('podía', 'ser'), 6), (('ahora', 'bien'), 6), (('izquierdo', 'calavera'), 6), (('tres', 'cuatro'), 6), (('cincuenta', 'pies'), 6), (('debe', 'haber'), 6), (('hotel', 'obispo'), 6), (('arriba', 'abajo'), 6), (('lady', 'mádeline'), 6), (('príncipe', 'próspero'), 6), (('gran', 'distancia'), 6), (('todas', 'cosas'), 5), (('cuatro', 'pies'), 5), (('apenas', 'perceptible'), 5), (('jamás', 'visto'), 5), (('ojo', 'isquierdo'), 5), (('aquella', 'dirección'), 5), (('pies', 'medio'), 5), (('primer', 'momento'), 5), (('sola', 'palabra'), 5)]\n"
          ]
        }
      ]
    },
    {
      "cell_type": "markdown",
      "source": [
        "## Pregunta 3"
      ],
      "metadata": {
        "id": "ieaW4Ajd9jpf"
      }
    },
    {
      "cell_type": "code",
      "source": [
        "def search_words(word_list):\n",
        "  fdist = nltk.FreqDist(w.lower() for w in book_no_sw)\n",
        "  for i in word_list:\n",
        "    print(i + ':', fdist[i])"
      ],
      "metadata": {
        "id": "HzWMfaq4Qw9o"
      },
      "execution_count": null,
      "outputs": []
    },
    {
      "cell_type": "code",
      "source": [
        "terror_words = ['terror', 'oscuridad', 'muerte', 'sangre', 'dolor']\n",
        "love_words = ['felicidad', 'emoción', 'amor', 'pareja', 'cariño']"
      ],
      "metadata": {
        "id": "aom9cnAnQ_Qn"
      },
      "execution_count": null,
      "outputs": []
    },
    {
      "cell_type": "code",
      "source": [
        "search_words(terror_words)"
      ],
      "metadata": {
        "colab": {
          "base_uri": "https://localhost:8080/"
        },
        "id": "jV_KjAIfRVzF",
        "outputId": "c80c6846-a101-4dd6-ccb1-2b8436497042"
      },
      "execution_count": null,
      "outputs": [
        {
          "output_type": "stream",
          "name": "stdout",
          "text": [
            "terror: 26\n",
            "oscuridad: 0\n",
            "muerte: 35\n",
            "sangre: 15\n",
            "dolor: 5\n"
          ]
        }
      ]
    },
    {
      "cell_type": "code",
      "source": [
        "search_words(love_words)"
      ],
      "metadata": {
        "colab": {
          "base_uri": "https://localhost:8080/"
        },
        "id": "LPnbLmukRXnG",
        "outputId": "6be9163d-9e44-4218-f1a9-500dc3079a7e"
      },
      "execution_count": null,
      "outputs": [
        {
          "output_type": "stream",
          "name": "stdout",
          "text": [
            "felicidad: 2\n",
            "emoción: 8\n",
            "amor: 8\n",
            "pareja: 0\n",
            "cariño: 1\n"
          ]
        }
      ]
    },
    {
      "cell_type": "markdown",
      "source": [
        "## Pregunta 4"
      ],
      "metadata": {
        "id": "MtQBdH6q9v15"
      }
    },
    {
      "cell_type": "code",
      "source": [
        "from nltk.tokenize import *"
      ],
      "metadata": {
        "id": "QZ4bPnFsPvjq"
      },
      "execution_count": null,
      "outputs": []
    },
    {
      "cell_type": "code",
      "source": [
        "wsp = WhitespaceTokenizer()"
      ],
      "metadata": {
        "id": "6IuQ_-A-PzKr"
      },
      "execution_count": null,
      "outputs": []
    },
    {
      "cell_type": "code",
      "source": [
        "def find_language(word: str):\n",
        "  languages = [l for l in nltk.corpus.udhr.fileids() if \"Latin1\" in l]\n",
        "  words =  wsp.tokenize(word.lower())\n",
        "  p_languages = []\n",
        "  for lg in languages:\n",
        "    for w in words:\n",
        "      if w in nltk.corpus.udhr.words(lg):\n",
        "        p_languages.append(lg)\n",
        "  return p_languages"
      ],
      "metadata": {
        "id": "NWeIa5vZ94ak"
      },
      "execution_count": null,
      "outputs": []
    },
    {
      "cell_type": "code",
      "source": [
        "find_language(\"Human\")"
      ],
      "metadata": {
        "colab": {
          "base_uri": "https://localhost:8080/"
        },
        "id": "jTbTCPIS_KrE",
        "outputId": "001b546b-a253-42e6-baaf-898ea75a769d"
      },
      "execution_count": null,
      "outputs": [
        {
          "output_type": "execute_result",
          "data": {
            "text/plain": [
              "['English-Latin1',\n",
              " 'Interlingua-Latin1',\n",
              " 'NigerianPidginEnglish-Latin1',\n",
              " 'SolomonsPidgin_Pijin-Latin1',\n",
              " 'TokPisin-Latin1']"
            ]
          },
          "metadata": {},
          "execution_count": 257
        }
      ]
    },
    {
      "cell_type": "code",
      "source": [
        "find_language(\"la sabiduría popular enseña\")"
      ],
      "metadata": {
        "colab": {
          "base_uri": "https://localhost:8080/"
        },
        "id": "jHybPR9pO1Bk",
        "outputId": "9f36f302-738f-4b05-a3f9-467ca20ab865"
      },
      "execution_count": null,
      "outputs": [
        {
          "output_type": "execute_result",
          "data": {
            "text/plain": [
              "['Ashaninca-Latin1',\n",
              " 'Asturian_Bable-Latin1',\n",
              " 'Catalan-Latin1',\n",
              " 'Catalan_Catala-Latin1',\n",
              " 'Chamorro-Latin1',\n",
              " 'Chechewa_Nyanja-Latin1',\n",
              " 'Chinanteco-Ajitlan-Latin1',\n",
              " 'Corsican-Latin1',\n",
              " 'Edo-Latin1',\n",
              " 'French_Francais-Latin1',\n",
              " 'Friulian_Friulano-Latin1',\n",
              " 'HaitianCreole_Kreyol-Latin1',\n",
              " 'HaitianCreole_Popular-Latin1',\n",
              " 'Ido-Latin1',\n",
              " 'Italian-Latin1',\n",
              " 'Italian_Italiano-Latin1',\n",
              " 'Kapampangan-Latin1',\n",
              " 'Kiche_Quiche-Latin1',\n",
              " 'Kinyamwezi_Nyamwezi-Latin1',\n",
              " 'Lozi-Latin1',\n",
              " 'Makonde-Latin1',\n",
              " 'Miskito_Miskito-Latin1',\n",
              " 'NorthernSotho_Pedi-Sepedi-Latin1',\n",
              " 'Nyanja_Chechewa-Latin1',\n",
              " 'Nyanja_Chinyanja-Latin1',\n",
              " 'OccitanAuvergnat-Latin1',\n",
              " 'OccitanLanguedocien-Latin1',\n",
              " 'Otomi_Nahnu-Latin1',\n",
              " 'Paez-Latin1',\n",
              " 'Picard-Latin1',\n",
              " 'Qechi_Kekchi-Latin1',\n",
              " 'Rhaeto-Romance_Rumantsch-Latin1',\n",
              " 'Romani-Latin1',\n",
              " 'Sammarinese-Latin1',\n",
              " 'Samoan-Latin1',\n",
              " 'Somali-Latin1',\n",
              " 'SouthernSotho_Sotho-Sesotho-Sutu-Sesutu-Latin1',\n",
              " 'Spanish-Latin1',\n",
              " 'Spanish_Espanol-Latin1',\n",
              " 'Swaheli-Latin1',\n",
              " 'Swahili_Kiswahili-Latin1',\n",
              " 'Tetum-Latin1',\n",
              " 'Tiv-Latin1',\n",
              " 'Tojol-abal-Latin1',\n",
              " 'TokPisin-Latin1',\n",
              " 'Totonaco-Latin1',\n",
              " 'Tzeltal-Latin1',\n",
              " 'Tzotzil-Latin1',\n",
              " 'Uzbek-Latin1',\n",
              " 'Vlach-Latin1',\n",
              " 'Walloon_Wallon-Latin1',\n",
              " 'Waray-Latin1',\n",
              " 'WesternSotho_Tswana-Setswana-Latin1',\n",
              " 'Wolof-Latin1',\n",
              " 'Xhosa-Latin1',\n",
              " 'Zapoteco-SanLucasQuiavini-Latin1']"
            ]
          },
          "metadata": {},
          "execution_count": 254
        }
      ]
    },
    {
      "cell_type": "code",
      "source": [
        "find_language(\"derecho\")"
      ],
      "metadata": {
        "colab": {
          "base_uri": "https://localhost:8080/"
        },
        "id": "KeROoiE4-BuR",
        "outputId": "40b27105-d505-43da-fa02-776699436d34"
      },
      "execution_count": null,
      "outputs": [
        {
          "output_type": "execute_result",
          "data": {
            "text/plain": [
              "['Amahuaca-Latin1',\n",
              " 'Bikol_Bicolano-Latin1',\n",
              " 'Chamorro-Latin1',\n",
              " 'Chinanteco-Ajitlan-Latin1',\n",
              " 'Guarani-Latin1',\n",
              " 'Spanish-Latin1',\n",
              " 'Spanish_Espanol-Latin1',\n",
              " 'Tzotzil-Latin1']"
            ]
          },
          "metadata": {},
          "execution_count": 258
        }
      ]
    },
    {
      "cell_type": "code",
      "source": [
        "find_language(\"right\")"
      ],
      "metadata": {
        "colab": {
          "base_uri": "https://localhost:8080/"
        },
        "id": "i9LHfMxhCoyY",
        "outputId": "40659ae5-b7aa-4f62-826e-b8c02687925a"
      },
      "execution_count": null,
      "outputs": [
        {
          "output_type": "execute_result",
          "data": {
            "text/plain": [
              "['English-Latin1', 'NigerianPidginEnglish-Latin1']"
            ]
          },
          "metadata": {},
          "execution_count": 259
        }
      ]
    },
    {
      "cell_type": "markdown",
      "source": [
        "## Pregunta 5"
      ],
      "metadata": {
        "id": "1SgJX2YzCweq"
      }
    },
    {
      "cell_type": "code",
      "source": [
        "from nltk.corpus import wordnet as wn\n",
        "wn.synsets('cat')"
      ],
      "metadata": {
        "colab": {
          "base_uri": "https://localhost:8080/"
        },
        "id": "7eRfEV_wXFDw",
        "outputId": "cfc4b3fd-914a-4dd1-9b98-b1cbb99d4d20"
      },
      "execution_count": null,
      "outputs": [
        {
          "output_type": "execute_result",
          "data": {
            "text/plain": [
              "[Synset('cat.n.01'),\n",
              " Synset('guy.n.01'),\n",
              " Synset('cat.n.03'),\n",
              " Synset('kat.n.01'),\n",
              " Synset('cat-o'-nine-tails.n.01'),\n",
              " Synset('caterpillar.n.02'),\n",
              " Synset('big_cat.n.01'),\n",
              " Synset('computerized_tomography.n.01'),\n",
              " Synset('cat.v.01'),\n",
              " Synset('vomit.v.01')]"
            ]
          },
          "metadata": {},
          "execution_count": 325
        }
      ]
    },
    {
      "cell_type": "code",
      "source": [
        "cat = wn.synset('cat.n.01')"
      ],
      "metadata": {
        "id": "5_dxNfj4XQkh"
      },
      "execution_count": null,
      "outputs": []
    },
    {
      "cell_type": "markdown",
      "source": [
        "### Hipónimos"
      ],
      "metadata": {
        "id": "SIZDveoMYzRE"
      }
    },
    {
      "cell_type": "code",
      "source": [
        "types_of_cat = cat.hyponyms()"
      ],
      "metadata": {
        "colab": {
          "base_uri": "https://localhost:8080/"
        },
        "id": "nx_9K6jBC6BA",
        "outputId": "21e4e59e-3a07-4e01-d2e2-9c345cc946e3"
      },
      "execution_count": null,
      "outputs": [
        {
          "output_type": "execute_result",
          "data": {
            "text/plain": [
              "Synset('wildcat.n.03')"
            ]
          },
          "metadata": {},
          "execution_count": 333
        }
      ]
    },
    {
      "cell_type": "code",
      "source": [
        "types_of_cat"
      ],
      "metadata": {
        "colab": {
          "base_uri": "https://localhost:8080/"
        },
        "id": "nFkr_uphX80l",
        "outputId": "29c7ac77-d320-43a2-fb49-8db44f055cdb"
      },
      "execution_count": null,
      "outputs": [
        {
          "output_type": "execute_result",
          "data": {
            "text/plain": [
              "[Synset('domestic_cat.n.01'), Synset('wildcat.n.03')]"
            ]
          },
          "metadata": {},
          "execution_count": 334
        }
      ]
    },
    {
      "cell_type": "code",
      "source": [
        "sorted(lemma.name() for synset in types_of_cat for lemma in synset.lemmas())"
      ],
      "metadata": {
        "colab": {
          "base_uri": "https://localhost:8080/"
        },
        "id": "vi8F1aKTYCzn",
        "outputId": "281ed60d-eeb6-4e7e-fa3d-838ae0fd0866"
      },
      "execution_count": null,
      "outputs": [
        {
          "output_type": "execute_result",
          "data": {
            "text/plain": [
              "['Felis_catus', 'Felis_domesticus', 'domestic_cat', 'house_cat', 'wildcat']"
            ]
          },
          "metadata": {},
          "execution_count": 335
        }
      ]
    },
    {
      "cell_type": "markdown",
      "source": [
        "### Hiperónimos"
      ],
      "metadata": {
        "id": "5_peNXfqY125"
      }
    },
    {
      "cell_type": "code",
      "source": [
        "cat.hypernyms()\n",
        "paths = cat.hypernym_paths()\n",
        "len(paths)"
      ],
      "metadata": {
        "colab": {
          "base_uri": "https://localhost:8080/"
        },
        "id": "E6qCSuvPYifQ",
        "outputId": "188ab373-eb82-44e5-dbeb-1b2f9060166a"
      },
      "execution_count": null,
      "outputs": [
        {
          "output_type": "execute_result",
          "data": {
            "text/plain": [
              "1"
            ]
          },
          "metadata": {},
          "execution_count": 338
        }
      ]
    },
    {
      "cell_type": "code",
      "source": [
        "[synset.name() for synset in paths[0]]"
      ],
      "metadata": {
        "colab": {
          "base_uri": "https://localhost:8080/"
        },
        "id": "le9dYLhyYvqA",
        "outputId": "aa81ff66-3a08-4f4c-fac0-d72a365d5a30"
      },
      "execution_count": null,
      "outputs": [
        {
          "output_type": "execute_result",
          "data": {
            "text/plain": [
              "['entity.n.01',\n",
              " 'physical_entity.n.01',\n",
              " 'object.n.01',\n",
              " 'whole.n.02',\n",
              " 'living_thing.n.01',\n",
              " 'organism.n.01',\n",
              " 'animal.n.01',\n",
              " 'chordate.n.01',\n",
              " 'vertebrate.n.01',\n",
              " 'mammal.n.01',\n",
              " 'placental.n.01',\n",
              " 'carnivore.n.01',\n",
              " 'feline.n.01',\n",
              " 'cat.n.01']"
            ]
          },
          "metadata": {},
          "execution_count": 339
        }
      ]
    },
    {
      "cell_type": "markdown",
      "source": [
        "## Pregunta 6"
      ],
      "metadata": {
        "id": "RcxbAImYCyne"
      }
    },
    {
      "cell_type": "code",
      "source": [
        "cuentos_raw = corpus_esp.raw(\"cuentos_allan_poe_esp.txt\")\n",
        "parrafos = BlanklineTokenizer().tokenize(cuentos_raw)\n",
        "\n",
        "sentence_count = 0\n",
        "\n",
        "# El texto comienza en el index 45 luego de haber quitado encabezados de introducción y créditos en ingles.\n",
        "for x in range(0,50):\n",
        "    sent_text = nltk.sent_tokenize(parrafos[x]) \n",
        "    sentence_count = sentence_count + len(sent_text)\n",
        " \n",
        "print (\"Número medio de oraciones por párrafo: \", sentence_count / 50)"
      ],
      "metadata": {
        "colab": {
          "base_uri": "https://localhost:8080/"
        },
        "id": "qKcZ9bPBCxeI",
        "outputId": "212821f4-a33e-4907-c155-82d01b914bf0"
      },
      "execution_count": null,
      "outputs": [
        {
          "output_type": "stream",
          "name": "stdout",
          "text": [
            "Número medio de oraciones por párrafo:  3.06\n"
          ]
        }
      ]
    },
    {
      "cell_type": "markdown",
      "source": [
        "## Pregunta 7"
      ],
      "metadata": {
        "id": "LkIb3HuYC0Z9"
      }
    },
    {
      "cell_type": "code",
      "source": [
        "tweet_txt = f'La sabiduria popular enseña.\\n\"Las adulaciones son como los perfumes: logran deleitar, pero no se deben tragar\".'\n",
        "#print(tweet_txt)\n",
        "tb_tokenizer = TreebankWordTokenizer()\n",
        "tb_tokens = tb_tokenizer.tokenize(tweet_txt)\n",
        "tb_tokens = [t for t in tb_tokens if t not in sw]\n",
        "print(tb_tokens)"
      ],
      "metadata": {
        "colab": {
          "base_uri": "https://localhost:8080/"
        },
        "id": "1tbkJsuzC10n",
        "outputId": "a30134e7-f704-4e77-87a8-14412fadadf5"
      },
      "execution_count": null,
      "outputs": [
        {
          "output_type": "stream",
          "name": "stdout",
          "text": [
            "['La', 'sabiduria', 'popular', 'enseña.', \"''\", 'Las', 'adulaciones', 'perfumes', ':', 'logran', 'deleitar', ',', 'deben', 'tragar', \"''\", '.']\n"
          ]
        }
      ]
    },
    {
      "cell_type": "code",
      "source": [
        "ws_tokenizer = WhitespaceTokenizer()\n",
        "ws_tokens = ws_tokenizer.tokenize(tweet_txt)\n",
        "ws_tokens = [t for t in ws_tokens if t not in sw]\n",
        "print(ws_tokens)"
      ],
      "metadata": {
        "colab": {
          "base_uri": "https://localhost:8080/"
        },
        "id": "e7VffeoSSuhF",
        "outputId": "289c4fa2-1fe8-45f9-9784-ff83cd2cc7b5"
      },
      "execution_count": null,
      "outputs": [
        {
          "output_type": "stream",
          "name": "stdout",
          "text": [
            "['La', 'sabiduria', 'popular', 'enseña.', '\"Las', 'adulaciones', 'perfumes:', 'logran', 'deleitar,', 'deben', 'tragar\".']\n"
          ]
        }
      ]
    },
    {
      "cell_type": "code",
      "source": [
        "st_tokenizer = SpaceTokenizer()\n",
        "st_tokens = st_tokenizer.tokenize(tweet_txt)\n",
        "st_tokens = [t for t in st_tokens if t not in sw]\n",
        "print(st_tokens)"
      ],
      "metadata": {
        "colab": {
          "base_uri": "https://localhost:8080/"
        },
        "id": "DZVKyE02Sx6j",
        "outputId": "050ee914-bb3e-4fc8-8fc5-5c0b5b7525e4"
      },
      "execution_count": null,
      "outputs": [
        {
          "output_type": "stream",
          "name": "stdout",
          "text": [
            "['La', 'sabiduria', 'popular', 'enseña.\\n\"Las', 'adulaciones', 'perfumes:', 'logran', 'deleitar,', 'deben', 'tragar\".']\n"
          ]
        }
      ]
    },
    {
      "cell_type": "code",
      "source": [
        "wp_tokenizer = WordPunctTokenizer()\n",
        "wp_tokens = wp_tokenizer.tokenize(tweet_txt)\n",
        "wp_tokens = [t for t in wp_tokens if t not in sw]\n",
        "print(wp_tokens)"
      ],
      "metadata": {
        "colab": {
          "base_uri": "https://localhost:8080/"
        },
        "id": "g3iKuG_vSz0b",
        "outputId": "dbc879e9-f624-4fb1-986a-8f715567ee45"
      },
      "execution_count": null,
      "outputs": [
        {
          "output_type": "stream",
          "name": "stdout",
          "text": [
            "['La', 'sabiduria', 'popular', 'enseña', '.', '\"', 'Las', 'adulaciones', 'perfumes', ':', 'logran', 'deleitar', ',', 'deben', 'tragar', '\".']\n"
          ]
        }
      ]
    },
    {
      "cell_type": "markdown",
      "source": [
        "### De las salidas se observa que para este caso especifico el whitespace tokenizer da un mejor resultado al solo incluir las palabras. Los otros tokenizadores tienen problemas con las comillas, y el SpaceTokenizer no identifica el salto de linea."
      ],
      "metadata": {
        "id": "tFKmRhF0S3Jt"
      }
    },
    {
      "cell_type": "markdown",
      "source": [
        "## Pregunta 8"
      ],
      "metadata": {
        "id": "mwgf2YqdC2PD"
      }
    },
    {
      "cell_type": "code",
      "source": [
        "from nltk import regexp_tokenize\n",
        "\n",
        "tokens = regexp_tokenize(tweet_txt, pattern=r\"\\s|[\\.,;:\\\"']\", gaps=True)\n",
        "print(tokens)"
      ],
      "metadata": {
        "colab": {
          "base_uri": "https://localhost:8080/"
        },
        "id": "SQSu8EAgC3Td",
        "outputId": "147f1fa7-fa8e-4ff0-c19d-60fed9d25ac2"
      },
      "execution_count": null,
      "outputs": [
        {
          "output_type": "stream",
          "name": "stdout",
          "text": [
            "['La', 'sabiduria', 'popular', 'enseña', 'Las', 'adulaciones', 'son', 'como', 'los', 'perfumes', 'logran', 'deleitar', 'pero', 'no', 'se', 'deben', 'tragar']\n"
          ]
        }
      ]
    },
    {
      "cell_type": "markdown",
      "source": [
        "## Pregunta 9"
      ],
      "metadata": {
        "id": "F5_LEIKBC31u"
      }
    },
    {
      "cell_type": "code",
      "source": [
        "from nltk.stem import PorterStemmer"
      ],
      "metadata": {
        "id": "9dl0SnqBD2xt"
      },
      "execution_count": null,
      "outputs": []
    },
    {
      "cell_type": "code",
      "source": [
        "ps = PorterStemmer()"
      ],
      "metadata": {
        "id": "mSdLxQHFI8Cd"
      },
      "execution_count": null,
      "outputs": []
    },
    {
      "cell_type": "code",
      "source": [
        "def info_book(book):\n",
        "  \n",
        "  tot_sent = len(sent_tokenize(corpus_esp.raw(book)))\n",
        "  tot_words = len([w for w in corpus_esp.words(book) if w.lower().isalpha()])\n",
        "  tot_empty = len([w for w in corpus_esp.words(book) if w in sw and w.lower().isalpha()])\n",
        "  token_per_sent = tot_words/tot_sent\n",
        "  tot_pr = len(BlanklineTokenizer().tokenize(corpus_esp.raw(book)))\n",
        "  sent_per_com = tot_sent/tot_pr\n",
        "  sentence_count = 0\n",
        "  root_freq =  nltk.FreqDist(ps.stem(w) for w in corpus_esp.words(book) if w not in sw and w.lower().isalpha() and ps.stem(w) not in sw)\n",
        "  root_comm = root_freq.most_common(5)\n",
        "  print(\"1. Total de oraciones: \" + str(tot_sent))\n",
        "  print(\"2. Total de tokens: \" + str(tot_words))\n",
        "  print(\"3. Total de palabras vacías: \" + str(tot_empty))\n",
        "  print(\"4. Número medio de oraciones por comentario: \" + str(sent_per_com))\n",
        "  print(\"5. Número medio de tokens por oración: \" + str(token_per_sent))\n",
        "  print(\"5. 5 raíces más comunes: \" + str(root_comm))"
      ],
      "metadata": {
        "id": "ZOh8GP0FC47H"
      },
      "execution_count": null,
      "outputs": []
    },
    {
      "cell_type": "code",
      "source": [
        "book_to_analyze = \"cuentos_allan_poe_esp.txt\"\n",
        "info_book(book_to_analyze)"
      ],
      "metadata": {
        "colab": {
          "base_uri": "https://localhost:8080/"
        },
        "id": "InuVBOe8F5Wf",
        "outputId": "e0c8ab3f-45e1-4732-ba56-f4b0f6b59a32"
      },
      "execution_count": null,
      "outputs": [
        {
          "output_type": "stream",
          "name": "stdout",
          "text": [
            "1. Total de oraciones: 2712\n",
            "2. Total de tokens: 56679\n",
            "3. Total de palabras vacías: 25886\n",
            "4. Número medio de oraciones por comentario: 3.808988764044944\n",
            "5. Número medio de tokens por oración: 20.89933628318584\n",
            "5. 5 raíces más comunes: [('toda', 102), ('vez', 98), ('gran', 97), ('entonc', 92), ('ojo', 91)]\n"
          ]
        }
      ]
    },
    {
      "cell_type": "code",
      "source": [],
      "metadata": {
        "id": "bF8X6fr9F9Ms"
      },
      "execution_count": null,
      "outputs": []
    }
  ]
}